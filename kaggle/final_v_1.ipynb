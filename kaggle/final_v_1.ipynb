{
 "cells": [
  {
   "cell_type": "markdown",
   "metadata": {},
   "source": [
    "# 1. Introduction"
   ]
  },
  {
   "cell_type": "markdown",
   "metadata": {},
   "source": [
    "### Importing necessary packages"
   ]
  },
  {
   "cell_type": "code",
   "execution_count": 2,
   "metadata": {},
   "outputs": [],
   "source": [
    "import pandas as pd\n",
    "import numpy as np\n",
    "import os\n",
    "import seaborn as sns\n",
    "import matplotlib.pyplot as plt\n",
    "import xgboost as xgb\n",
    "import random\n",
    "import seaborn as sns\n",
    "from datetime import datetime\n",
    "from sklearn.ensemble import ExtraTreesClassifier\n",
    "from sklearn.model_selection import StratifiedKFold\n",
    "from sklearn.feature_selection import RFECV\n",
    "from sklearn.model_selection import train_test_split\n",
    "from sklearn.model_selection import RandomizedSearchCV\n",
    "from scipy import stats\n",
    "from sklearn import metrics\n",
    "from sklearn.utils import shuffle"
   ]
  },
  {
   "cell_type": "code",
   "execution_count": 11,
   "metadata": {},
   "outputs": [],
   "source": [
    "import warnings # Suppress depreciation warnings for the sklearn API of XGBoost."
   ]
  },
  {
   "cell_type": "markdown",
   "metadata": {},
   "source": [
    "Text goes here"
   ]
  },
  {
   "cell_type": "markdown",
   "metadata": {},
   "source": [
    "# 2. Explanatory Data Analysis"
   ]
  },
  {
   "cell_type": "code",
   "execution_count": 150,
   "metadata": {},
   "outputs": [],
   "source": [
    "os.chdir(\"C:/Users/TonyG/Documents/GitHub/bads/kaggle\") # Tony\n",
    "#os.chdir(\"C:/Users/erin-/Documents/bads/kaggle\") # Erin\n",
    "data = pd.read_csv(\"./data/BADS_WS2021_known.csv\", sep = \",\", index_col='order_item_id') # Known data set\n",
    "\n",
    "data_u = pd.read_csv(\"./data/BADS_WS2021_unknown.csv\", sep = \",\", index_col='order_item_id') # Unknown data set"
   ]
  },
  {
   "cell_type": "markdown",
   "metadata": {},
   "source": [
    "During our initial analysis we found that some sizes where encoded as upper cases in the unknown data set and as lower cases in the known data set. Since those sizes where otherwise identical, e.g. *XL* and *xl* we convert all sizes to lower cases to avoid seperation of identical categories."
   ]
  },
  {
   "cell_type": "code",
   "execution_count": 151,
   "metadata": {},
   "outputs": [],
   "source": [
    "data[\"item_size\"] = data[\"item_size\"].str.lower()\n",
    "data_u[\"item_size\"] = data_u[\"item_size\"].str.lower()"
   ]
  },
  {
   "cell_type": "markdown",
   "metadata": {},
   "source": [
    "Convert *item_size*, *item_color*, *user_title* and *user_state* to categories, *return* to bool and finally *order_date*, *user_reg_date*, *delivery_date* and *user_dob* to datetime."
   ]
  },
  {
   "cell_type": "code",
   "execution_count": 152,
   "metadata": {},
   "outputs": [],
   "source": [
    "filter_date = [\"order_date\", \"user_reg_date\", \"delivery_date\", \"user_dob\"] # filter for variables to be changed to datetime\n",
    "data[filter_date] = data[filter_date].apply(pd.to_datetime,format = \"%Y-%m-%d\") # change variables type to datetime\n",
    "\n",
    "filter_cat = [\"item_size\", \"item_color\", \"user_title\", \"user_state\"] # filter for variables to be changed to category\n",
    "data[filter_cat] = data[filter_cat].astype(\"category\") # change variables type to category\n",
    "\n",
    "data[\"return\"] = data[\"return\"].astype(bool) # Change return type to bool\n",
    "\n",
    "# Repeat exercise for unknown data set\n",
    "data_u[filter_date] = data_u[filter_date].apply(pd.to_datetime,format = \"%Y-%m-%d\")\n",
    "data_u[filter_cat] = data_u[filter_cat].astype(\"category\")"
   ]
  },
  {
   "cell_type": "markdown",
   "metadata": {},
   "source": [
    "First, let us look at categories for the variables *item_size* and *item_color* that only appear in the unknown or in the known data set."
   ]
  },
  {
   "cell_type": "code",
   "execution_count": 153,
   "metadata": {},
   "outputs": [],
   "source": [
    "union_size = data[\"item_size\"].cat.categories.sort_values().intersection(data_u[\"item_size\"].cat.categories.sort_values()) # Get the union of all sizes from both datasets\n",
    "union_col = data[\"item_color\"].cat.categories.sort_values().intersection(data_u[\"item_color\"].cat.categories.sort_values()) # Get the union of all colors from both datasets\n",
    "\n",
    "difference_known_size = data[\"item_size\"].cat.categories.sort_values().difference(union_size) # Item sizes that don't appear in the unknown data set\n",
    "difference_known_color = data[\"item_color\"].cat.categories.sort_values().difference(union_col) # Item colors that don't appear in the unknown data set\n",
    "\n",
    "difference_unknown_size = data_u[\"item_size\"].cat.categories.sort_values().difference(union_size) # Item sizes that don't appear in the known data set\n",
    "difference_unknown_color = data_u[\"item_color\"].cat.categories.sort_values().difference(union_col) # Item colors that don't appear in the known data set"
   ]
  },
  {
   "cell_type": "markdown",
   "metadata": {},
   "source": [
    "Further insight into the sizes and colors that only appear in the known data set."
   ]
  },
  {
   "cell_type": "code",
   "execution_count": 154,
   "metadata": {},
   "outputs": [
    {
     "name": "stdout",
     "output_type": "stream",
     "text": [
      "Index(['105', '2+', '3132', '3634', '3834', '4034', '49', '58', '80', '84'], dtype='object')\n",
      "Index(['amethyst', 'apricot', 'avocado', 'baltic blue', 'caramel', 'curled',\n",
      "       'currant purple', 'dark grey', 'mint', 'opal'],\n",
      "      dtype='object')\n",
      "mint              137\n",
      "dark grey          39\n",
      "baltic blue        20\n",
      "curled             13\n",
      "apricot            10\n",
      "caramel            10\n",
      "currant purple      7\n",
      "amethyst            5\n",
      "avocado             4\n",
      "opal                2\n",
      "Name: item_color, dtype: int64\n",
      "58      5\n",
      "80      2\n",
      "2+      2\n",
      "3634    1\n",
      "3132    1\n",
      "49      1\n",
      "84      1\n",
      "4034    1\n",
      "3834    1\n",
      "105     1\n",
      "Name: item_size, dtype: int64\n"
     ]
    },
    {
     "data": {
      "text/plain": [
       "(None, None)"
      ]
     },
     "execution_count": 154,
     "metadata": {},
     "output_type": "execute_result"
    }
   ],
   "source": [
    "print(difference_known_size) # Sizes not in unknown\n",
    "print(difference_known_color) # Colors not in unknown\n",
    "\n",
    "# Observations per sizes category\n",
    "obs_diff_known_siz = data.loc[data[\"item_size\"].isin(difference_known_size), \"item_size\"].value_counts()\n",
    "\n",
    "# Observations per color category\n",
    "obs_diff_known_col = data.loc[data[\"item_color\"].isin(difference_known_color), \"item_color\"].value_counts()\n",
    "print(obs_diff_known_col[obs_diff_known_col > 0]), print(obs_diff_known_siz[obs_diff_known_siz > 0])"
   ]
  },
  {
   "cell_type": "markdown",
   "metadata": {},
   "source": [
    "Same for the unknown colors and sizes."
   ]
  },
  {
   "cell_type": "code",
   "execution_count": 155,
   "metadata": {},
   "outputs": [
    {
     "name": "stdout",
     "output_type": "stream",
     "text": [
      "Index(['110', '122', '4232', '95'], dtype='object')\n",
      "Index([], dtype='object')\n",
      "Series([], Name: item_color, dtype: int64)\n",
      "122     3\n",
      "4232    1\n",
      "110     1\n",
      "95      1\n",
      "Name: item_size, dtype: int64\n"
     ]
    },
    {
     "data": {
      "text/plain": [
       "(None, None)"
      ]
     },
     "execution_count": 155,
     "metadata": {},
     "output_type": "execute_result"
    }
   ],
   "source": [
    "print(difference_unknown_size) # Sizes not in unknown\n",
    "print(difference_unknown_color) # Colors not in unknown\n",
    "\n",
    "# Observations per sizes category\n",
    "obs_diff_unknown_siz = data_u.loc[data_u[\"item_size\"].isin(difference_unknown_size), \"item_size\"].value_counts()\n",
    "\n",
    "# Observations per color category\n",
    "obs_diff_unknown_col = data_u.loc[data_u[\"item_color\"].isin(difference_unknown_color), \"item_color\"].value_counts()\n",
    "print(obs_diff_unknown_col[obs_diff_unknown_col > 0]), print(obs_diff_unknown_siz[obs_diff_unknown_siz > 0])"
   ]
  },
  {
   "cell_type": "markdown",
   "metadata": {},
   "source": [
    "Display categories from *item_size* and *item_color* which have a return ration of either 0 or 1 and the respective number of observations for those cases."
   ]
  },
  {
   "cell_type": "code",
   "execution_count": 204,
   "metadata": {},
   "outputs": [
    {
     "name": "stdout",
     "output_type": "stream",
     "text": [
      "item_size\n",
      "12+     1.0\n",
      "2+      1.0\n",
      "3132    1.0\n",
      "4034    1.0\n",
      "80      1.0\n",
      "84      1.0\n",
      "dtype: float64 Series([], dtype: float64)\n"
     ]
    }
   ],
   "source": [
    "tab_size = pd.crosstab(data.item_size, data[\"return\"]).apply(lambda r: r/r.sum(), axis=1)\n",
    "ratios_size = (tab_size[1]- tab_size[0])[(tab_size[1] - tab_size[0]) == 1]\n",
    "\n",
    "tab_color = pd.crosstab(data.item_color, data[\"return\"]).apply(lambda r: r/r.sum(), axis=1)\n",
    "ratios_col = (tab_color[1]- tab_color[0])[(tab_color[1] - tab_color[0]) == 1]\n",
    "\n",
    "print(ratios_size, ratios_col)"
   ]
  },
  {
   "cell_type": "markdown",
   "metadata": {},
   "source": [
    "Now display the number of observations for those categories. Since *item_color* doesn't have such a category only the observations for *item_size* are printed."
   ]
  },
  {
   "cell_type": "code",
   "execution_count": 203,
   "metadata": {},
   "outputs": [
    {
     "data": {
      "text/plain": [
       "80      2\n",
       "2+      2\n",
       "4034    1\n",
       "12+     1\n",
       "3132    1\n",
       "84      1\n",
       "Name: item_size, dtype: int64"
      ]
     },
     "execution_count": 203,
     "metadata": {},
     "output_type": "execute_result"
    }
   ],
   "source": [
    "sizes_obs = data.loc[data.item_size.isin(ratios_size.index), \"item_size\"].value_counts()\n",
    "sizes_obs[sizes_obs > 0]"
   ]
  },
  {
   "cell_type": "markdown",
   "metadata": {},
   "source": [
    "We create plots for the variable *item_size* and *item_color* which depicts the ratio of returned items falling into the respective category. The plots are ordered in descending order regarding the number of items that have the respective category."
   ]
  },
  {
   "cell_type": "code",
   "execution_count": 157,
   "metadata": {},
   "outputs": [
    {
     "data": {
      "image/png": "[encoded data removed]",
      "text/plain": [
       "<Figure size 1224x288 with 1 Axes>"
      ]
     },
     "metadata": {
      "needs_background": "light"
     },
     "output_type": "display_data"
    }
   ],
   "source": [
    "color_rel = data.groupby(['return', 'item_color']).size().reset_index() # Count False/True per category\n",
    "color_rel = color_rel.pivot(columns='return', index='item_color', values=0)  # coerse to smaller data frame\n",
    "color_rel = color_rel.reindex(color_rel.iloc[:, 0].sort_values(ascending = False).index) # Sort by number of occurences of the category\n",
    "color_rel = color_rel.div(np.sum(color_rel, axis = 1).values, axis = 0) # convert absolute number to proportions\n",
    "\n",
    "plot_1 = color_rel.plot(kind='bar', stacked = True, figsize = (17, 4), title = \"Relative proportions of returned items vs. item color\",\n",
    "              xlabel = \"Item Color\", ylabel = \"Proportion\", yticks = np.arange(0, 1.1, step = 0.1))\n",
    "plot_1.axhline(y = .5, color = \"black\")\n",
    "plot_1.axhline(y = 0.475, color = \"dimgrey\", linestyle = \"--\")\n",
    "plot_1.axhline(y = 0.525, color = \"dimgrey\", linestyle = \"--\"); # plot "
   ]
  },
  {
   "cell_type": "code",
   "execution_count": 158,
   "metadata": {},
   "outputs": [
    {
     "data": {
      "image/png": "[encoded data removed]",
      "text/plain": [
       "<Figure size 1224x288 with 1 Axes>"
      ]
     },
     "metadata": {
      "needs_background": "light"
     },
     "output_type": "display_data"
    }
   ],
   "source": [
    "size_rel = data.groupby(['return', 'item_size']).size().reset_index() # Count False/True per category\n",
    "size_rel = size_rel.pivot(columns='return', index='item_size', values=0)  # coerse to smaller data frame\n",
    "size_rel = size_rel.reindex(size_rel.iloc[:, 0].sort_values(ascending = False).index) # Sort by number of occurences of the category\n",
    "size_rel = size_rel.div(np.sum(size_rel, axis = 1).values, axis = 0) # convert absolute number to proportions\n",
    "\n",
    "plot_2 = size_rel.plot(kind='bar', stacked = True, figsize = (17, 4), title = \"Relative proportions of returned items vs. item size\",\n",
    "              xlabel = \"Item Size\", ylabel = \"Proportion\", yticks = np.arange(0, 1.1, step = 0.1))\n",
    "plot_2.axhline(y = .5, color = \"black\")\n",
    "plot_2.axhline(y = 0.475, color = \"dimgrey\", linestyle = \"--\")\n",
    "plot_2.axhline(y = 0.525, color = \"dimgrey\", linestyle = \"--\"); # plot "
   ]
  },
  {
   "cell_type": "markdown",
   "metadata": {},
   "source": [
    "Next we plot the absolute number of returned/not returned items for *item_size* and *item_color*"
   ]
  },
  {
   "cell_type": "code",
   "execution_count": 159,
   "metadata": {},
   "outputs": [
    {
     "data": {
      "image/png": "[encoded data removed]",
      "text/plain": [
       "<Figure size 1224x288 with 2 Axes>"
      ]
     },
     "metadata": {
      "needs_background": "light"
     },
     "output_type": "display_data"
    }
   ],
   "source": [
    "size_abs = data.groupby(['return', 'item_size']).size().reset_index().pivot(columns='return', index='item_size', values=0) # Count False/True per category and coerse to smaller data frame \n",
    "size_abs = size_abs.reindex(size_abs.iloc[:, 0].sort_values(ascending = False).index) # Sort by number of occurences of the category\n",
    "size_abs.plot(kind='bar', subplots = True, figsize = (17, 4), title = [\"Absolute occurence of returned items vs. item size\", \"\"],\n",
    "              xlabel = \"Item Size\", ylabel = \"No. of Items\");"
   ]
  },
  {
   "cell_type": "code",
   "execution_count": 160,
   "metadata": {},
   "outputs": [
    {
     "data": {
      "image/png": "[encoded data removed]",
      "text/plain": [
       "<Figure size 1224x288 with 2 Axes>"
      ]
     },
     "metadata": {
      "needs_background": "light"
     },
     "output_type": "display_data"
    }
   ],
   "source": [
    "color_abs = data.groupby(['return', 'item_color']).size().reset_index().pivot(columns='return', index='item_color', values=0) # Count False/True per category and coerse to smaller data frame \n",
    "color_abs = color_abs.reindex(color_abs.iloc[:, 0].sort_values(ascending = False).index) # Sort by number of occurences of the category\n",
    "color_abs.plot(kind='bar', subplots = True, figsize = (17, 4), title = [\"Absolute occurence of returned items vs. item color\", \"\"],\n",
    "              xlabel = \"Item Color\", ylabel = \"No. of Items\");"
   ]
  },
  {
   "cell_type": "markdown",
   "metadata": {},
   "source": [
    "Since one can assume that the item price plays an important role in the customer's decision process whether he or she returns the item, we might also look at the distribution of *item_price* grouped by the variable *return*."
   ]
  },
  {
   "cell_type": "code",
   "execution_count": 161,
   "metadata": {},
   "outputs": [
    {
     "data": {
      "text/plain": [
       "Text(0.5, 1.0, '')"
      ]
     },
     "execution_count": 161,
     "metadata": {},
     "output_type": "execute_result"
    },
    {
     "data": {
      "image/png": "[encoded data removed]",
      "text/plain": [
       "<Figure size 1224x432 with 1 Axes>"
      ]
     },
     "metadata": {
      "needs_background": "light"
     },
     "output_type": "display_data"
    }
   ],
   "source": [
    "plot_price = data.loc[:, [\"return\", \"item_price\"]].boxplot(by = \"return\", figsize = (17, 6),\n",
    "                                                           vert = False, widths = 0.7)\n",
    "plot_price.set_xlabel(\"Item Price\")\n",
    "plot_price.set_ylabel(\"Item returned\")\n",
    "plot_price.set_title(\"\")"
   ]
  },
  {
   "cell_type": "code",
   "execution_count": 243,
   "metadata": {},
   "outputs": [
    {
     "data": {
      "text/plain": [
       "<AxesSubplot:xlabel='user_title', ylabel='item_price'>"
      ]
     },
     "execution_count": 243,
     "metadata": {},
     "output_type": "execute_result"
    },
    {
     "data": {
      "image/png": "[encoded data removed]",
      "text/plain": [
       "<Figure size 1008x432 with 1 Axes>"
      ]
     },
     "metadata": {
      "needs_background": "light"
     },
     "output_type": "display_data"
    },
    {
     "data": {
      "text/plain": [
       "<Figure size 432x288 with 0 Axes>"
      ]
     },
     "metadata": {},
     "output_type": "display_data"
    }
   ],
   "source": [
    "fig, ax = plt.subplots(figsize= (14,6))\n",
    "plt.figure()\n",
    "sns.violinplot(ax = ax, x = \"user_title\", y = \"item_price\", hue='return',\n",
    "                           split=True, inner=\"quart\",\n",
    "                           data= data)"
   ]
  },
  {
   "cell_type": "markdown",
   "metadata": {},
   "source": [
    "# 3. Data Preparation"
   ]
  },
  {
   "cell_type": "markdown",
   "metadata": {},
   "source": [
    "### Unify categories for item_size and item_color between unknown and known data set otherwise won't work with XGBoost. "
   ]
  },
  {
   "cell_type": "markdown",
   "metadata": {},
   "source": [
    "Unification for known dataset, for unknown see below."
   ]
  },
  {
   "cell_type": "code",
   "execution_count": 6,
   "metadata": {},
   "outputs": [
    {
     "name": "stdout",
     "output_type": "stream",
     "text": [
      "Known sizes unified.\n",
      "Known colors unified.\n"
     ]
    }
   ],
   "source": [
    "union_size = data[\"item_size\"].cat.categories.sort_values().intersection(data_u[\"item_size\"].cat.categories.sort_values()) # Get the union of all sizes from both datasets\n",
    "union_col = data[\"item_color\"].cat.categories.sort_values().intersection(data_u[\"item_color\"].cat.categories.sort_values()) # Get the union of all colors from both datasets\n",
    "\n",
    "\n",
    "difference_known = data[\"item_size\"].cat.categories.sort_values().difference(union_size)\n",
    "\n",
    "if len(difference_known) > 0:\n",
    "    data[\"item_size\"] = np.where(data['item_size'].isin(difference_known), 'Difference', data['item_size'])\n",
    "    data[\"item_size\"] = data[\"item_size\"].astype(\"category\")\n",
    "    print(\"Known sizes unified.\")\n",
    "else: \n",
    "    data[\"item_size\"].cat.add_categories(\"Difference\", inplace = True)\n",
    "    print(\"No known sizes to unify.\")\n",
    "\n",
    "difference_known = data[\"item_color\"].cat.categories.sort_values().difference(union_col)\n",
    "\n",
    "if len(difference_known) > 0:\n",
    "    data[\"item_color\"] = np.where(data['item_color'].isin(difference_known), 'Difference', data['item_color'])\n",
    "    data[\"item_color\"] = data[\"item_color\"].astype(\"category\")\n",
    "    print(\"Known colors unified.\")\n",
    "else:\n",
    "    data[\"item_color\"].cat.add_categories(\"Difference\", inplace = True)\n",
    "    print(\"No known color to unify.\")"
   ]
  },
  {
   "cell_type": "code",
   "execution_count": 7,
   "metadata": {},
   "outputs": [
    {
     "name": "stdout",
     "output_type": "stream",
     "text": [
      "Unknown sizes unified.\n",
      "No unknown colors to unify.\n"
     ]
    }
   ],
   "source": [
    "# Unknown Data set\n",
    "\n",
    "difference_unknown = data_u[\"item_size\"].cat.categories.sort_values().difference(union_size)\n",
    "\n",
    "if len(difference_unknown) > 0:\n",
    "    data_u[\"item_size\"] = np.where(data_u['item_size'].isin(difference_unknown), 'Difference', data_u['item_size'])\n",
    "    data_u[\"item_size\"] = data_u[\"item_size\"].astype(\"category\")\n",
    "    print(\"Unknown sizes unified.\")\n",
    "else:\n",
    "    data_u[\"item_size\"].cat.add_categories(\"Difference\", inplace = True)\n",
    "    print(\"No unknown sizes to unify.\")\n",
    "\n",
    "difference_unknown = data_u[\"item_color\"].cat.categories.sort_values().difference(union_col)\n",
    "\n",
    "if len(difference_unknown) > 0:\n",
    "    data_u[\"item_color\"] = np.where(data_u['item_color'].isin(difference_unknown), 'Difference', data_u['item_color'])\n",
    "    data_u[\"item_color\"] = data_u[\"item_color\"].astype(\"category\")\n",
    "    print(\"Unknown color unified.\")\n",
    "else:\n",
    "    data_u[\"item_color\"].cat.add_categories(\"Difference\", inplace = True)\n",
    "    print(\"No unknown colors to unify.\")"
   ]
  },
  {
   "cell_type": "markdown",
   "metadata": {},
   "source": [
    "### Feature selection for the variables item_size and item_color"
   ]
  },
  {
   "cell_type": "markdown",
   "metadata": {},
   "source": [
    "First we coerse all categories of item_size together where the return ratio is either $\\mathbb{P}$-a.s. False or True. "
   ]
  },
  {
   "cell_type": "code",
   "execution_count": 8,
   "metadata": {},
   "outputs": [
    {
     "name": "stdout",
     "output_type": "stream",
     "text": [
      "Categories merged.\n"
     ]
    }
   ],
   "source": [
    "help1 = pd.crosstab(data.item_size, data[\"return\"]).apply(lambda r: r/r.sum(), axis=1)\n",
    "size_f, size_t = help1[help1[0] == 1], help1[help1[1] == 1] # Item sizes where return is either 0 or 1\n",
    "\n",
    "if len(size_f.index) > 0 or len(size_t.index) > 0:\n",
    "    data[\"item_size\"] = np.where(data['item_size'].isin(size_t.index), 'Other_true', data['item_size']) # Coerce to new category\n",
    "    data[\"item_size\"] = np.where(data['item_size'].isin(size_f.index), 'Other_false', data['item_size'])\n",
    "\n",
    "    # Repeat for unknown data set but only use categories identified in the known data set\n",
    "    data_u[\"item_size\"] = np.where(data_u['item_size'].isin(size_t.index), 'Other_true', data_u['item_size']) # Coerce to new category\n",
    "    data_u[\"item_size\"] = np.where(data_u['item_size'].isin(size_f.index), 'Other_false', data_u['item_size'])\n",
    "    print(\"Categories merged.\")\n",
    "else:\n",
    "    print(\"No uninformative categories.\")"
   ]
  },
  {
   "cell_type": "markdown",
   "metadata": {},
   "source": [
    "We do the same for the variable item_color"
   ]
  },
  {
   "cell_type": "code",
   "execution_count": 9,
   "metadata": {},
   "outputs": [
    {
     "name": "stdout",
     "output_type": "stream",
     "text": [
      "No uninformative categories.\n"
     ]
    }
   ],
   "source": [
    "help1 = pd.crosstab(data.item_color, data[\"return\"]).apply(lambda r: r/r.sum(), axis=1)\n",
    "color_f, color_t = help1[help1[0] == 1], help1[help1[1] == 1] # Item sizes where return is either 0 or 1\n",
    "\n",
    "if len(color_f.index) > 0 or len(color_t.index) > 0:\n",
    "    data[\"item_color\"] = np.where(data['item_color'].isin(color_t.index), 'Other_true', data['item_color']) # Coerce to new category\n",
    "    data[\"item_color\"] = np.where(data['item_color'].isin(color_f.index), 'Other_false', data['item_color'])\n",
    "    \n",
    "    # Repeat for unknown data set but only use categories identified in the known data set\n",
    "    data_u[\"item_color\"] = np.where(data_u['item_color'].isin(color_t.index), 'Other_true', data_u['item_color']) # Coerce to new category\n",
    "    data_u[\"item_color\"] = np.where(data_u['item_color'].isin(color_f.index), 'Other_false', data_u['item_color'])\n",
    "    print(\"Categories merged.\")\n",
    "else:\n",
    "    print(\"No uninformative categories.\")\n",
    "\n",
    "data[filter_cat] = data[filter_cat].astype(\"category\")\n",
    "data_u[filter_cat] = data_u[filter_cat].astype(\"category\")"
   ]
  },
  {
   "cell_type": "markdown",
   "metadata": {},
   "source": [
    "Next we coerce categories by their difference in true to false ratio w.r.t. to the boolean return. Our initial threshold is 0.05 so 5%"
   ]
  },
  {
   "cell_type": "code",
   "execution_count": 10,
   "metadata": {},
   "outputs": [],
   "source": [
    "help2 = pd.crosstab(data.item_size, data[\"return\"]).apply(lambda r: r/r.sum(), axis=1)\n",
    "\n",
    "threshold_percent = 0.05\n",
    "series = pd.value_counts(data['item_size'])\n",
    "mask = (help2[0]-help2[1]).abs().lt(threshold_percent)\n",
    "data[\"item_size\"] = np.where(data['item_size'].isin(series[mask].index), 'Other', data['item_size'])\n",
    "data_u[\"item_size\"] = np.where(data_u['item_size'].isin(series[mask].index), 'Other', data_u['item_size'])\n",
    "\n",
    "data[filter_cat] = data[filter_cat].astype(\"category\")\n",
    "data_u[filter_cat] = data_u[filter_cat].astype(\"category\")"
   ]
  },
  {
   "cell_type": "markdown",
   "metadata": {},
   "source": [
    "Same for item_color"
   ]
  },
  {
   "cell_type": "code",
   "execution_count": 11,
   "metadata": {},
   "outputs": [],
   "source": [
    "help2 = pd.crosstab(data.item_color, data[\"return\"]).apply(lambda r: r/r.sum(), axis=1)\n",
    "\n",
    "threshold_percent = 0.05\n",
    "series = pd.value_counts(data['item_color'])\n",
    "mask = (help2[0]-help2[1]).abs().lt(threshold_percent)\n",
    "data[\"item_color\"] = np.where(data['item_color'].isin(series[mask].index), 'Other', data['item_color'])\n",
    "data_u[\"item_color\"] = np.where(data_u['item_color'].isin(series[mask].index), 'Other', data_u['item_color'])\n",
    "\n",
    "data[filter_cat] = data[filter_cat].astype(\"category\")\n",
    "data_u[filter_cat] = data_u[filter_cat].astype(\"category\")"
   ]
  },
  {
   "cell_type": "markdown",
   "metadata": {},
   "source": [
    "Display how many categories have been merged for the known and unknown dataset"
   ]
  },
  {
   "cell_type": "code",
   "execution_count": 12,
   "metadata": {},
   "outputs": [
    {
     "data": {
      "text/plain": [
       "(item_size     31\n",
       " item_color    10\n",
       " dtype: int64,\n",
       " item_size     30\n",
       " item_color    19\n",
       " dtype: int64)"
      ]
     },
     "execution_count": 12,
     "metadata": {},
     "output_type": "execute_result"
    }
   ],
   "source": [
    "og_data[filter_cat] = og_data[filter_cat].astype(\"category\")\n",
    "og_data_u[filter_cat] = og_data_u[filter_cat].astype(\"category\")\n",
    "\n",
    "# First unknown, then known, difference of categories\n",
    "og_data_u.loc[:, [\"item_size\", \"item_color\"]].nunique()-data_u.loc[:, [\"item_size\", \"item_color\"]].nunique(), og_data.loc[:, [\"item_size\", \"item_color\"]].nunique()-data.loc[:, [\"item_size\", \"item_color\"]].nunique()"
   ]
  },
  {
   "cell_type": "code",
   "execution_count": 13,
   "metadata": {},
   "outputs": [
    {
     "data": {
      "text/plain": [
       "(item_size     72\n",
       " item_color    58\n",
       " dtype: int64,\n",
       " item_size     72\n",
       " item_color    57\n",
       " dtype: int64)"
      ]
     },
     "execution_count": 13,
     "metadata": {},
     "output_type": "execute_result"
    }
   ],
   "source": [
    "# Remaining number of categories\n",
    "data.loc[:, [\"item_size\", \"item_color\"]].nunique(), data_u.loc[:, [\"item_size\", \"item_color\"]].nunique()"
   ]
  },
  {
   "cell_type": "markdown",
   "metadata": {},
   "source": [
    "### Create Time_to_delivery"
   ]
  },
  {
   "cell_type": "markdown",
   "metadata": {},
   "source": [
    "After some exploration we identified an irregular entry of delivery dates. The date \"1994-12-31\" showed up in 983 rows but the earliest order date is not before 2007. Hence, some data must have been corrupted so that this date was hard coded into the data set instead of a missing value. We cannot determine the concrete reason for this (e.g. item wasn't delivered, delivery date could not be tracked) and for this reason we dropped the 983 observations from our dataset. For protocol: the return ration for those entries was 1/3 for 0 (not retured)."
   ]
  },
  {
   "cell_type": "code",
   "execution_count": 14,
   "metadata": {},
   "outputs": [],
   "source": [
    "data = data[data[\"delivery_date\"] != \"1994-12-31\"]"
   ]
  },
  {
   "cell_type": "code",
   "execution_count": 15,
   "metadata": {},
   "outputs": [],
   "source": [
    "data[\"time_to_delivery\"] = (data[\"delivery_date\"]-data[\"order_date\"]).dt.days"
   ]
  },
  {
   "cell_type": "markdown",
   "metadata": {},
   "source": [
    "### Convert birth date to age in days"
   ]
  },
  {
   "cell_type": "code",
   "execution_count": 16,
   "metadata": {},
   "outputs": [],
   "source": [
    "t1 = data[\"user_dob\"]\n",
    "t2 = datetime.now()\n",
    "\n",
    "data[\"user_age\"] = (t2-t1).dt.days"
   ]
  },
  {
   "cell_type": "markdown",
   "metadata": {},
   "source": [
    "### Convert date of register to customer age in days"
   ]
  },
  {
   "cell_type": "code",
   "execution_count": 17,
   "metadata": {},
   "outputs": [],
   "source": [
    "t1 = data[\"user_reg_date\"]\n",
    "t2 = datetime.now()\n",
    "\n",
    "data[\"customer_age\"] = (t2-t1).dt.days"
   ]
  },
  {
   "cell_type": "code",
   "execution_count": 18,
   "metadata": {},
   "outputs": [],
   "source": [
    "# Repeat for unknown data\n",
    "data_u[\"time_to_delivery\"] = (data_u[\"delivery_date\"]-data_u[\"order_date\"]).dt.days\n",
    "\n",
    "t1 = data_u[\"user_dob\"]\n",
    "t2 = datetime.now()\n",
    "\n",
    "data_u[\"user_age\"] = (t2-t1).dt.days\n",
    "\n",
    "t1 = data_u[\"user_reg_date\"]\n",
    "t2 = datetime.now()\n",
    "\n",
    "data_u[\"customer_age\"] = (t2-t1).dt.days\n",
    "\n",
    "data_u = data_u.drop(labels = [\"order_date\", \"delivery_date\", \"user_dob\", \"user_reg_date\"], axis = 1)"
   ]
  },
  {
   "cell_type": "markdown",
   "metadata": {},
   "source": [
    "### Delete old date variables"
   ]
  },
  {
   "cell_type": "code",
   "execution_count": 19,
   "metadata": {},
   "outputs": [],
   "source": [
    "backup = data.copy()\n",
    "data = data.drop(labels = [\"order_date\", \"delivery_date\", \"user_dob\", \"user_reg_date\"], axis = 1)"
   ]
  },
  {
   "cell_type": "markdown",
   "metadata": {},
   "source": [
    "### Feature selection using recursive selection via variable importance and cross-validation"
   ]
  },
  {
   "cell_type": "markdown",
   "metadata": {},
   "source": [
    "First convert all category data via one-hot encoding "
   ]
  },
  {
   "cell_type": "code",
   "execution_count": 20,
   "metadata": {},
   "outputs": [],
   "source": [
    "backup = data.copy()\n",
    "backup_u = data_u.copy()\n",
    "\n",
    "dummies = pd.get_dummies(data.select_dtypes(\"category\"))\n",
    "dummies_u = pd.get_dummies(data_u.select_dtypes(\"category\"))\n",
    "backup = backup.drop(labels = data.select_dtypes(\"category\").columns, axis = 1)\n",
    "backup_u = backup_u.drop(labels = data_u.select_dtypes(\"category\").columns, axis = 1)\n",
    "backup = pd.concat([backup, dummies], axis = 1)\n",
    "backup_u = pd.concat([backup_u, dummies_u], axis = 1)\n",
    "\n",
    "data_fs = backup\n",
    "data_u_fs = backup_u"
   ]
  },
  {
   "cell_type": "markdown",
   "metadata": {},
   "source": [
    "Create base tree learner and corresponding data sets"
   ]
  },
  {
   "cell_type": "code",
   "execution_count": 21,
   "metadata": {},
   "outputs": [],
   "source": [
    "X, y = data_fs.drop(labels = [\"return\", \"time_to_delivery\", \"user_age\"], axis = 1), data_fs.loc[:, \"return\"]\n",
    "clf = ExtraTreesClassifier(n_estimators = 100)"
   ]
  },
  {
   "cell_type": "markdown",
   "metadata": {},
   "source": [
    "Actual feature selection using 5-fold stratified cross-validation"
   ]
  },
  {
   "cell_type": "code",
   "execution_count": 22,
   "metadata": {},
   "outputs": [
    {
     "name": "stdout",
     "output_type": "stream",
     "text": [
      "Fitting estimator with 156 features.\n",
      "Fitting estimator with 151 features.\n",
      "Fitting estimator with 146 features.\n",
      "Fitting estimator with 141 features.\n",
      "Fitting estimator with 136 features.\n"
     ]
    },
    {
     "data": {
      "text/plain": [
       "RFECV(cv=StratifiedKFold(n_splits=5, random_state=None, shuffle=False),\n",
       "      estimator=ExtraTreesClassifier(), min_features_to_select=5, n_jobs=-1,\n",
       "      scoring='roc_auc', step=5, verbose=1)"
      ]
     },
     "execution_count": 22,
     "metadata": {},
     "output_type": "execute_result"
    }
   ],
   "source": [
    "min_selection_perc = 5\n",
    "rfecv = RFECV(estimator = clf, step = 5, verbose = 1, min_features_to_select = min_selection_perc,\n",
    "              cv = StratifiedKFold(5), scoring = \"roc_auc\", n_jobs = -1)\n",
    "rfecv.fit(X, y)"
   ]
  },
  {
   "cell_type": "markdown",
   "metadata": {},
   "source": [
    "Display results"
   ]
  },
  {
   "cell_type": "code",
   "execution_count": 23,
   "metadata": {},
   "outputs": [
    {
     "name": "stdout",
     "output_type": "stream",
     "text": [
      "Optimal number of features : 131\n"
     ]
    },
    {
     "data": {
      "image/png": "[encoded data removed]",
      "text/plain": [
       "<Figure size 432x288 with 1 Axes>"
      ]
     },
     "metadata": {
      "needs_background": "light"
     },
     "output_type": "display_data"
    }
   ],
   "source": [
    "print(\"Optimal number of features : %d\" % rfecv.n_features_)\n",
    "\n",
    "# Plot number of features VS. cross-validation scores\n",
    "plt.figure()\n",
    "plt.xlabel(\"Number of features selected\")\n",
    "plt.ylabel(\"Cross validation score (nb of correct classifications)\")\n",
    "plt.plot(range(min_selection_perc,\n",
    "               len(rfecv.grid_scores_) + min_selection_perc),\n",
    "         rfecv.grid_scores_)\n",
    "plt.show()"
   ]
  },
  {
   "cell_type": "markdown",
   "metadata": {},
   "source": [
    "Save the features that will *not* be selected for the final model"
   ]
  },
  {
   "cell_type": "code",
   "execution_count": 24,
   "metadata": {},
   "outputs": [
    {
     "data": {
      "text/plain": [
       "Index(['item_size_14', 'item_size_176', 'item_size_2', 'item_size_3+',\n",
       "       'item_size_3632', 'item_size_3832', 'item_size_4032', 'item_size_43+',\n",
       "       'item_size_44+', 'item_size_45+', 'item_size_46+', 'item_size_54',\n",
       "       'item_size_56', 'item_size_90', 'item_size_Difference',\n",
       "       'item_size_Other_false', 'item_size_Other_true', 'item_color_almond',\n",
       "       'item_color_antique pink', 'item_color_aviator', 'item_color_brwon',\n",
       "       'item_color_copper coin', 'item_color_dark garnet', 'item_color_ebony',\n",
       "       'item_color_kanel'],\n",
       "      dtype='object')"
      ]
     },
     "execution_count": 24,
     "metadata": {},
     "output_type": "execute_result"
    }
   ],
   "source": [
    "drop_vars = X.loc[:, ~rfecv.get_support()].columns\n",
    "drop_vars"
   ]
  },
  {
   "cell_type": "markdown",
   "metadata": {},
   "source": [
    "This will be used later, when we finished the data transformation process, since it is easier to drop the dummies when we converted the data to only contain dummies for categorical data. "
   ]
  },
  {
   "cell_type": "markdown",
   "metadata": {},
   "source": [
    "The following number of unique categories remain:"
   ]
  },
  {
   "cell_type": "code",
   "execution_count": 30,
   "metadata": {},
   "outputs": [
    {
     "data": {
      "text/html": [
       "<div>\n",
       "<style scoped>\n",
       "    .dataframe tbody tr th:only-of-type {\n",
       "        vertical-align: middle;\n",
       "    }\n",
       "\n",
       "    .dataframe tbody tr th {\n",
       "        vertical-align: top;\n",
       "    }\n",
       "\n",
       "    .dataframe thead th {\n",
       "        text-align: right;\n",
       "    }\n",
       "</style>\n",
       "<table border=\"1\" class=\"dataframe\">\n",
       "  <thead>\n",
       "    <tr style=\"text-align: right;\">\n",
       "      <th></th>\n",
       "      <th>count</th>\n",
       "      <th>unique</th>\n",
       "      <th>top</th>\n",
       "      <th>freq</th>\n",
       "    </tr>\n",
       "    <tr>\n",
       "      <th>return</th>\n",
       "      <th></th>\n",
       "      <th></th>\n",
       "      <th></th>\n",
       "      <th></th>\n",
       "    </tr>\n",
       "  </thead>\n",
       "  <tbody>\n",
       "    <tr>\n",
       "      <th>False</th>\n",
       "      <td>53513</td>\n",
       "      <td>58</td>\n",
       "      <td>Other</td>\n",
       "      <td>13285</td>\n",
       "    </tr>\n",
       "    <tr>\n",
       "      <th>True</th>\n",
       "      <td>45415</td>\n",
       "      <td>58</td>\n",
       "      <td>Other</td>\n",
       "      <td>12628</td>\n",
       "    </tr>\n",
       "  </tbody>\n",
       "</table>\n",
       "</div>"
      ],
      "text/plain": [
       "        count unique    top   freq\n",
       "return                            \n",
       "False   53513     58  Other  13285\n",
       "True    45415     58  Other  12628"
      ]
     },
     "execution_count": 30,
     "metadata": {},
     "output_type": "execute_result"
    }
   ],
   "source": [
    "data.groupby(\"return\")[\"item_color\"].describe()"
   ]
  },
  {
   "cell_type": "code",
   "execution_count": 34,
   "metadata": {},
   "outputs": [
    {
     "data": {
      "text/html": [
       "<div>\n",
       "<style scoped>\n",
       "    .dataframe tbody tr th:only-of-type {\n",
       "        vertical-align: middle;\n",
       "    }\n",
       "\n",
       "    .dataframe tbody tr th {\n",
       "        vertical-align: top;\n",
       "    }\n",
       "\n",
       "    .dataframe thead th {\n",
       "        text-align: right;\n",
       "    }\n",
       "</style>\n",
       "<table border=\"1\" class=\"dataframe\">\n",
       "  <thead>\n",
       "    <tr style=\"text-align: right;\">\n",
       "      <th></th>\n",
       "      <th>count</th>\n",
       "      <th>unique</th>\n",
       "      <th>top</th>\n",
       "      <th>freq</th>\n",
       "    </tr>\n",
       "    <tr>\n",
       "      <th>return</th>\n",
       "      <th></th>\n",
       "      <th></th>\n",
       "      <th></th>\n",
       "      <th></th>\n",
       "    </tr>\n",
       "  </thead>\n",
       "  <tbody>\n",
       "    <tr>\n",
       "      <th>False</th>\n",
       "      <td>53513</td>\n",
       "      <td>71</td>\n",
       "      <td>Other</td>\n",
       "      <td>12563</td>\n",
       "    </tr>\n",
       "    <tr>\n",
       "      <th>True</th>\n",
       "      <td>45415</td>\n",
       "      <td>71</td>\n",
       "      <td>Other</td>\n",
       "      <td>12486</td>\n",
       "    </tr>\n",
       "  </tbody>\n",
       "</table>\n",
       "</div>"
      ],
      "text/plain": [
       "        count unique    top   freq\n",
       "return                            \n",
       "False   53513     71  Other  12563\n",
       "True    45415     71  Other  12486"
      ]
     },
     "execution_count": 34,
     "metadata": {},
     "output_type": "execute_result"
    }
   ],
   "source": [
    "data.groupby(\"return\")[\"item_size\"].describe()"
   ]
  },
  {
   "cell_type": "markdown",
   "metadata": {},
   "source": [
    "For some reason all converted object variables (i.e. the category variable) have been reconverted. But I can't be bothered, so:"
   ]
  },
  {
   "cell_type": "code",
   "execution_count": 35,
   "metadata": {},
   "outputs": [],
   "source": [
    "data[filter_cat] = data[filter_cat].astype(\"category\")"
   ]
  },
  {
   "cell_type": "code",
   "execution_count": 36,
   "metadata": {},
   "outputs": [],
   "source": [
    "data.to_pickle('./data/known_cleaned_wo_dummies')"
   ]
  },
  {
   "cell_type": "markdown",
   "metadata": {},
   "source": [
    "## Save Data with dummy encoding"
   ]
  },
  {
   "cell_type": "code",
   "execution_count": 42,
   "metadata": {},
   "outputs": [],
   "source": [
    "backup = data.copy()\n",
    "dummies = pd.get_dummies(data.select_dtypes(\"category\"))\n",
    "backup = backup.drop(labels = [\"item_size\", \"item_color\", \"user_title\", \"user_state\"], axis = 1)\n",
    "backup = pd.concat([backup, dummies], axis = 1)\n",
    "\n",
    "# Unknown Data\n",
    "backup_u = data_u.copy()\n",
    "dummies_u = pd.get_dummies(data_u.select_dtypes(\"category\"))\n",
    "backup_u = backup_u.drop(labels = [\"item_size\", \"item_color\", \"user_title\", \"user_state\"], axis = 1)\n",
    "backup_u = pd.concat([backup_u, dummies_u], axis = 1)\n",
    "\n",
    "backup_u_2 = backup_u # For reduced subset\n",
    "backup_2 = backup"
   ]
  },
  {
   "cell_type": "markdown",
   "metadata": {},
   "source": [
    "Now discard the features that were deemed unimportant by the feature selection approach."
   ]
  },
  {
   "cell_type": "code",
   "execution_count": 43,
   "metadata": {},
   "outputs": [],
   "source": [
    "backup = backup.drop(labels = drop_vars, axis = 1)\n",
    "backup_u = backup_u.drop(labels = drop_vars[drop_vars != \"item_color_Difference\"], axis = 1)"
   ]
  },
  {
   "cell_type": "markdown",
   "metadata": {},
   "source": [
    "We have to make sure that the ordering of the variables for the known data set matches the ordering of the unknown data set. But let us first check whether the variables are identical (except the target of course)."
   ]
  },
  {
   "cell_type": "code",
   "execution_count": 44,
   "metadata": {},
   "outputs": [
    {
     "data": {
      "text/plain": [
       "(Index(['item_color_Difference', 'return'], dtype='object'),\n",
       " Index([], dtype='object'))"
      ]
     },
     "execution_count": 44,
     "metadata": {},
     "output_type": "execute_result"
    }
   ],
   "source": [
    "backup.columns.difference(backup_u.columns), backup_u.columns.difference(backup.columns)"
   ]
  },
  {
   "cell_type": "markdown",
   "metadata": {},
   "source": [
    "As we can see item_color_Difference, i.e. item colors that appear in the known data set but not in the unknown data set is the only variable which is in the known data set but not in the unknown data set. This however, implies that any information we have on those colors regarding the prediction of the target is useless since none of the observations in the unknown data set has a dummy value of 1 regarding this variable. We therefore proceed to drop this variable from the known data set. TO DO: Write more robust code such that this exceptional case does not happen again."
   ]
  },
  {
   "cell_type": "code",
   "execution_count": 45,
   "metadata": {},
   "outputs": [],
   "source": [
    "backup = backup.drop(labels = \"item_color_Difference\", axis = 1)"
   ]
  },
  {
   "cell_type": "markdown",
   "metadata": {},
   "source": [
    "Finally, rearrange the variables so that the order of the unknown data set matches the order of the known data set"
   ]
  },
  {
   "cell_type": "code",
   "execution_count": 46,
   "metadata": {},
   "outputs": [],
   "source": [
    "help2 = backup.columns[backup.columns != \"return\"]\n",
    "backup_u = backup_u[help2]\n",
    "\n",
    "#help3 = backup_2.columns[backup_2.columns != \"return\"]\n",
    "#backup_u_2 = backup_u_2[help3]"
   ]
  },
  {
   "cell_type": "code",
   "execution_count": 47,
   "metadata": {},
   "outputs": [],
   "source": [
    "backup.to_pickle('./data/known_cleaned_w_dummies')\n",
    "backup_u.to_pickle('./data/unknown_cleaned_w_dummies')\n",
    "\n",
    "#backup_2.to_pickle('./data/known_cleaned_w_dummies_reduced')\n",
    "#backup_u_2.to_pickle('./data/unknown_cleaned_w_dummies_reduced')"
   ]
  },
  {
   "cell_type": "markdown",
   "metadata": {},
   "source": [
    "# 4. Model Tuning and Selection"
   ]
  },
  {
   "cell_type": "markdown",
   "metadata": {},
   "source": [
    "Load data, could be omitted"
   ]
  },
  {
   "cell_type": "code",
   "execution_count": null,
   "metadata": {},
   "outputs": [],
   "source": [
    "data = pd.read_pickle('./data/known_cleaned_w_dummies')\n",
    "X = data.drop(\"return\", axis = 1)\n",
    "y = data[\"return\"]\n",
    "X.info()"
   ]
  },
  {
   "cell_type": "markdown",
   "metadata": {},
   "source": [
    "### Create test and train sets based on the known dataset via random splitting"
   ]
  },
  {
   "cell_type": "code",
   "execution_count": 4,
   "metadata": {},
   "outputs": [],
   "source": [
    "X_train, X_test, y_train, y_test = train_test_split(X, y, test_size = 0.3, random_state = 314)"
   ]
  },
  {
   "cell_type": "markdown",
   "metadata": {},
   "source": [
    "### Define custom evaluation score for tuning (might be omitted) and custom evaluation function using provided cost matrix "
   ]
  },
  {
   "cell_type": "code",
   "execution_count": 5,
   "metadata": {},
   "outputs": [],
   "source": [
    "def cost_custom_score(estimator, X, y):\n",
    "    zeros = np.zeros(y.shape[0])\n",
    "    hat = 1 * estimator.predict(X)\n",
    "    val = X.loc[:, \"item_price\"]\n",
    "    score = -1 * (np.fmax(np.array(y - hat), zeros) * (0.5 + 0.1 * val) +\n",
    "                 np.fmax(np.array(hat - y), zeros) * (0.5 * val))\n",
    "    return score.sum()"
   ]
  },
  {
   "cell_type": "code",
   "execution_count": 6,
   "metadata": {},
   "outputs": [],
   "source": [
    "def cost_custom_eval(y_true, y_test, X, relative = False):\n",
    "    '''Custom Evaluation based on cost matrix\n",
    "    relative: True: return TP, FP, FN, TN, False: return the aggregated score, i.e. TP + TN + FP + FN\n",
    "    '''\n",
    "    y_true = 1 * y_true # Convert to integer\n",
    "    y_test = 1 * y_test\n",
    "    \n",
    "    zeros = np.zeros(y_true.shape[0]) # zeros for calculation\n",
    "    val = X.loc[:, \"item_price\"] # item_price of item \n",
    "    \n",
    "    TP, TN = np.array([0, 0]) # TP and TN are always 0\n",
    "    \n",
    "    # Calculate FP\n",
    "    FP = np.fmax(np.array(y_test - y_true), zeros) * (0.5 * val)\n",
    "    \n",
    "    # Calculate FN\n",
    "    FN = np.fmax(np.array(y_true - y_test), zeros) * (0.5 + 0.1 * val)\n",
    "    \n",
    "    # If clause for relative parameter\n",
    "    if(relative == True):\n",
    "        return(np.array([TP, FP.sum(), FN.sum(), TN]))\n",
    "    else:\n",
    "        return(np.sum([FP, FN]))\n",
    "    \n",
    "    #score = 1 * (np.fmax(np.array(y_true - y_test), zeros) * (0.5 + 0.1 * val) +\n",
    "    #             np.fmax(np.array(y_test - y_true), zeros) * (0.5 * val))\n",
    "    #return score.sum()"
   ]
  },
  {
   "cell_type": "markdown",
   "metadata": {},
   "source": [
    "### Reference Model Performance"
   ]
  },
  {
   "cell_type": "code",
   "execution_count": 14,
   "metadata": {},
   "outputs": [
    {
     "name": "stderr",
     "output_type": "stream",
     "text": [
      "D:\\Program Files\\Anaconda\\lib\\site-packages\\xgboost\\sklearn.py:888: UserWarning: The use of label encoder in XGBClassifier is deprecated and will be removed in a future release. To remove this warning, do the following: 1) Pass option use_label_encoder=False when constructing XGBClassifier object; and 2) Encode your labels (y) as integers starting with 0, i.e. 0, 1, 2, ..., [num_class - 1].\n",
      "  warnings.warn(label_encoder_deprecation_msg, UserWarning)\n"
     ]
    },
    {
     "name": "stdout",
     "output_type": "stream",
     "text": [
      "[13:23:11] WARNING: C:/Users/Administrator/workspace/xgboost-win64_release_1.3.0/src/learner.cc:1061: Starting in XGBoost 1.3.0, the default evaluation metric used with the objective 'binary:logistic' was changed from 'error' to 'logloss'. Explicitly set eval_metric if you'd like to restore the old behavior.\n"
     ]
    },
    {
     "data": {
      "text/plain": [
       "XGBClassifier(base_score=0.5, booster='gbtree', colsample_bylevel=1,\n",
       "              colsample_bynode=1, colsample_bytree=1, gamma=0, gpu_id=-1,\n",
       "              importance_type='gain', interaction_constraints='',\n",
       "              learning_rate=0.300000012, max_delta_step=0, max_depth=6,\n",
       "              min_child_weight=1, missing=nan, monotone_constraints='()',\n",
       "              n_estimators=100, n_jobs=8, num_parallel_tree=1, random_state=0,\n",
       "              reg_alpha=0, reg_lambda=1, scale_pos_weight=1, subsample=1,\n",
       "              tree_method='exact', validate_parameters=1, verbosity=None)"
      ]
     },
     "execution_count": 14,
     "metadata": {},
     "output_type": "execute_result"
    }
   ],
   "source": [
    "# Train a simple boosted tree classifier and calculate the custom score for this model using the X_test and y_test hold out\n",
    "ref_mod = xgb.XGBClassifier(objective = \"binary:logistic\")\n",
    "ref_mod.fit(X_train, y_train)"
   ]
  },
  {
   "cell_type": "code",
   "execution_count": 15,
   "metadata": {},
   "outputs": [
    {
     "data": {
      "text/plain": [
       "253842.318"
      ]
     },
     "execution_count": 15,
     "metadata": {},
     "output_type": "execute_result"
    }
   ],
   "source": [
    "base_perf = cost_custom_eval(y_test, 1 * ref_mod.predict(X_test), X_test)\n",
    "base_perf"
   ]
  },
  {
   "cell_type": "markdown",
   "metadata": {},
   "source": [
    "### Cross-Validation Tuning"
   ]
  },
  {
   "cell_type": "code",
   "execution_count": 9,
   "metadata": {},
   "outputs": [
    {
     "name": "stdout",
     "output_type": "stream",
     "text": [
      "The total number of fits is: 3000\n"
     ]
    }
   ],
   "source": [
    "fixed_boosting_rnds = True # Implemented a switch whether number of boosting rounds shoul be tuned as well\n",
    "param_grid = {\"max_depth\" : np.arange(5,80, step = 5), # maximum number of nodes for each base learner\n",
    "             \"eta\" : stats.uniform(0.05, 0.70), # Learning rate\n",
    "             \"gamma\" : stats.uniform(0.05, 3), # Minimum node impurity gain required to attempt a split\n",
    "             \"lambda\" : stats.uniform(0, 8), # L2 regularization coefficent\n",
    "             \"colsample_bytree\" : np.arange(0.2, 1, step = 0.1), # proportion of features considered for each base learner\n",
    "             \"subsample\" : np.arange(0.5, 1, step = 0.1), # proportion of training data subsampled for each base learner\n",
    "             \"n_estimators\" : np.where(fixed_boosting_rnds, 15, np.arange(10, 40, step = 5))} # Number of boosting rounds; will be inreased for the winner\n",
    "    \n",
    "gbm = xgb.XGBClassifier(objective = \"binary:logistic\") # initiate estimator\n",
    "metric = \"recall\" # Scoring metric used during training\n",
    "n = 600 # number of candidates to consider\n",
    "fold = 5 # number of folds for cv\n",
    "print(\"The total number of fits is: %d\" % (n * fold)) # number of fits"
   ]
  },
  {
   "cell_type": "code",
   "execution_count": 30,
   "metadata": {},
   "outputs": [
    {
     "name": "stdout",
     "output_type": "stream",
     "text": [
      "Fitting 5 folds for each of 600 candidates, totalling 3000 fits\n"
     ]
    },
    {
     "name": "stderr",
     "output_type": "stream",
     "text": [
      "[Parallel(n_jobs=-1)]: Using backend LokyBackend with 40 concurrent workers.\n",
      "[Parallel(n_jobs=-1)]: Done 120 tasks      | elapsed: 39.4min\n",
      "[Parallel(n_jobs=-1)]: Done 370 tasks      | elapsed: 105.5min\n",
      "[Parallel(n_jobs=-1)]: Done 720 tasks      | elapsed: 201.6min\n",
      "[Parallel(n_jobs=-1)]: Done 1170 tasks      | elapsed: 333.8min\n",
      "[Parallel(n_jobs=-1)]: Done 1720 tasks      | elapsed: 487.7min\n",
      "[Parallel(n_jobs=-1)]: Done 2370 tasks      | elapsed: 696.9min\n",
      "[Parallel(n_jobs=-1)]: Done 3000 out of 3000 | elapsed: 888.2min finished\n",
      "C:\\ProgramData\\Anaconda3\\lib\\site-packages\\xgboost\\sklearn.py:888: UserWarning: The use of label encoder in XGBClassifier is deprecated and will be removed in a future release. To remove this warning, do the following: 1) Pass option use_label_encoder=False when constructing XGBClassifier object; and 2) Encode your labels (y) as integers starting with 0, i.e. 0, 1, 2, ..., [num_class - 1].\n",
      "  warnings.warn(label_encoder_deprecation_msg, UserWarning)\n"
     ]
    },
    {
     "name": "stdout",
     "output_type": "stream",
     "text": [
      "[07:23:05] WARNING: C:/Users/Administrator/workspace/xgboost-win64_release_1.3.0/src/learner.cc:1061: Starting in XGBoost 1.3.0, the default evaluation metric used with the objective 'binary:logistic' was changed from 'error' to 'logloss'. Explicitly set eval_metric if you'd like to restore the old behavior.\n"
     ]
    },
    {
     "data": {
      "text/plain": [
       "RandomizedSearchCV(cv=5,\n",
       "                   estimator=XGBClassifier(base_score=None, booster=None,\n",
       "                                           colsample_bylevel=None,\n",
       "                                           colsample_bynode=None,\n",
       "                                           colsample_bytree=None, gamma=None,\n",
       "                                           gpu_id=None, importance_type='gain',\n",
       "                                           interaction_constraints=None,\n",
       "                                           learning_rate=None,\n",
       "                                           max_delta_step=None, max_depth=None,\n",
       "                                           min_child_weight=None, missing=nan,\n",
       "                                           monotone_constraints=None,\n",
       "                                           n_estimators=100,...\n",
       "                                        'gamma': <scipy.stats._distn_infrastructure.rv_frozen object at 0x000000FBC807A430>,\n",
       "                                        'lambda': <scipy.stats._distn_infrastructure.rv_frozen object at 0x000000FBC178B760>,\n",
       "                                        'max_depth': array([ 5, 10, 15, 20, 25, 30, 35, 40, 45, 50, 55, 60, 65, 70, 75]),\n",
       "                                        'n_estimators': array([15, 15, 15, 15, 15, 15]),\n",
       "                                        'subsample': array([0.5, 0.6, 0.7, 0.8, 0.9])},\n",
       "                   random_state=321, scoring='recall', verbose=1)"
      ]
     },
     "execution_count": 30,
     "metadata": {},
     "output_type": "execute_result"
    }
   ],
   "source": [
    "randomized_auc = RandomizedSearchCV(estimator = gbm, n_iter = n, cv = fold, scoring = metric,\n",
    "                                    param_distributions = param_grid, verbose = 1, random_state = 321,\n",
    "                                   n_jobs = -1, refit = True)\n",
    "randomized_auc.fit(X_train,y_train)"
   ]
  },
  {
   "cell_type": "code",
   "execution_count": 31,
   "metadata": {},
   "outputs": [
    {
     "name": "stdout",
     "output_type": "stream",
     "text": [
      "Best Parameters: {'colsample_bytree': 0.9000000000000001, 'eta': 0.12902867757724626, 'gamma': 1.9479508080081354, 'lambda': 2.7667137866636837, 'max_depth': 5, 'n_estimators': 15, 'subsample': 0.7999999999999999}\n",
      "Best Score: -0.7402062318066368\n"
     ]
    }
   ],
   "source": [
    "print(\"Best Parameters:\", randomized_auc.best_params_)\n",
    "print(\"Best Score:\", randomized_auc.best_score_ * (-1))"
   ]
  },
  {
   "cell_type": "markdown",
   "metadata": {},
   "source": [
    "If trained on server:"
   ]
  },
  {
   "cell_type": "code",
   "execution_count": 7,
   "metadata": {},
   "outputs": [
    {
     "name": "stderr",
     "output_type": "stream",
     "text": [
      "D:\\Program Files\\Anaconda\\lib\\site-packages\\xgboost\\sklearn.py:888: UserWarning: The use of label encoder in XGBClassifier is deprecated and will be removed in a future release. To remove this warning, do the following: 1) Pass option use_label_encoder=False when constructing XGBClassifier object; and 2) Encode your labels (y) as integers starting with 0, i.e. 0, 1, 2, ..., [num_class - 1].\n",
      "  warnings.warn(label_encoder_deprecation_msg, UserWarning)\n"
     ]
    },
    {
     "name": "stdout",
     "output_type": "stream",
     "text": [
      "[0]\tvalidation_0-aucpr:0.71809\tvalidation_1-aucpr:0.55034\n",
      "[1]\tvalidation_0-aucpr:0.71667\tvalidation_1-aucpr:0.55156\n",
      "[2]\tvalidation_0-aucpr:0.73338\tvalidation_1-aucpr:0.58318\n",
      "[3]\tvalidation_0-aucpr:0.76848\tvalidation_1-aucpr:0.60412\n",
      "[4]\tvalidation_0-aucpr:0.82498\tvalidation_1-aucpr:0.63401\n",
      "[5]\tvalidation_0-aucpr:0.82491\tvalidation_1-aucpr:0.63423\n",
      "[6]\tvalidation_0-aucpr:0.82886\tvalidation_1-aucpr:0.63574\n",
      "[7]\tvalidation_0-aucpr:0.84593\tvalidation_1-aucpr:0.63410\n",
      "[8]\tvalidation_0-aucpr:0.84904\tvalidation_1-aucpr:0.63758\n",
      "[9]\tvalidation_0-aucpr:0.87032\tvalidation_1-aucpr:0.65476\n",
      "[10]\tvalidation_0-aucpr:0.87225\tvalidation_1-aucpr:0.65208\n",
      "[11]\tvalidation_0-aucpr:0.87950\tvalidation_1-aucpr:0.65324\n",
      "[12]\tvalidation_0-aucpr:0.87913\tvalidation_1-aucpr:0.65332\n",
      "[13]\tvalidation_0-aucpr:0.88268\tvalidation_1-aucpr:0.65885\n",
      "[14]\tvalidation_0-aucpr:0.87585\tvalidation_1-aucpr:0.66022\n",
      "[15]\tvalidation_0-aucpr:0.88143\tvalidation_1-aucpr:0.66440\n",
      "[16]\tvalidation_0-aucpr:0.88637\tvalidation_1-aucpr:0.66718\n",
      "[17]\tvalidation_0-aucpr:0.88619\tvalidation_1-aucpr:0.66723\n",
      "[18]\tvalidation_0-aucpr:0.88014\tvalidation_1-aucpr:0.66674\n",
      "[19]\tvalidation_0-aucpr:0.87440\tvalidation_1-aucpr:0.66556\n",
      "[20]\tvalidation_0-aucpr:0.87430\tvalidation_1-aucpr:0.66553\n",
      "[21]\tvalidation_0-aucpr:0.87425\tvalidation_1-aucpr:0.66564\n",
      "[22]\tvalidation_0-aucpr:0.87362\tvalidation_1-aucpr:0.66552\n",
      "[23]\tvalidation_0-aucpr:0.88531\tvalidation_1-aucpr:0.66729\n",
      "[24]\tvalidation_0-aucpr:0.89051\tvalidation_1-aucpr:0.67034\n",
      "[25]\tvalidation_0-aucpr:0.89225\tvalidation_1-aucpr:0.66957\n",
      "[26]\tvalidation_0-aucpr:0.89192\tvalidation_1-aucpr:0.66932\n",
      "[27]\tvalidation_0-aucpr:0.88882\tvalidation_1-aucpr:0.66858\n",
      "[28]\tvalidation_0-aucpr:0.89037\tvalidation_1-aucpr:0.67068\n",
      "[29]\tvalidation_0-aucpr:0.88740\tvalidation_1-aucpr:0.66960\n",
      "[30]\tvalidation_0-aucpr:0.88726\tvalidation_1-aucpr:0.66960\n",
      "[31]\tvalidation_0-aucpr:0.88691\tvalidation_1-aucpr:0.66944\n",
      "[32]\tvalidation_0-aucpr:0.88660\tvalidation_1-aucpr:0.66923\n",
      "[33]\tvalidation_0-aucpr:0.88253\tvalidation_1-aucpr:0.66852\n",
      "[34]\tvalidation_0-aucpr:0.88208\tvalidation_1-aucpr:0.66827\n",
      "[35]\tvalidation_0-aucpr:0.88683\tvalidation_1-aucpr:0.66817\n",
      "[36]\tvalidation_0-aucpr:0.88680\tvalidation_1-aucpr:0.66819\n",
      "[37]\tvalidation_0-aucpr:0.88723\tvalidation_1-aucpr:0.66948\n",
      "[38]\tvalidation_0-aucpr:0.89303\tvalidation_1-aucpr:0.67294\n",
      "[39]\tvalidation_0-aucpr:0.89320\tvalidation_1-aucpr:0.67346\n",
      "[40]\tvalidation_0-aucpr:0.89384\tvalidation_1-aucpr:0.67433\n",
      "[41]\tvalidation_0-aucpr:0.89225\tvalidation_1-aucpr:0.67417\n",
      "[42]\tvalidation_0-aucpr:0.89031\tvalidation_1-aucpr:0.67356\n",
      "[43]\tvalidation_0-aucpr:0.88730\tvalidation_1-aucpr:0.67310\n",
      "[44]\tvalidation_0-aucpr:0.88725\tvalidation_1-aucpr:0.67301\n",
      "[45]\tvalidation_0-aucpr:0.89004\tvalidation_1-aucpr:0.67218\n",
      "[46]\tvalidation_0-aucpr:0.88824\tvalidation_1-aucpr:0.67180\n",
      "[47]\tvalidation_0-aucpr:0.88667\tvalidation_1-aucpr:0.67119\n",
      "[48]\tvalidation_0-aucpr:0.88411\tvalidation_1-aucpr:0.67112\n",
      "[49]\tvalidation_0-aucpr:0.88260\tvalidation_1-aucpr:0.67055\n",
      "[50]\tvalidation_0-aucpr:0.88259\tvalidation_1-aucpr:0.67057\n"
     ]
    },
    {
     "data": {
      "text/plain": [
       "XGBClassifier(base_score=0.5, booster='gbtree', colsample_bylevel=1,\n",
       "              colsample_bynode=1, colsample_bytree=0.2,\n",
       "              gamma=1.1325372296171017, gpu_id=-1, importance_type='gain',\n",
       "              interaction_constraints='', learning_rate=0.054581921092903024,\n",
       "              max_delta_step=0, max_depth=25, min_child_weight=1, missing=nan,\n",
       "              monotone_constraints='()', n_estimators=300, n_jobs=8,\n",
       "              num_parallel_tree=1, random_state=321, reg_alpha=0,\n",
       "              reg_lambda=2.480681687701786, scale_pos_weight=1,\n",
       "              subsample=0.8999999999999999, tree_method='exact',\n",
       "              validate_parameters=1, verbosity=None)"
      ]
     },
     "execution_count": 7,
     "metadata": {},
     "output_type": "execute_result"
    }
   ],
   "source": [
    "#Server = 1\n",
    "switch = 0\n",
    "param_server = np.where(switch == 1, [\"eta\", \"lambda\"], [\"learning_rate\", \"reg_lambda\"])\n",
    "\n",
    "if(switch == 1):\n",
    "    params = randomized_auc.best_params_\n",
    "else:\n",
    "    # copy paste saved dictionary if not on server\n",
    "    params = {'objective': 'binary:logistic', 'use_label_encoder': True, 'base_score': 0.5, 'booster': 'gbtree', 'colsample_bylevel': 1, 'colsample_bynode': 1, 'colsample_bytree': 0.2, 'gamma': 1.1325372296171017, 'gpu_id': -1, 'importance_type': 'gain', 'interaction_constraints': '', 'learning_rate': 0.054581921092903024, 'max_delta_step': 0, 'max_depth': 25, 'min_child_weight': 1, 'monotone_constraints': '()', 'n_estimators': 200, 'n_jobs': 40, 'num_parallel_tree': 1, 'random_state': 321, 'reg_alpha': 0, 'reg_lambda': 2.480681687701786, 'scale_pos_weight': 1, 'subsample': 0.8999999999999999, 'tree_method': 'exact', 'validate_parameters': 1, 'verbosity': None}\t\n",
    "\n",
    "eval_set = [(X_train, y_train), (X_test, y_test)] # Evaluation set for early stopping\n",
    "\n",
    "randomized_auc = xgb.XGBClassifier(objective = \"binary:logistic\",\n",
    "                                   max_depth = params[\"max_depth\"],\n",
    "                                   learning_rate =  params[param_server[0]],\n",
    "                                   gamma = params[\"gamma\"],\n",
    "                                   reg_lambda = params[param_server[1]],\n",
    "                                   colsample_bytree = params[\"colsample_bytree\"],\n",
    "                                   subsample = params[\"subsample\"],\n",
    "                                   n_estimators = 300, # Train with higher number of boosting rounds as in the cv part\n",
    "                                   random_state = 321)\n",
    "randomized_auc.fit(X_train, y_train, early_stopping_rounds = 10, eval_metric = \"aucpr\", eval_set = eval_set,\n",
    "                  verbose = True) # Enable earlier stopping when within 10 rounds no improvement is observed using auc as evaluation metric"
   ]
  },
  {
   "cell_type": "code",
   "execution_count": 9,
   "metadata": {},
   "outputs": [
    {
     "data": {
      "text/plain": [
       "(40, 0.674334)"
      ]
     },
     "execution_count": 9,
     "metadata": {},
     "output_type": "execute_result"
    }
   ],
   "source": [
    "randomized_auc.best_iteration, randomized_auc.best_score"
   ]
  },
  {
   "cell_type": "markdown",
   "metadata": {},
   "source": [
    "Display evaluation performance during fitting with optional stopping."
   ]
  },
  {
   "cell_type": "code",
   "execution_count": 8,
   "metadata": {},
   "outputs": [
    {
     "data": {
      "image/png": "[encoded data removed]",
      "text/plain": [
       "<Figure size 432x288 with 1 Axes>"
      ]
     },
     "metadata": {
      "needs_background": "light"
     },
     "output_type": "display_data"
    }
   ],
   "source": [
    "from matplotlib import pyplot\n",
    "results = randomized_auc.evals_result()\n",
    "epochs = len(results['validation_0']['aucpr'])\n",
    "x_axis = range(0, epochs)\n",
    "# plot roc\n",
    "fig, ax = pyplot.subplots()\n",
    "ax.plot(x_axis, results['validation_0']['aucpr'], label='Train')\n",
    "ax.plot(x_axis, results['validation_1']['aucpr'], label='Test')\n",
    "ax.legend()\n",
    "pyplot.ylabel('ROC')\n",
    "pyplot.title('XGBoost Classification Error')\n",
    "pyplot.show()"
   ]
  },
  {
   "cell_type": "markdown",
   "metadata": {},
   "source": [
    "### Find optimal cost-cutoff"
   ]
  },
  {
   "cell_type": "markdown",
   "metadata": {},
   "source": [
    "First let us inspect, whether our model is well calibrated."
   ]
  },
  {
   "cell_type": "code",
   "execution_count": 9,
   "metadata": {},
   "outputs": [
    {
     "data": {
      "image/png": "[encoded data removed]",
      "text/plain": [
       "<Figure size 432x288 with 1 Axes>"
      ]
     },
     "metadata": {
      "needs_background": "light"
     },
     "output_type": "display_data"
    }
   ],
   "source": [
    "# Calibration curve for LogitCV\n",
    "from sklearn.calibration import calibration_curve\n",
    "\n",
    "# Get prediction probabilities\n",
    "pred_proba = randomized_auc.predict_proba(X_test)[:,1]\n",
    "\n",
    "# Calculate calibration using calibration_curve function\n",
    "prob_true, prob_pred = calibration_curve(y_test, pred_proba, n_bins = 20)\n",
    "\n",
    "# Plot results\n",
    "plt.plot(prob_pred, prob_true, marker = '.', label = 'Boosted Tree CV')  \n",
    "plt.title(\"Calibration Plot for Boosted Tree CV model\")\n",
    "plt.ylabel(\"True Probability per Bin\")\n",
    "plt.xlabel(\"Predicted Probability\") \n",
    "plt.plot([0, 1], [0, 1], linestyle = '--', label = 'Ideally Calibrated'); \n",
    "plt.legend();"
   ]
  },
  {
   "cell_type": "markdown",
   "metadata": {},
   "source": [
    "Next we do the following: Using cross-validation we employ a greedy algorithm to find optimal cost_cutoff for our model. As discussed early, the costs for FP are generally higher than the costs for FN therefore we will only display and return the cost-optimal cutoffs and not calculate a mean of those."
   ]
  },
  {
   "cell_type": "code",
   "execution_count": 10,
   "metadata": {},
   "outputs": [],
   "source": [
    "# Save function to calculate error-cost including option to adjust cutoff\n",
    "def calc_error_cost(y_probabilities, y_test, cutoff, X):\n",
    "    pred = np.where(y_probabilities >= cutoff, 1, 0)                    # convert class probabilities into class predictions\n",
    "    cost = cost_custom_eval(y_test, pred, X)  # calculate the corresponding cost\n",
    "    return [cutoff, cost]"
   ]
  },
  {
   "cell_type": "code",
   "execution_count": 11,
   "metadata": {},
   "outputs": [],
   "source": [
    "def cv_split(seq, splits):\n",
    "      return (seq[i::splits] for i in range(splits))\n",
    "\n",
    "# Define function for threshold tuning\n",
    "def lowest_error_cutoff(k, X_train_df, y_train_true, estimator):\n",
    "    cutoffs_total = [] # save best cutoff from each split here, so we can average this cutoff later\n",
    "\n",
    "    # Create a list of the index of our full data set as input, and k for the amount of splits\n",
    "    cv_split_list = list(cv_split(shuffle(X_train_df.index.values.tolist(), random_state=888), k)) \n",
    "\n",
    "    for fold, i in enumerate(cv_split_list): # for each split \n",
    "\n",
    "        temp = X_train_df.index.isin(i) # Create temp variable for data to exclude            \n",
    "        X_train_cv, y_train_cv = X_train_df.iloc[~temp], y_train_true[~temp] # Build model on all but hold out data\n",
    "        X_test_cv, y_test_cv =  X_train_df.iloc[temp], y_train_true[temp] # Test on hold out data later\n",
    "        estimator.fit(X_train_cv, y_train_cv.ravel()) # Train model\n",
    "        pred_temp_prob = estimator.predict_proba(X_test_cv)[:, 1] # Calculate class probabilities for current split\n",
    "\n",
    "        # Define empty variable to save all cutoffs and corresponding errors. This way we can extract the lowest one for this split later\n",
    "        cutoffs_cv = []\n",
    "        error_cost_cv = []\n",
    "\n",
    "        for j in  np.arange(0, 1, 0.001): # np.arrange(from, to, step-size)\n",
    "            #pred_temp = (pred_temp_prob >= j).astype(bool) # convert probabilities to class predictions\n",
    "            cutoffs_cv.append(j) # save corresponding cutoff\n",
    "            temp_cutoff_cost = calc_error_cost(pred_temp_prob, y_test_cv, j, X_test_cv) # calculate cost and cutoff using our previously function\n",
    "            error_cost_cv.append(temp_cutoff_cost[1]) # save error for the given cutoff\n",
    "\n",
    "        temp_df = pd.DataFrame({\"cutoffs\":cutoffs_cv, \"error_cost\": error_cost_cv}).sort_values(\"error_cost\")  # merge cutoffs and error cost, sort from lowest to highest by error_cost\n",
    "        print(\"This is the fold number {}\".format(fold+1),\" of the cross-validation\")\n",
    "        print(\"The lowest error on the holdout data was achieved with the following cut-off: {}\".format(temp_df.iloc[0].values[0]))\n",
    "        print(\"The corresponding error cost is: {}\".format(temp_df.iloc[0].values[1]))\n",
    "        print(\"\")\n",
    "        cutoffs_total.append(temp_df.iloc[0, 0]) # save the lowest cutoff of this split to the list so we can average it at the end\n",
    "        plt.plot(temp_df.cutoffs, temp_df.error_cost) # plot cutoffs and corresponding errors\n",
    "    return(cutoffs_total)\n"
   ]
  },
  {
   "cell_type": "code",
   "execution_count": 12,
   "metadata": {},
   "outputs": [
    {
     "name": "stderr",
     "output_type": "stream",
     "text": [
      "D:\\Program Files\\Anaconda\\lib\\site-packages\\xgboost\\sklearn.py:888: UserWarning: The use of label encoder in XGBClassifier is deprecated and will be removed in a future release. To remove this warning, do the following: 1) Pass option use_label_encoder=False when constructing XGBClassifier object; and 2) Encode your labels (y) as integers starting with 0, i.e. 0, 1, 2, ..., [num_class - 1].\n",
      "  warnings.warn(label_encoder_deprecation_msg, UserWarning)\n"
     ]
    },
    {
     "name": "stdout",
     "output_type": "stream",
     "text": [
      "[13:08:41] WARNING: C:/Users/Administrator/workspace/xgboost-win64_release_1.3.0/src/learner.cc:1061: Starting in XGBoost 1.3.0, the default evaluation metric used with the objective 'binary:logistic' was changed from 'error' to 'logloss'. Explicitly set eval_metric if you'd like to restore the old behavior.\n",
      "This is the fold number 1  of the cross-validation\n",
      "The lowest error on the holdout data was achieved with the following cut-off: 0.62\n",
      "The corresponding error cost is: 23894.736000000004\n",
      "\n"
     ]
    },
    {
     "name": "stderr",
     "output_type": "stream",
     "text": [
      "D:\\Program Files\\Anaconda\\lib\\site-packages\\xgboost\\sklearn.py:888: UserWarning: The use of label encoder in XGBClassifier is deprecated and will be removed in a future release. To remove this warning, do the following: 1) Pass option use_label_encoder=False when constructing XGBClassifier object; and 2) Encode your labels (y) as integers starting with 0, i.e. 0, 1, 2, ..., [num_class - 1].\n",
      "  warnings.warn(label_encoder_deprecation_msg, UserWarning)\n"
     ]
    },
    {
     "name": "stdout",
     "output_type": "stream",
     "text": [
      "[13:09:42] WARNING: C:/Users/Administrator/workspace/xgboost-win64_release_1.3.0/src/learner.cc:1061: Starting in XGBoost 1.3.0, the default evaluation metric used with the objective 'binary:logistic' was changed from 'error' to 'logloss'. Explicitly set eval_metric if you'd like to restore the old behavior.\n",
      "This is the fold number 2  of the cross-validation\n",
      "The lowest error on the holdout data was achieved with the following cut-off: 0.66\n",
      "The corresponding error cost is: 24688.546000000002\n",
      "\n"
     ]
    },
    {
     "name": "stderr",
     "output_type": "stream",
     "text": [
      "D:\\Program Files\\Anaconda\\lib\\site-packages\\xgboost\\sklearn.py:888: UserWarning: The use of label encoder in XGBClassifier is deprecated and will be removed in a future release. To remove this warning, do the following: 1) Pass option use_label_encoder=False when constructing XGBClassifier object; and 2) Encode your labels (y) as integers starting with 0, i.e. 0, 1, 2, ..., [num_class - 1].\n",
      "  warnings.warn(label_encoder_deprecation_msg, UserWarning)\n"
     ]
    },
    {
     "name": "stdout",
     "output_type": "stream",
     "text": [
      "[13:10:41] WARNING: C:/Users/Administrator/workspace/xgboost-win64_release_1.3.0/src/learner.cc:1061: Starting in XGBoost 1.3.0, the default evaluation metric used with the objective 'binary:logistic' was changed from 'error' to 'logloss'. Explicitly set eval_metric if you'd like to restore the old behavior.\n",
      "This is the fold number 3  of the cross-validation\n",
      "The lowest error on the holdout data was achieved with the following cut-off: 0.638\n",
      "The corresponding error cost is: 24124.308\n",
      "\n"
     ]
    },
    {
     "name": "stderr",
     "output_type": "stream",
     "text": [
      "D:\\Program Files\\Anaconda\\lib\\site-packages\\xgboost\\sklearn.py:888: UserWarning: The use of label encoder in XGBClassifier is deprecated and will be removed in a future release. To remove this warning, do the following: 1) Pass option use_label_encoder=False when constructing XGBClassifier object; and 2) Encode your labels (y) as integers starting with 0, i.e. 0, 1, 2, ..., [num_class - 1].\n",
      "  warnings.warn(label_encoder_deprecation_msg, UserWarning)\n"
     ]
    },
    {
     "name": "stdout",
     "output_type": "stream",
     "text": [
      "[13:11:37] WARNING: C:/Users/Administrator/workspace/xgboost-win64_release_1.3.0/src/learner.cc:1061: Starting in XGBoost 1.3.0, the default evaluation metric used with the objective 'binary:logistic' was changed from 'error' to 'logloss'. Explicitly set eval_metric if you'd like to restore the old behavior.\n",
      "This is the fold number 4  of the cross-validation\n",
      "The lowest error on the holdout data was achieved with the following cut-off: 0.661\n",
      "The corresponding error cost is: 24035.092\n",
      "\n"
     ]
    },
    {
     "name": "stderr",
     "output_type": "stream",
     "text": [
      "D:\\Program Files\\Anaconda\\lib\\site-packages\\xgboost\\sklearn.py:888: UserWarning: The use of label encoder in XGBClassifier is deprecated and will be removed in a future release. To remove this warning, do the following: 1) Pass option use_label_encoder=False when constructing XGBClassifier object; and 2) Encode your labels (y) as integers starting with 0, i.e. 0, 1, 2, ..., [num_class - 1].\n",
      "  warnings.warn(label_encoder_deprecation_msg, UserWarning)\n"
     ]
    },
    {
     "name": "stdout",
     "output_type": "stream",
     "text": [
      "[13:12:37] WARNING: C:/Users/Administrator/workspace/xgboost-win64_release_1.3.0/src/learner.cc:1061: Starting in XGBoost 1.3.0, the default evaluation metric used with the objective 'binary:logistic' was changed from 'error' to 'logloss'. Explicitly set eval_metric if you'd like to restore the old behavior.\n",
      "This is the fold number 5  of the cross-validation\n",
      "The lowest error on the holdout data was achieved with the following cut-off: 0.604\n",
      "The corresponding error cost is: 24444.017\n",
      "\n"
     ]
    },
    {
     "name": "stderr",
     "output_type": "stream",
     "text": [
      "D:\\Program Files\\Anaconda\\lib\\site-packages\\xgboost\\sklearn.py:888: UserWarning: The use of label encoder in XGBClassifier is deprecated and will be removed in a future release. To remove this warning, do the following: 1) Pass option use_label_encoder=False when constructing XGBClassifier object; and 2) Encode your labels (y) as integers starting with 0, i.e. 0, 1, 2, ..., [num_class - 1].\n",
      "  warnings.warn(label_encoder_deprecation_msg, UserWarning)\n"
     ]
    },
    {
     "name": "stdout",
     "output_type": "stream",
     "text": [
      "[13:13:36] WARNING: C:/Users/Administrator/workspace/xgboost-win64_release_1.3.0/src/learner.cc:1061: Starting in XGBoost 1.3.0, the default evaluation metric used with the objective 'binary:logistic' was changed from 'error' to 'logloss'. Explicitly set eval_metric if you'd like to restore the old behavior.\n",
      "This is the fold number 6  of the cross-validation\n",
      "The lowest error on the holdout data was achieved with the following cut-off: 0.625\n",
      "The corresponding error cost is: 24203.368000000002\n",
      "\n"
     ]
    },
    {
     "name": "stderr",
     "output_type": "stream",
     "text": [
      "D:\\Program Files\\Anaconda\\lib\\site-packages\\xgboost\\sklearn.py:888: UserWarning: The use of label encoder in XGBClassifier is deprecated and will be removed in a future release. To remove this warning, do the following: 1) Pass option use_label_encoder=False when constructing XGBClassifier object; and 2) Encode your labels (y) as integers starting with 0, i.e. 0, 1, 2, ..., [num_class - 1].\n",
      "  warnings.warn(label_encoder_deprecation_msg, UserWarning)\n"
     ]
    },
    {
     "name": "stdout",
     "output_type": "stream",
     "text": [
      "[13:14:37] WARNING: C:/Users/Administrator/workspace/xgboost-win64_release_1.3.0/src/learner.cc:1061: Starting in XGBoost 1.3.0, the default evaluation metric used with the objective 'binary:logistic' was changed from 'error' to 'logloss'. Explicitly set eval_metric if you'd like to restore the old behavior.\n",
      "This is the fold number 7  of the cross-validation\n",
      "The lowest error on the holdout data was achieved with the following cut-off: 0.646\n",
      "The corresponding error cost is: 24509.850000000002\n",
      "\n"
     ]
    },
    {
     "name": "stderr",
     "output_type": "stream",
     "text": [
      "D:\\Program Files\\Anaconda\\lib\\site-packages\\xgboost\\sklearn.py:888: UserWarning: The use of label encoder in XGBClassifier is deprecated and will be removed in a future release. To remove this warning, do the following: 1) Pass option use_label_encoder=False when constructing XGBClassifier object; and 2) Encode your labels (y) as integers starting with 0, i.e. 0, 1, 2, ..., [num_class - 1].\n",
      "  warnings.warn(label_encoder_deprecation_msg, UserWarning)\n"
     ]
    },
    {
     "name": "stdout",
     "output_type": "stream",
     "text": [
      "[13:15:29] WARNING: C:/Users/Administrator/workspace/xgboost-win64_release_1.3.0/src/learner.cc:1061: Starting in XGBoost 1.3.0, the default evaluation metric used with the objective 'binary:logistic' was changed from 'error' to 'logloss'. Explicitly set eval_metric if you'd like to restore the old behavior.\n",
      "This is the fold number 8  of the cross-validation\n",
      "The lowest error on the holdout data was achieved with the following cut-off: 0.655\n",
      "The corresponding error cost is: 23812.718000000004\n",
      "\n"
     ]
    },
    {
     "name": "stderr",
     "output_type": "stream",
     "text": [
      "D:\\Program Files\\Anaconda\\lib\\site-packages\\xgboost\\sklearn.py:888: UserWarning: The use of label encoder in XGBClassifier is deprecated and will be removed in a future release. To remove this warning, do the following: 1) Pass option use_label_encoder=False when constructing XGBClassifier object; and 2) Encode your labels (y) as integers starting with 0, i.e. 0, 1, 2, ..., [num_class - 1].\n",
      "  warnings.warn(label_encoder_deprecation_msg, UserWarning)\n"
     ]
    },
    {
     "name": "stdout",
     "output_type": "stream",
     "text": [
      "[13:16:19] WARNING: C:/Users/Administrator/workspace/xgboost-win64_release_1.3.0/src/learner.cc:1061: Starting in XGBoost 1.3.0, the default evaluation metric used with the objective 'binary:logistic' was changed from 'error' to 'logloss'. Explicitly set eval_metric if you'd like to restore the old behavior.\n",
      "This is the fold number 9  of the cross-validation\n",
      "The lowest error on the holdout data was achieved with the following cut-off: 0.625\n",
      "The corresponding error cost is: 24370.177000000003\n",
      "\n"
     ]
    },
    {
     "name": "stderr",
     "output_type": "stream",
     "text": [
      "D:\\Program Files\\Anaconda\\lib\\site-packages\\xgboost\\sklearn.py:888: UserWarning: The use of label encoder in XGBClassifier is deprecated and will be removed in a future release. To remove this warning, do the following: 1) Pass option use_label_encoder=False when constructing XGBClassifier object; and 2) Encode your labels (y) as integers starting with 0, i.e. 0, 1, 2, ..., [num_class - 1].\n",
      "  warnings.warn(label_encoder_deprecation_msg, UserWarning)\n"
     ]
    },
    {
     "name": "stdout",
     "output_type": "stream",
     "text": [
      "[13:17:11] WARNING: C:/Users/Administrator/workspace/xgboost-win64_release_1.3.0/src/learner.cc:1061: Starting in XGBoost 1.3.0, the default evaluation metric used with the objective 'binary:logistic' was changed from 'error' to 'logloss'. Explicitly set eval_metric if you'd like to restore the old behavior.\n",
      "This is the fold number 10  of the cross-validation\n",
      "The lowest error on the holdout data was achieved with the following cut-off: 0.641\n",
      "The corresponding error cost is: 24302.549000000003\n",
      "\n"
     ]
    },
    {
     "data": {
      "image/png": "[encoded data removed]",
      "text/plain": [
       "<Figure size 432x288 with 1 Axes>"
      ]
     },
     "metadata": {
      "needs_background": "light"
     },
     "output_type": "display_data"
    }
   ],
   "source": [
    "cutoff_candidates = lowest_error_cutoff(10, X_train, y_train, randomized_auc) # Calculate optimal cutoff candidates via 5-fold CV\n",
    "\n",
    "# Since FP < FN for almost all items (except the ones with item_price = 0) select the 0.75 quantile of the cutoffs \n",
    "cutoff_opt = np.quantile(cutoff_candidates, 0.75)\n",
    "#cutoff_opt = np.mean(cutoff_candidates) # Cutoff via mean\n",
    "\n",
    "# Calculate predictions on test set\n",
    "preds = np.where(randomized_auc.predict_proba(X_test)[:, 1] >= cutoff_opt, 1, 0)"
   ]
  },
  {
   "cell_type": "markdown",
   "metadata": {},
   "source": [
    "Display custom score using the tuned model and the hold out test set and compare with base performance using the found cutoff. Furthermore, we include an algorithm that classifies all items as non-return items and an algorithm that treats the target variable $y_i$ as Bernoulli distributed random variable with $p = 0.5$."
   ]
  },
  {
   "cell_type": "code",
   "execution_count": 16,
   "metadata": {},
   "outputs": [
    {
     "name": "stdout",
     "output_type": "stream",
     "text": [
      "Tuned Custom Evaluation Score: 106677.881\n",
      "Base Custom Evaluation Score: 253842.318\n",
      "Tuned AUC score: 0.50931\n",
      "Base AUC Score: 0.6545\n",
      "Monkey Custom Evaluation Score: 289923.263\n",
      "Monkey AUC Score: 0.49762\n",
      "All negative Custom Evaluation Score: 106846.542\n",
      "All negative AUC Score: 0.5\n"
     ]
    }
   ],
   "source": [
    "print(\"Tuned Custom Evaluation Score:\", cost_custom_eval(y_test, 1 * preds, X_test).round(5))\n",
    "print(\"Base Custom Evaluation Score:\", base_perf.round(5))\n",
    "print(\"Tuned AUC score:\", metrics.roc_auc_score(y_test, preds).round(5))\n",
    "print(\"Base AUC Score:\", metrics.roc_auc_score(y_test, ref_mod.predict(X_test)).round(5))\n",
    "print(\"Monkey Custom Evaluation Score:\", cost_custom_eval(y_test, 1* random.choices(np.array([True, False]), k = y_test.shape[0]), X_test).round(5))\n",
    "print(\"Monkey AUC Score:\", metrics.roc_auc_score(y_test, random.choices(np.array([True, False]), k = y_test.shape[0])).round(5))\n",
    "print(\"All negative Custom Evaluation Score:\", cost_custom_eval(y_test, np.zeros(len(y_test)), X_test).round(5))\n",
    "print(\"All negative AUC Score:\", metrics.roc_auc_score(y_test, np.zeros(len(y_test))).round(5))"
   ]
  },
  {
   "cell_type": "markdown",
   "metadata": {},
   "source": [
    "Return feature importance of tuned model"
   ]
  },
  {
   "cell_type": "code",
   "execution_count": null,
   "metadata": {},
   "outputs": [],
   "source": [
    "quant = pd.Series(randomized_auc.feature_importances_,\n",
    "                  index = X_train.columns).sort_values(ascending = False).quantile(q = 0.7) # get 70% quantile\n",
    "importance_trained = pd.Series(randomized_auc.feature_importances_, index = X_train.columns).sort_values(ascending = False)\n",
    "importance_trained[importance_trained >= quant] # Display only the 30% highest importance values"
   ]
  },
  {
   "cell_type": "code",
   "execution_count": null,
   "metadata": {},
   "outputs": [],
   "source": [
    "quant = pd.Series(randomized_auc.feature_importances_,\n",
    "                  index = X_train.columns).sort_values(ascending = False).quantile(q = 0.3) # get 70% quantile\n",
    "importance_trained = pd.Series(randomized_auc.feature_importances_, index = X_train.columns).sort_values(ascending = False)\n",
    "importance_trained[importance_trained < quant] # Display only the 30% lowest importance values"
   ]
  },
  {
   "cell_type": "markdown",
   "metadata": {},
   "source": [
    "Save AUC score and custom score into .txt file"
   ]
  },
  {
   "cell_type": "code",
   "execution_count": 43,
   "metadata": {},
   "outputs": [],
   "source": [
    "perf_auc = metrics.roc_auc_score(y_test, preds)\n",
    "perf_cust = cost_custom_eval(y_test, 1 * preds, X_test)\n",
    "sys_time = datetime.now().strftime(\"%d-%b-%Y (%H:%M)\")"
   ]
  },
  {
   "cell_type": "code",
   "execution_count": null,
   "metadata": {},
   "outputs": [],
   "source": [
    "%%script false --no-raise-error\n",
    "# Initiate .txt and column header, is run once\n",
    "f = open(\"results_RS.txt\", \"w+\")\n",
    "file = open(\"results_RS.txt\", \"a\")\n",
    "file.write(\"\\t\".join([\"Time\", \"\\t\\t AUC\", \"\\t Custom Score\", \"\\t Cutoff\", \"\\n\"]))\n",
    "file.close()"
   ]
  },
  {
   "cell_type": "code",
   "execution_count": 44,
   "metadata": {},
   "outputs": [],
   "source": [
    "file = open(\"results_RS.txt\", \"a\")\n",
    "file.write(\" \".join([sys_time,\"\\t\", str(perf_auc.round(5)),\"\\t\", str(perf_cust.round(5)), \"\\t\\t\", str(cutoff_opt.round(5)), \"\\n\"]))\n",
    "file.close()"
   ]
  },
  {
   "cell_type": "markdown",
   "metadata": {},
   "source": [
    "Display best parameters and best score during training"
   ]
  },
  {
   "cell_type": "code",
   "execution_count": 45,
   "metadata": {},
   "outputs": [
    {
     "name": "stdout",
     "output_type": "stream",
     "text": [
      "Best Parameters: {'objective': 'binary:logistic', 'use_label_encoder': True, 'base_score': 0.5, 'booster': 'gbtree', 'colsample_bylevel': 1, 'colsample_bynode': 1, 'colsample_bytree': 0.9000000000000001, 'gamma': 1.9479508080081354, 'gpu_id': -1, 'importance_type': 'gain', 'interaction_constraints': '', 'learning_rate': 0.12902867757724626, 'max_delta_step': 0, 'max_depth': 5, 'min_child_weight': 1, 'missing': nan, 'monotone_constraints': '()', 'n_estimators': 200, 'n_jobs': 40, 'num_parallel_tree': 1, 'random_state': 321, 'reg_alpha': 0, 'reg_lambda': 2.7667137866636837, 'scale_pos_weight': 1, 'subsample': 0.7999999999999999, 'tree_method': 'exact', 'validate_parameters': 1, 'verbosity': None}\n"
     ]
    }
   ],
   "source": [
    "print(\"Best Parameters:\", randomized_auc.get_params())"
   ]
  },
  {
   "cell_type": "markdown",
   "metadata": {},
   "source": [
    "Save hyperparameters inside a .txt file"
   ]
  },
  {
   "cell_type": "code",
   "execution_count": null,
   "metadata": {},
   "outputs": [],
   "source": [
    "%%script false --no-raise-error\n",
    "# Initiate .txt and column header, is run once\n",
    "f = open(\"hyperparams.txt\", \"w+\")\n",
    "file = open(\"hyperparams.txt\", \"a\")\n",
    "file.write(\"Hyperparameters in Dictionary format \\n\")\n",
    "file.close()"
   ]
  },
  {
   "cell_type": "code",
   "execution_count": 46,
   "metadata": {},
   "outputs": [],
   "source": [
    "file = open(\"hyperparams.txt\", \"a\")\n",
    "file.write(\"\\t\".join([sys_time, str(randomized_auc.get_params()), \"\\n\"]))\n",
    "file.close()"
   ]
  },
  {
   "cell_type": "markdown",
   "metadata": {},
   "source": [
    "# 5. Model Evaluation"
   ]
  },
  {
   "cell_type": "markdown",
   "metadata": {},
   "source": [
    "Create Confusion matrix with probabilites and a custom confusion matrix based on the cost matrix"
   ]
  },
  {
   "cell_type": "code",
   "execution_count": 47,
   "metadata": {},
   "outputs": [
    {
     "data": {
      "text/plain": [
       "<sklearn.metrics._plot.confusion_matrix.ConfusionMatrixDisplay at 0xfbc6f2bee0>"
      ]
     },
     "execution_count": 47,
     "metadata": {},
     "output_type": "execute_result"
    },
    {
     "data": {
      "image/png": "[encoded data removed]",
      "text/plain": [
       "<Figure size 432x288 with 2 Axes>"
      ]
     },
     "metadata": {
      "needs_background": "light"
     },
     "output_type": "display_data"
    }
   ],
   "source": [
    "conf_matrix_preds = metrics.confusion_matrix(y_test, preds, normalize = \"all\")\n",
    "metrics.ConfusionMatrixDisplay(conf_matrix_preds).plot(cmap = plt.cm.BuGn, values_format = \".2f\")"
   ]
  },
  {
   "cell_type": "code",
   "execution_count": 48,
   "metadata": {},
   "outputs": [],
   "source": [
    "def cust_confusion_matrix(y_true, y_pred, X, normalize = True, rnd = False):\n",
    "    '''Custom Confusion Matrix with cost matrix\n",
    "    y_true: 1-d array bool\n",
    "    y_pred: 1-d array bool\n",
    "    X: n-d array of data which includes the item price for the respective observations (float)\n",
    "    normalize: True: Should the custom score be divided by the possible maximum costs?\n",
    "    rnd: True: Should the normalizing value be calculated using a monkey guessing at random which item will be returned?\n",
    "    '''\n",
    "    y_true = 1 * y_true # convert to integer\n",
    "    y_pred = 1 * y_pred # convert to integer\n",
    "    \n",
    "    # Calculate TP, FP, FN and TN\n",
    "    TP, FP, FN, TN = cost_custom_eval(y_true, y_pred, X, True)\n",
    "    \n",
    "    # If clause for random normalization\n",
    "    if(normalize == True and rnd == True):\n",
    "        # custom prediction \n",
    "        y_random_pred = random.choices(np.array([False, True]), k = y_true.shape[0])\n",
    "        FP_rel, FN_rel = cost_custom_eval(y_true, y_random_pred, X, True)[1:3] # retrieve FP rate for this case\n",
    "        results = np.array([[TP, FP/FP_rel],\n",
    "                            [FN/FN_rel, TN]])\n",
    "        return(results)\n",
    "    elif(rnd == False):\n",
    "        # If clause for normalize\n",
    "        if(normalize == True):\n",
    "            y_pred_rel_fp = np.ones(y_true.shape[0]) # Every observation is classified as one\n",
    "            FP_rel = cost_custom_eval(y_true, y_pred_rel_fp, X) # retrieve FP rate for this case\n",
    "\n",
    "            y_pred_rel_fn = np.zeros(y_true.shape[0]) # Every observation is classified as zero\n",
    "            FN_rel = cost_custom_eval(y_true, y_pred_rel_fn, X) # retrieve FN rate for this case\n",
    "            results = np.array([[TP, FP/FP_rel],\n",
    "                                [FN/FN_rel, TN]])\n",
    "            return(results)\n",
    "        else:\n",
    "            results = np.array([[TP, FP],\n",
    "                                [FN, TN]])\n",
    "            return(results)"
   ]
  },
  {
   "cell_type": "markdown",
   "metadata": {},
   "source": [
    "Intepretation of a cost matrix based confusion matrix"
   ]
  },
  {
   "cell_type": "code",
   "execution_count": 49,
   "metadata": {},
   "outputs": [
    {
     "data": {
      "text/plain": [
       "<sklearn.metrics._plot.confusion_matrix.ConfusionMatrixDisplay at 0xfbc6f20f10>"
      ]
     },
     "execution_count": 49,
     "metadata": {},
     "output_type": "execute_result"
    },
    {
     "data": {
      "image/png": "[encoded data removed]",
      "text/plain": [
       "<Figure size 432x288 with 2 Axes>"
      ]
     },
     "metadata": {
      "needs_background": "light"
     },
     "output_type": "display_data"
    }
   ],
   "source": [
    "metrics.ConfusionMatrixDisplay(cust_confusion_matrix(y_test, preds, X_test, False)).plot(cmap = plt.cm.BuGn, values_format = \".2f\")"
   ]
  },
  {
   "cell_type": "code",
   "execution_count": 50,
   "metadata": {},
   "outputs": [
    {
     "data": {
      "text/plain": [
       "<sklearn.metrics._plot.confusion_matrix.ConfusionMatrixDisplay at 0xfbbf58b430>"
      ]
     },
     "execution_count": 50,
     "metadata": {},
     "output_type": "execute_result"
    },
    {
     "data": {
      "image/png": "[encoded data removed]",
      "text/plain": [
       "<Figure size 432x288 with 2 Axes>"
      ]
     },
     "metadata": {
      "needs_background": "light"
     },
     "output_type": "display_data"
    }
   ],
   "source": [
    "metrics.ConfusionMatrixDisplay(cust_confusion_matrix(y_test, preds, X_test, True)).plot(cmap = plt.cm.BuGn, values_format = \".4f\")"
   ]
  },
  {
   "cell_type": "markdown",
   "metadata": {},
   "source": [
    "The entry [1,2] describes how our model performs compared to a model which classifies all purchases as returns. The lower this value the lower are the missed profits from not discouraging the customer to place their order. Conversely, the entry [2,1] describes how our model performed compared to a model which flags every purchase as an item which will not be returned. The lower this values the less costs occur from handling the return. "
   ]
  },
  {
   "cell_type": "markdown",
   "metadata": {},
   "source": [
    "Finally, we can compare our model in this manner with a model that randomly flags whether an item is returned using the parameter *rnd*."
   ]
  },
  {
   "cell_type": "code",
   "execution_count": 51,
   "metadata": {},
   "outputs": [
    {
     "data": {
      "text/plain": [
       "<sklearn.metrics._plot.confusion_matrix.ConfusionMatrixDisplay at 0xfbc16ba760>"
      ]
     },
     "execution_count": 51,
     "metadata": {},
     "output_type": "execute_result"
    },
    {
     "data": {
      "image/png": "[encoded data removed]",
      "text/plain": [
       "<Figure size 432x288 with 2 Axes>"
      ]
     },
     "metadata": {
      "needs_background": "light"
     },
     "output_type": "display_data"
    }
   ],
   "source": [
    "metrics.ConfusionMatrixDisplay(cust_confusion_matrix(y_test, preds, X_test, True, True)).plot(cmap = plt.cm.BuGn, values_format = \".4f\")"
   ]
  },
  {
   "cell_type": "markdown",
   "metadata": {},
   "source": [
    "Compare with an algorithm that just inteprets the target variable as Bernoulli distributed random variable, i.e. $y_i \\thicksim \\text{Bern}($p$)$. Our estimator is thus given by $\\mathbb{P}(y_i = 1 | X_i) = \\text{E}[\\mathbb{1}_{\\{y_i = 1\\}}| X_i] = \\text{E}[y_i] = p$. We display $p \\in \\{0.25, 0.01\\}$ for comparison."
   ]
  },
  {
   "cell_type": "code",
   "execution_count": 52,
   "metadata": {},
   "outputs": [
    {
     "data": {
      "text/plain": [
       "<sklearn.metrics._plot.confusion_matrix.ConfusionMatrixDisplay at 0xfbb81e7c10>"
      ]
     },
     "execution_count": 52,
     "metadata": {},
     "output_type": "execute_result"
    },
    {
     "data": {
      "image/png": "[encoded data removed]",
      "text/plain": [
       "<Figure size 432x288 with 2 Axes>"
      ]
     },
     "metadata": {
      "needs_background": "light"
     },
     "output_type": "display_data"
    }
   ],
   "source": [
    "preds_bernoulli = stats.bernoulli.rvs(0.25, loc = 0, size = len(y_test))\n",
    "metrics.ConfusionMatrixDisplay(cust_confusion_matrix(y_test, preds_bernoulli, X_test, False)).plot(cmap = plt.cm.BuGn, values_format = \".2f\")"
   ]
  },
  {
   "cell_type": "code",
   "execution_count": 53,
   "metadata": {},
   "outputs": [
    {
     "data": {
      "text/plain": [
       "<sklearn.metrics._plot.confusion_matrix.ConfusionMatrixDisplay at 0xfbb8177550>"
      ]
     },
     "execution_count": 53,
     "metadata": {},
     "output_type": "execute_result"
    },
    {
     "data": {
      "image/png": "[encoded data removed]",
      "text/plain": [
       "<Figure size 432x288 with 2 Axes>"
      ]
     },
     "metadata": {
      "needs_background": "light"
     },
     "output_type": "display_data"
    }
   ],
   "source": [
    "preds_bernoulli = stats.bernoulli.rvs(0.01, loc = 0, size = len(y_test))\n",
    "metrics.ConfusionMatrixDisplay(cust_confusion_matrix(y_test, preds_bernoulli, X_test, False)).plot(cmap = plt.cm.BuGn, values_format = \".2f\")"
   ]
  },
  {
   "cell_type": "markdown",
   "metadata": {},
   "source": [
    "### Further analytics of predictions."
   ]
  },
  {
   "cell_type": "markdown",
   "metadata": {},
   "source": [
    "Create a new data frame with *item_price*, *pred_type* (TP, FN, ...), *y_true*, *y_pred* and the prediction probabilities *pred_proba*."
   ]
  },
  {
   "cell_type": "code",
   "execution_count": 63,
   "metadata": {},
   "outputs": [
    {
     "name": "stdout",
     "output_type": "stream",
     "text": [
      "<class 'pandas.core.frame.DataFrame'>\n",
      "Int64Index: 29679 entries, 3548 to 70119\n",
      "Data columns (total 5 columns):\n",
      " #   Column      Non-Null Count  Dtype   \n",
      "---  ------      --------------  -----   \n",
      " 0   item_price  29679 non-null  float64 \n",
      " 1   pred_type   29679 non-null  category\n",
      " 2   y_true      29679 non-null  bool    \n",
      " 3   y_pred      29679 non-null  bool    \n",
      " 4   pred_proba  29679 non-null  float64 \n",
      "dtypes: bool(2), category(1), float64(2)\n",
      "memory usage: 1.8 MB\n"
     ]
    }
   ],
   "source": [
    "# Create variable pred_type\n",
    "def predict_type(x, y):\n",
    "    if((x == 1) and (y == 1)):\n",
    "        return(\"TP\")\n",
    "    elif((x == 0) and (y == 1)):\n",
    "        return(\"FP\")\n",
    "    elif((x == 0) and (y == 0)):\n",
    "        return(\"TN\")\n",
    "    else:\n",
    "        return(\"FN\")\n",
    "\n",
    "pred_type = []\n",
    "\n",
    "for i in range(y_test.shape[0]):\n",
    "    pred_type.append(predict_type(1 * y_test[y_test.index[i]], preds[i]))\n",
    "    #print(y_test[i])\n",
    "#pred_type = pd.Series(pred_type, index = y_test.index).astype(\"category\")\n",
    "test = {\"item_price\" : X_test.item_price.tolist(),\n",
    "       \"pred_type\" : pred_type,\n",
    "       \"y_true\" : y_test.tolist(),\n",
    "       \"y_pred\" : list(preds.astype(bool)),\n",
    "       \"pred_proba\" : list(randomized_auc.predict_proba(X_test)[:,1])}\n",
    "data_post_proc = pd.DataFrame(test,\n",
    "             index = y_test.index,\n",
    "             columns = [\"item_price\", \"pred_type\", \"y_true\", \"y_pred\", \"pred_proba\"])\n",
    "data_post_proc.pred_type = data_post_proc.pred_type.astype(\"category\")\n",
    "data_post_proc.info()"
   ]
  },
  {
   "cell_type": "markdown",
   "metadata": {},
   "source": [
    "Display a violinplot for each prediction type with item price as the independent variable."
   ]
  },
  {
   "cell_type": "code",
   "execution_count": 101,
   "metadata": {},
   "outputs": [
    {
     "data": {
      "image/png": "[encoded data removed]",
      "text/plain": [
       "<Figure size 1008x432 with 1 Axes>"
      ]
     },
     "metadata": {},
     "output_type": "display_data"
    }
   ],
   "source": [
    "plt.figure(figsize= (14,6))\n",
    "sns.set_style(\"darkgrid\")\n",
    "sns.violinplot(y = \"pred_type\", x = \"item_price\",\n",
    "                           split=True, inner=\"quart\",\n",
    "                           data= data_post_proc, scale = \"width\", palette = \"Dark2\")\n",
    "plt.title(\"Distribution of item price for Prediction Type\")\n",
    "plt.xlabel(\"Item Price\")\n",
    "plt.ylabel(\"Prediction Type\")\n",
    "plt.xticks(np.arange(min(data_post_proc.item_price), max(data_post_proc.item_price), 100))\n",
    "plt.show()"
   ]
  },
  {
   "cell_type": "code",
   "execution_count": 104,
   "metadata": {},
   "outputs": [
    {
     "data": {
      "image/png": "[encoded data removed]",
      "text/plain": [
       "<Figure size 1008x432 with 1 Axes>"
      ]
     },
     "metadata": {},
     "output_type": "display_data"
    }
   ],
   "source": [
    "# Without outliers\n",
    "plt.figure(figsize= (14,6))\n",
    "sns.set_style(\"darkgrid\")\n",
    "sns.violinplot(y = \"pred_type\", x = \"item_price\",\n",
    "                           split=True, inner=\"quart\",\n",
    "                           data= data_post_proc[data_post_proc.item_price <= 500], scale = \"width\", palette = \"Dark2\")\n",
    "plt.title(\"Distribution of item price for Prediction Type\")\n",
    "plt.xlabel(\"Item Price\")\n",
    "plt.ylabel(\"Prediction Type\")\n",
    "plt.xticks(np.arange(min(data_post_proc.item_price), 500, 50))\n",
    "plt.show()"
   ]
  },
  {
   "cell_type": "markdown",
   "metadata": {},
   "source": [
    "Heatmap of correlation of prediction probability and item_price"
   ]
  },
  {
   "cell_type": "code",
   "execution_count": 113,
   "metadata": {},
   "outputs": [
    {
     "data": {
      "text/plain": [
       "<AxesSubplot:>"
      ]
     },
     "execution_count": 113,
     "metadata": {},
     "output_type": "execute_result"
    },
    {
     "data": {
      "image/png": "[encoded data removed]",
      "text/plain": [
       "<Figure size 432x288 with 2 Axes>"
      ]
     },
     "metadata": {},
     "output_type": "display_data"
    }
   ],
   "source": [
    "corr =  data_post_proc.loc[:, [\"item_price\", \"pred_proba\"]].corr()\n",
    "#plt.figure(figsize= (8,6))\n",
    "sns.heatmap(corr, annot = True, cmap=\"BuGn\")"
   ]
  },
  {
   "cell_type": "markdown",
   "metadata": {},
   "source": [
    "Create .csv of predictions for unknown data set"
   ]
  },
  {
   "cell_type": "code",
   "execution_count": null,
   "metadata": {},
   "outputs": [],
   "source": [
    "data_u = pd.read_pickle('./data/unknown_cleaned_w_dummies')"
   ]
  },
  {
   "cell_type": "code",
   "execution_count": 10,
   "metadata": {
    "scrolled": true
   },
   "outputs": [
    {
     "ename": "NameError",
     "evalue": "name 'randomized_auc' is not defined",
     "output_type": "error",
     "traceback": [
      "\u001b[1;31m---------------------------------------------------------------------------\u001b[0m",
      "\u001b[1;31mNameError\u001b[0m                                 Traceback (most recent call last)",
      "\u001b[1;32m<ipython-input-10-4209339884a0>\u001b[0m in \u001b[0;36m<module>\u001b[1;34m\u001b[0m\n\u001b[1;32m----> 1\u001b[1;33m \u001b[0mpreds\u001b[0m \u001b[1;33m=\u001b[0m \u001b[0mrandomized_auc\u001b[0m\u001b[1;33m.\u001b[0m\u001b[0mpredict_proba\u001b[0m\u001b[1;33m(\u001b[0m\u001b[0mdata_u\u001b[0m\u001b[1;33m)\u001b[0m\u001b[1;33m[\u001b[0m\u001b[1;33m:\u001b[0m\u001b[1;33m,\u001b[0m \u001b[1;36m1\u001b[0m\u001b[1;33m]\u001b[0m\u001b[1;33m\u001b[0m\u001b[1;33m\u001b[0m\u001b[0m\n\u001b[0m\u001b[0;32m      2\u001b[0m \u001b[0mpredict_unknown\u001b[0m \u001b[1;33m=\u001b[0m \u001b[0mpd\u001b[0m\u001b[1;33m.\u001b[0m\u001b[0mSeries\u001b[0m\u001b[1;33m(\u001b[0m\u001b[0mpreds\u001b[0m\u001b[1;33m,\u001b[0m \u001b[0mindex\u001b[0m\u001b[1;33m=\u001b[0m\u001b[0mdata_u\u001b[0m\u001b[1;33m[\u001b[0m\u001b[1;34m\"item_id\"\u001b[0m\u001b[1;33m]\u001b[0m\u001b[1;33m.\u001b[0m\u001b[0mindex\u001b[0m\u001b[1;33m,\u001b[0m \u001b[0mname\u001b[0m\u001b[1;33m=\u001b[0m\u001b[1;34m'return'\u001b[0m\u001b[1;33m)\u001b[0m\u001b[1;33m\u001b[0m\u001b[1;33m\u001b[0m\u001b[0m\n\u001b[0;32m      3\u001b[0m \u001b[0mpredict_unknown\u001b[0m\u001b[1;33m.\u001b[0m\u001b[0mto_csv\u001b[0m\u001b[1;33m(\u001b[0m\u001b[1;34m\"first_pred.csv\"\u001b[0m\u001b[1;33m)\u001b[0m\u001b[1;33m\u001b[0m\u001b[1;33m\u001b[0m\u001b[0m\n",
      "\u001b[1;31mNameError\u001b[0m: name 'randomized_auc' is not defined"
     ]
    }
   ],
   "source": [
    "preds = randomized_auc.predict_proba(data_u)[:, 1]\n",
    "predict_unknown = pd.Series(preds, index=data_u[\"item_id\"].index, name='return')\n",
    "predict_unknown.to_csv(\"first_pred.csv\")"
   ]
  },
  {
   "cell_type": "markdown",
   "metadata": {},
   "source": [
    "# 6. Conclusion"
   ]
  }
 ],
 "metadata": {
  "kernelspec": {
   "display_name": "Python 3",
   "language": "python",
   "name": "python3"
  },
  "language_info": {
   "codemirror_mode": {
    "name": "ipython",
    "version": 3
   },
   "file_extension": ".py",
   "mimetype": "text/x-python",
   "name": "python",
   "nbconvert_exporter": "python",
   "pygments_lexer": "ipython3",
   "version": "3.7.9"
  }
 },
 "nbformat": 4,
 "nbformat_minor": 4
}
