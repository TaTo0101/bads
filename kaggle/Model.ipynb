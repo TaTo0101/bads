{
 "cells": [
  {
   "cell_type": "markdown",
   "metadata": {},
   "source": [
    "# Model construction"
   ]
  },
  {
   "cell_type": "code",
   "execution_count": 13,
   "metadata": {},
   "outputs": [
    {
     "name": "stdout",
     "output_type": "stream",
     "text": [
      "<class 'pandas.core.frame.DataFrame'>\n",
      "Int64Index: 98928 entries, 1 to 100000\n",
      "Columns: 189 entries, item_id to user_state_Thuringia\n",
      "dtypes: float64(3), int64(4), uint8(182)\n",
      "memory usage: 23.2 MB\n"
     ]
    }
   ],
   "source": [
    "import pandas as pd\n",
    "import numpy as np\n",
    "import statsmodels.api as sm\n",
    "import os\n",
    "from sklearn.model_selection import train_test_split\n",
    "from sklearn.model_selection import RandomizedSearchCV\n",
    "from scipy import stats\n",
    "\n",
    "os.chdir(\"C:/Users/TonyG/Documents/GitHub/bads/kaggle\")\n",
    "data = pd.read_pickle('./data/known_cleaned_w_dummies')\n",
    "X = data.drop(\"return\", axis = 1)\n",
    "y = data[\"return\"]\n",
    "X.info()"
   ]
  },
  {
   "cell_type": "markdown",
   "metadata": {},
   "source": [
    "### For Preliminary version only: Create test and train sets based on the known dataset via random splitting"
   ]
  },
  {
   "cell_type": "code",
   "execution_count": 14,
   "metadata": {},
   "outputs": [],
   "source": [
    "X_train, X_test, y_train, y_test = train_test_split(X, y, test_size = 0.2, random_state = 123)"
   ]
  },
  {
   "cell_type": "markdown",
   "metadata": {},
   "source": [
    "## 1. Logit Model with Elastic Net Penality "
   ]
  },
  {
   "cell_type": "code",
   "execution_count": 3,
   "metadata": {},
   "outputs": [
    {
     "name": "stdout",
     "output_type": "stream",
     "text": [
      "Couldn't find program: 'false'\n"
     ]
    }
   ],
   "source": [
    "%%script false --no-raise-error\n",
    "y, X = data[\"return\"], data.drop(axis = 1, labels = \"return\")\n",
    "model_logit = sm.OLS(y, X)\n"
   ]
  },
  {
   "cell_type": "markdown",
   "metadata": {},
   "source": [
    "## 2. Boosted Trees "
   ]
  },
  {
   "cell_type": "markdown",
   "metadata": {},
   "source": [
    "### 2.1 with Random Search CV"
   ]
  },
  {
   "cell_type": "code",
   "execution_count": 6,
   "metadata": {},
   "outputs": [],
   "source": [
    "import xgboost as xgb\n",
    "#dtrain_data = xgb.DMatrix(X_train, label = y_train)\n",
    "\n",
    "param_grid = {\"max_depth\" : np.arange(1,20),\n",
    "             \"eta\" : stats.uniform(0.1, 0.8),\n",
    "             \"gamma\" : stats.uniform(0.05, 3),\n",
    "             \"lambda\" : stats.uniform(0, 5),\n",
    "             \"alpha\" : stats.uniform(0, 5),\n",
    "             \"colsample_bytree\" : np.arange(0.2, 1, step = 0.1),\n",
    "             \"subsample\" : np.arange(0.5, 1, step = 0.1),\n",
    "             \"n_estimators\" : np.arange(10, 50, step = 5)}\n",
    "    \n",
    "gbm = xgb.XGBClassifier(objective = \"binary:logistic\", \n",
    "             num_parallel_tree = 1, num_boost_round = 80, early_stopping_rounds = 10)\n",
    "metric = \"roc_auc\"\n",
    "n = 100\n",
    "fold = 10"
   ]
  },
  {
   "cell_type": "code",
   "execution_count": 7,
   "metadata": {},
   "outputs": [
    {
     "name": "stdout",
     "output_type": "stream",
     "text": [
      "Fitting 10 folds for each of 100 candidates, totalling 1000 fits\n"
     ]
    },
    {
     "name": "stderr",
     "output_type": "stream",
     "text": [
      "[Parallel(n_jobs=7)]: Using backend LokyBackend with 7 concurrent workers.\n",
      "[Parallel(n_jobs=7)]: Done  36 tasks      | elapsed: 25.6min\n",
      "[Parallel(n_jobs=7)]: Done 186 tasks      | elapsed: 212.9min\n",
      "[Parallel(n_jobs=7)]: Done 436 tasks      | elapsed: 531.7min\n",
      "[Parallel(n_jobs=7)]: Done 786 tasks      | elapsed: 1036.1min\n",
      "[Parallel(n_jobs=7)]: Done 1000 out of 1000 | elapsed: 1305.5min finished\n"
     ]
    },
    {
     "data": {
      "text/plain": [
       "RandomizedSearchCV(cv=10,\n",
       "                   estimator=XGBClassifier(early_stopping_rounds=10,\n",
       "                                           num_boost_round=80,\n",
       "                                           num_parallel_tree=10),\n",
       "                   n_iter=100, n_jobs=7,\n",
       "                   param_distributions={'alpha': <scipy.stats._distn_infrastructure.rv_frozen object at 0x00000218A218ABC8>,\n",
       "                                        'colsample_bytree': array([0.2, 0.3, 0.4, 0.5, 0.6, 0.7, 0.8, 0.9]),\n",
       "                                        'eta': <scipy.stats._distn_infrastructure.rv_frozen obje...\n",
       "                                        'gamma': <scipy.stats._distn_infrastructure.rv_frozen object at 0x000002189873D708>,\n",
       "                                        'lambda': <scipy.stats._distn_infrastructure.rv_frozen object at 0x00000218A218A708>,\n",
       "                                        'max_depth': array([ 1,  2,  3,  4,  5,  6,  7,  8,  9, 10, 11, 12, 13, 14, 15, 16, 17,\n",
       "       18, 19]),\n",
       "                                        'n_estimators': array([10, 15, 20, 25, 30, 35, 40, 45]),\n",
       "                                        'subsample': array([0.5, 0.6, 0.7, 0.8, 0.9])},\n",
       "                   random_state=123, scoring='roc_auc', verbose=1)"
      ]
     },
     "execution_count": 7,
     "metadata": {},
     "output_type": "execute_result"
    }
   ],
   "source": [
    "randomized_auc = RandomizedSearchCV(estimator = gbm, n_iter = n, cv = fold, scoring = metric,\n",
    "                                    param_distributions = param_grid, verbose = 1, random_state = 123,\n",
    "                                   n_jobs = 7)\n",
    "randomized_auc.fit(X,y)"
   ]
  },
  {
   "cell_type": "code",
   "execution_count": 8,
   "metadata": {},
   "outputs": [
    {
     "name": "stdout",
     "output_type": "stream",
     "text": [
      "Best Parameters: {'alpha': 2.7630903067955797, 'colsample_bytree': 0.4000000000000001, 'eta': 0.3615745486583717, 'gamma': 0.5881705239639977, 'lambda': 2.3340493873098933, 'max_depth': 2, 'n_estimators': 15, 'subsample': 0.5}\n",
      "Best Score: 0.6747625886800404\n"
     ]
    },
    {
     "data": {
      "text/plain": [
       "masked_array(data=[3.595751550773865, 2.005087783306018,\n",
       "                   3.158960088435252, 2.4604238839617114,\n",
       "                   1.1725643759114308, 0.7704112092342336,\n",
       "                   3.1197647589605557, 4.927798928053525,\n",
       "                   2.167091196133339, 2.283739584286279,\n",
       "                   1.5748322294534307, 3.617081790949774,\n",
       "                   3.4776476438545547, 4.208349984563581,\n",
       "                   1.7795743285872978, 1.2042794886181225,\n",
       "                   3.3078216833312184, 1.7713233779583926,\n",
       "                   0.01344032287160346, 4.918154424558616,\n",
       "                   0.8053450721460742, 2.73881786314427,\n",
       "                   2.3693592750229744, 4.055195684974514,\n",
       "                   2.511848237228068, 2.9133554393070233,\n",
       "                   2.203214842049366, 2.426984129042013,\n",
       "                   4.6106433051801545, 3.588787811397788,\n",
       "                   3.72390327570883, 2.5565869574909694,\n",
       "                   1.7205596263776406, 2.0864553045167207,\n",
       "                   1.57571511351378, 2.046952062965292, 0.586034189347529,\n",
       "                   1.5677124559477988, 0.9550347768521056,\n",
       "                   1.90157741559478, 3.148638170235236, 2.372973418310874,\n",
       "                   3.258212805394777, 1.7649618520777572,\n",
       "                   4.700145074641368, 0.42411138722616815,\n",
       "                   4.8375566516871285, 2.9374687373975124,\n",
       "                   3.6466119512306783, 4.600746148795024,\n",
       "                   1.9493711516414618, 4.4113805059830815,\n",
       "                   0.7263186698522689, 2.7624020433241663,\n",
       "                   3.6135097106540464, 0.9124991603409577,\n",
       "                   3.8643891525077088, 0.43703871326411403,\n",
       "                   2.106000285850063, 4.548573310216691,\n",
       "                   1.9777219121438865, 1.6539582559225463,\n",
       "                   4.336439929431345, 0.9244301551265433,\n",
       "                   4.341573550862229, 2.6174377416250922,\n",
       "                   4.716002792385764, 2.336651365064355,\n",
       "                   1.0226336171706574, 1.3871198000369267,\n",
       "                   0.44915933536182007, 4.0525672813518545,\n",
       "                   0.0004094380683383747, 1.0641574928457453,\n",
       "                   3.8738897184150805, 4.204458867751466,\n",
       "                   2.023697429868738, 1.4210961726577769,\n",
       "                   3.3058438589849026, 3.73677069461582,\n",
       "                   1.0230856219857565, 0.5505259822270026,\n",
       "                   4.646812455258969, 1.4264051669687388,\n",
       "                   4.478178954343733, 3.145033035350674,\n",
       "                   0.19413052186782742, 0.6091976388370574,\n",
       "                   0.15958993802875687, 3.1295325584258444,\n",
       "                   0.9601507185698377, 4.709034822081272,\n",
       "                   4.65851441480743, 2.3340493873098933, 1.68114947383827,\n",
       "                   0.5203782253462214, 4.611769440555014,\n",
       "                   1.0352502494196654, 1.4146906356370352,\n",
       "                   0.5925949291174076],\n",
       "             mask=[False, False, False, False, False, False, False, False,\n",
       "                   False, False, False, False, False, False, False, False,\n",
       "                   False, False, False, False, False, False, False, False,\n",
       "                   False, False, False, False, False, False, False, False,\n",
       "                   False, False, False, False, False, False, False, False,\n",
       "                   False, False, False, False, False, False, False, False,\n",
       "                   False, False, False, False, False, False, False, False,\n",
       "                   False, False, False, False, False, False, False, False,\n",
       "                   False, False, False, False, False, False, False, False,\n",
       "                   False, False, False, False, False, False, False, False,\n",
       "                   False, False, False, False, False, False, False, False,\n",
       "                   False, False, False, False, False, False, False, False,\n",
       "                   False, False, False, False],\n",
       "       fill_value='?',\n",
       "            dtype=object)"
      ]
     },
     "execution_count": 8,
     "metadata": {},
     "output_type": "execute_result"
    }
   ],
   "source": [
    "print(\"Best Parameters:\", randomized_auc.best_params_)\n",
    "print(\"Best Score:\", randomized_auc.best_score_)"
   ]
  },
  {
   "cell_type": "code",
   "execution_count": null,
   "metadata": {},
   "outputs": [],
   "source": [
    "score_50 = randomized_auc.best_score_"
   ]
  },
  {
   "cell_type": "code",
   "execution_count": 9,
   "metadata": {},
   "outputs": [
    {
     "data": {
      "text/plain": [
       "0.6198670210605478"
      ]
     },
     "execution_count": 9,
     "metadata": {},
     "output_type": "execute_result"
    }
   ],
   "source": [
    "from sklearn.metrics import roc_auc_score\n",
    "preds = randomized_auc.predict(X_test)\n",
    "\n",
    "roc_auc_score(y_test, preds)"
   ]
  },
  {
   "cell_type": "code",
   "execution_count": 10,
   "metadata": {},
   "outputs": [],
   "source": [
    "data_u = pd.read_pickle('./data/unknown_cleaned_w_dummies')"
   ]
  },
  {
   "cell_type": "code",
   "execution_count": 11,
   "metadata": {
    "scrolled": true
   },
   "outputs": [],
   "source": [
    "preds = randomized_auc.predict_proba(data_u)[:, 1]\n",
    "predict_unknown = pd.Series(preds, index=data_u[\"item_id\"].index, name='return')\n",
    "predict_unknown.to_csv(\"first_pred.csv\")"
   ]
  },
  {
   "cell_type": "markdown",
   "metadata": {},
   "source": [
    "### 2.2 with Bayesion optimization CV"
   ]
  },
  {
   "cell_type": "code",
   "execution_count": 123,
   "metadata": {},
   "outputs": [],
   "source": [
    "import xgboost as xgb\n",
    "from bayes_opt import BayesianOptimization\n",
    "from sklearn.metrics import roc_auc_score\n",
    "\n",
    "X_train, X_test, y_train, y_test = train_test_split(X, y, test_size = 0.05, random_state = 123)\n",
    "\n",
    "dtrain = xgb.DMatrix(X_train, label = y_train)\n",
    "dtest = xgb.DMatrix(X_test, label = y_test)\n",
    "\n",
    "param_distr = {\"eta\" : (0.001, 0.8),\n",
    "              \"gamma\" : (0, 20),\n",
    "              \"max_depth\" : (0, 2000)}"
   ]
  },
  {
   "cell_type": "markdown",
   "metadata": {},
   "source": [
    "Define function to use Bayesian optimization to optimize a given function on a given dataset based on given parameters"
   ]
  },
  {
   "cell_type": "code",
   "execution_count": 124,
   "metadata": {},
   "outputs": [],
   "source": [
    "def xgb_evaluate(max_depth, gamma, eta, colsample_bytree, lam, alph):\n",
    "    params = {'eval_metric': 'auc',\n",
    "              'max_depth': int(max_depth),\n",
    "              'subsample': 0.8,\n",
    "              'eta': eta,\n",
    "              'gamma': gamma,\n",
    "              'colsample_bytree': colsample_bytree,\n",
    "              'objective' : 'binary:logistic',\n",
    "              'n_estimators' :  40,\n",
    "              'lambda' : lam,\n",
    "              'alph' : alph}\n",
    "    # Used around 1000 boosting rounds in the full model\n",
    "    cv_result = xgb.cv(params, dtrain, num_boost_round = 150, nfold = 10, early_stopping_rounds = 30)\n",
    "    return cv_result['test-auc-mean'].iloc[-1]"
   ]
  },
  {
   "cell_type": "code",
   "execution_count": null,
   "metadata": {},
   "outputs": [
    {
     "name": "stdout",
     "output_type": "stream",
     "text": [
      "|   iter    |  target   |   alph    | colsam... |    eta    |   gamma   |    lam    | max_depth |\n",
      "-------------------------------------------------------------------------------------------------\n",
      "| \u001b[0m 1       \u001b[0m | \u001b[0m 0.7449  \u001b[0m | \u001b[0m 3.054   \u001b[0m | \u001b[0m 0.573   \u001b[0m | \u001b[0m 0.02857 \u001b[0m | \u001b[0m 0.17    \u001b[0m | \u001b[0m 0.7926  \u001b[0m | \u001b[0m 15.14   \u001b[0m |\n",
      "| \u001b[0m 2       \u001b[0m | \u001b[0m 0.7318  \u001b[0m | \u001b[0m 4.64    \u001b[0m | \u001b[0m 0.754   \u001b[0m | \u001b[0m 0.3413  \u001b[0m | \u001b[0m 6.543   \u001b[0m | \u001b[0m 4.923   \u001b[0m | \u001b[0m 13.75   \u001b[0m |\n",
      "| \u001b[95m 3       \u001b[0m | \u001b[95m 0.7493  \u001b[0m | \u001b[95m 0.7066  \u001b[0m | \u001b[95m 0.6608  \u001b[0m | \u001b[95m 0.07732 \u001b[0m | \u001b[95m 3.476   \u001b[0m | \u001b[95m 4.539   \u001b[0m | \u001b[95m 60.58   \u001b[0m |\n",
      "| \u001b[0m 4       \u001b[0m | \u001b[0m 0.7358  \u001b[0m | \u001b[0m 2.33    \u001b[0m | \u001b[0m 0.7106  \u001b[0m | \u001b[0m 0.2846  \u001b[0m | \u001b[0m 3.629   \u001b[0m | \u001b[0m 0.6015  \u001b[0m | \u001b[0m 30.38   \u001b[0m |\n",
      "| \u001b[0m 5       \u001b[0m | \u001b[0m 0.7314  \u001b[0m | \u001b[0m 0.499   \u001b[0m | \u001b[0m 0.6277  \u001b[0m | \u001b[0m 0.4935  \u001b[0m | \u001b[0m 1.668   \u001b[0m | \u001b[0m 2.15    \u001b[0m | \u001b[0m 12.76   \u001b[0m |\n",
      "| \u001b[0m 6       \u001b[0m | \u001b[0m 0.7493  \u001b[0m | \u001b[0m 2.961   \u001b[0m | \u001b[0m 0.6418  \u001b[0m | \u001b[0m 0.03157 \u001b[0m | \u001b[0m 0.1745  \u001b[0m | \u001b[0m 2.785   \u001b[0m | \u001b[0m 44.34   \u001b[0m |\n",
      "| \u001b[0m 7       \u001b[0m | \u001b[0m 0.7476  \u001b[0m | \u001b[0m 2.822   \u001b[0m | \u001b[0m 0.4831  \u001b[0m | \u001b[0m 0.1919  \u001b[0m | \u001b[0m 0.2691  \u001b[0m | \u001b[0m 2.544   \u001b[0m | \u001b[0m 44.73   \u001b[0m |\n",
      "| \u001b[0m 8       \u001b[0m | \u001b[0m 0.7478  \u001b[0m | \u001b[0m 4.984   \u001b[0m | \u001b[0m 0.6185  \u001b[0m | \u001b[0m 0.1617  \u001b[0m | \u001b[0m 0.0     \u001b[0m | \u001b[0m 4.777   \u001b[0m | \u001b[0m 42.64   \u001b[0m |\n",
      "| \u001b[0m 9       \u001b[0m | \u001b[0m 0.7281  \u001b[0m | \u001b[0m 0.9455  \u001b[0m | \u001b[0m 0.9     \u001b[0m | \u001b[0m 0.001   \u001b[0m | \u001b[0m 0.0     \u001b[0m | \u001b[0m 3.596   \u001b[0m | \u001b[0m 41.01   \u001b[0m |\n",
      "| \u001b[0m 10      \u001b[0m | \u001b[0m 0.7282  \u001b[0m | \u001b[0m 5.0     \u001b[0m | \u001b[0m 0.9     \u001b[0m | \u001b[0m 0.001   \u001b[0m | \u001b[0m 0.0     \u001b[0m | \u001b[0m 3.585   \u001b[0m | \u001b[0m 44.86   \u001b[0m |\n",
      "| \u001b[0m 11      \u001b[0m | \u001b[0m 0.7398  \u001b[0m | \u001b[0m 1.799   \u001b[0m | \u001b[0m 0.6774  \u001b[0m | \u001b[0m 0.2608  \u001b[0m | \u001b[0m 0.02104 \u001b[0m | \u001b[0m 2.728   \u001b[0m | \u001b[0m 44.08   \u001b[0m |\n",
      "| \u001b[0m 12      \u001b[0m | \u001b[0m 0.7419  \u001b[0m | \u001b[0m 0.1308  \u001b[0m | \u001b[0m 0.7159  \u001b[0m | \u001b[0m 0.02979 \u001b[0m | \u001b[0m 4.3     \u001b[0m | \u001b[0m 4.484   \u001b[0m | \u001b[0m 60.27   \u001b[0m |\n",
      "| \u001b[0m 13      \u001b[0m | \u001b[0m 0.7457  \u001b[0m | \u001b[0m 1.331   \u001b[0m | \u001b[0m 0.5812  \u001b[0m | \u001b[0m 0.185   \u001b[0m | \u001b[0m 3.416   \u001b[0m | \u001b[0m 3.777   \u001b[0m | \u001b[0m 61.05   \u001b[0m |\n",
      "| \u001b[0m 14      \u001b[0m | \u001b[0m 0.7309  \u001b[0m | \u001b[0m 0.4916  \u001b[0m | \u001b[0m 0.7175  \u001b[0m | \u001b[0m 0.4671  \u001b[0m | \u001b[0m 2.567   \u001b[0m | \u001b[0m 4.53    \u001b[0m | \u001b[0m 60.88   \u001b[0m |\n"
     ]
    }
   ],
   "source": [
    "xgb_bo = BayesianOptimization(xgb_evaluate, {'max_depth': (3, 70), \n",
    "                                             'gamma': (0, 8),\n",
    "                                             'colsample_bytree': (0.3, 0.9),\n",
    "                                             'eta' : (0.001, 0.5),\n",
    "                                             'lam' : (0.1, 5),\n",
    "                                             'alph' : (0.1, 5)})\n",
    "# Optimally needs quite a few more initiation points and number of iterations\n",
    "xgb_bo.maximize(init_points = 5, n_iter = 50)"
   ]
  },
  {
   "cell_type": "markdown",
   "metadata": {},
   "source": [
    "Extract best parameters"
   ]
  },
  {
   "cell_type": "code",
   "execution_count": 106,
   "metadata": {},
   "outputs": [
    {
     "data": {
      "text/plain": [
       "{'target': 0.7436320000000001,\n",
       " 'params': {'colsample_bytree': 0.5071393910527546,\n",
       "  'eta': 0.08623980780896148,\n",
       "  'gamma': 6.419753366171392,\n",
       "  'max_depth': 65,\n",
       "  'n_estimators': 40,\n",
       "  'objective': 'binary:logistic'}}"
      ]
     },
     "execution_count": 106,
     "metadata": {},
     "output_type": "execute_result"
    }
   ],
   "source": [
    "params = xgb_bo.max\n",
    "#params['max_depth'] = int(params['max_depth'])\n",
    "params[\"params\"][\"max_depth\"] = int(params[\"params\"][\"max_depth\"])\n",
    "params[\"params\"][\"n_estimators\"] = int(40)\n",
    "params[\"params\"]['objective'] = 'binary:logistic'\n",
    "params"
   ]
  },
  {
   "cell_type": "markdown",
   "metadata": {},
   "source": [
    " Train model with optimal parameters and calculate auc for test set"
   ]
  },
  {
   "cell_type": "code",
   "execution_count": 107,
   "metadata": {},
   "outputs": [
    {
     "data": {
      "text/plain": [
       "0.7547288179323361"
      ]
     },
     "execution_count": 107,
     "metadata": {},
     "output_type": "execute_result"
    }
   ],
   "source": [
    "model_opt = xgb.train(params[\"params\"], dtrain, num_boost_round = 400, early_stopping_rounds = 100)\n",
    "\n",
    "preds = model_opt.predict(dtest)\n",
    "roc_auc_score(y_test, preds)"
   ]
  },
  {
   "cell_type": "code",
   "execution_count": 108,
   "metadata": {},
   "outputs": [],
   "source": [
    "data_u = pd.read_pickle('./data/unknown_cleaned_w_dummies')"
   ]
  },
  {
   "cell_type": "code",
   "execution_count": 109,
   "metadata": {},
   "outputs": [],
   "source": [
    "preds = model_opt.predict(xgb.DMatrix(data_u))\n",
    "predict_unknown = pd.Series(preds, index=data_u[\"item_id\"].index, name='return')\n",
    "predict_unknown.to_csv(\"fourth_pred.csv\")"
   ]
  },
  {
   "cell_type": "code",
   "execution_count": 110,
   "metadata": {},
   "outputs": [
    {
     "data": {
      "text/plain": [
       "count    50000.000000\n",
       "mean         0.468539\n",
       "std          0.246260\n",
       "min          0.000029\n",
       "25%          0.314746\n",
       "50%          0.516989\n",
       "75%          0.659789\n",
       "max          0.967148\n",
       "Name: return, dtype: float64"
      ]
     },
     "execution_count": 110,
     "metadata": {},
     "output_type": "execute_result"
    }
   ],
   "source": [
    "predict_unknown.describe()"
   ]
  },
  {
   "cell_type": "code",
   "execution_count": null,
   "metadata": {},
   "outputs": [],
   "source": []
  }
 ],
 "metadata": {
  "kernelspec": {
   "display_name": "Python 3",
   "language": "python",
   "name": "python3"
  },
  "language_info": {
   "codemirror_mode": {
    "name": "ipython",
    "version": 3
   },
   "file_extension": ".py",
   "mimetype": "text/x-python",
   "name": "python",
   "nbconvert_exporter": "python",
   "pygments_lexer": "ipython3",
   "version": "3.7.9"
  }
 },
 "nbformat": 4,
 "nbformat_minor": 4
}
