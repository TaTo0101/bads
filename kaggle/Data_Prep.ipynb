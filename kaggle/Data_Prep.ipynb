{
 "cells": [
  {
   "cell_type": "markdown",
   "metadata": {},
   "source": [
    "# 1. Data Preparation"
   ]
  },
  {
   "cell_type": "markdown",
   "metadata": {},
   "source": [
    "## 1.1 Load Data"
   ]
  },
  {
   "cell_type": "code",
   "execution_count": 79,
   "metadata": {},
   "outputs": [],
   "source": [
    "import pandas as pd\n",
    "import numpy as np\n",
    "import os\n",
    "os.chdir(\"C:/Users/TonyG/Documents/GitHub/bads/kaggle\")"
   ]
  },
  {
   "cell_type": "markdown",
   "metadata": {},
   "source": [
    "### Load known and unknown data"
   ]
  },
  {
   "cell_type": "code",
   "execution_count": 80,
   "metadata": {},
   "outputs": [],
   "source": [
    "data = pd.read_csv(\"./data/BADS_WS2021_known.csv\", sep = \",\", index_col='order_item_id')\n",
    "og_data = data.copy()\n",
    "\n",
    "data_u = pd.read_csv(\"./data/BADS_WS2021_unknown.csv\", sep = \",\", index_col='order_item_id')\n",
    "og_data_u = data_u.copy()"
   ]
  },
  {
   "cell_type": "markdown",
   "metadata": {},
   "source": [
    "Change datatype of date variables to datetime, target to bool and category variables to category"
   ]
  },
  {
   "cell_type": "code",
   "execution_count": 81,
   "metadata": {},
   "outputs": [],
   "source": [
    "filter_date = [\"order_date\", \"user_reg_date\", \"delivery_date\", \"user_dob\"] # filter for variables to be changed to datetime\n",
    "data[filter_date] = data[filter_date].apply(pd.to_datetime,format = \"%Y-%m-%d\") # change variables type to datetime\n",
    "\n",
    "filter_cat = [\"item_size\", \"item_color\", \"user_title\", \"user_state\"] # filter for variables to be changed to category\n",
    "data[filter_cat] = data[filter_cat].astype(\"category\") # change variables type to category\n",
    "\n",
    "data[\"return\"] = data[\"return\"].astype(bool) # Change return type to bool\n",
    "\n",
    "# Repeat exercise for unknown data set\n",
    "data_u[filter_date] = data_u[filter_date].apply(pd.to_datetime,format = \"%Y-%m-%d\")\n",
    "data_u[filter_cat] = data_u[filter_cat].astype(\"category\")"
   ]
  },
  {
   "cell_type": "markdown",
   "metadata": {},
   "source": [
    "## Unify categories for item_size and item_color between unknown and known data set otherwise won't work with XGBoost. "
   ]
  },
  {
   "cell_type": "markdown",
   "metadata": {},
   "source": [
    "Unification for known dataset, for unknown see below."
   ]
  },
  {
   "cell_type": "code",
   "execution_count": 82,
   "metadata": {},
   "outputs": [
    {
     "name": "stdout",
     "output_type": "stream",
     "text": [
      "Known sizes unified.\n",
      "Known colors unified.\n"
     ]
    }
   ],
   "source": [
    "union_size = data[\"item_size\"].cat.categories.sort_values().intersection(data_u[\"item_size\"].cat.categories.sort_values()) # Get the union of all sizes from both datasets\n",
    "union_col = data[\"item_color\"].cat.categories.sort_values().intersection(data_u[\"item_color\"].cat.categories.sort_values()) # Get the union of all colors from both datasets\n",
    "\n",
    "\n",
    "difference_known = data[\"item_size\"].cat.categories.sort_values().difference(union_size)\n",
    "\n",
    "if len(difference_known) > 0:\n",
    "    data[\"item_size\"] = np.where(data['item_size'].isin(difference_known), 'Difference', data['item_size'])\n",
    "    data[\"item_size\"] = data[\"item_size\"].astype(\"category\")\n",
    "    print(\"Known sizes unified.\")\n",
    "else: \n",
    "    data[\"item_size\"].cat.add_categories(\"Difference\", inplace = True)\n",
    "    print(\"No known sizes to unify.\")\n",
    "\n",
    "difference_known = data[\"item_color\"].cat.categories.sort_values().difference(union_col)\n",
    "\n",
    "if len(difference_known) > 0:\n",
    "    data[\"item_color\"] = np.where(data['item_color'].isin(difference_known), 'Difference', data['item_color'])\n",
    "    data[\"item_color\"] = data[\"item_color\"].astype(\"category\")\n",
    "    print(\"Known colors unified.\")\n",
    "else:\n",
    "    data[\"item_color\"].cat.add_categories(\"Difference\", inplace = True)\n",
    "    print(\"No known color to unify.\")"
   ]
  },
  {
   "cell_type": "code",
   "execution_count": 83,
   "metadata": {},
   "outputs": [
    {
     "name": "stdout",
     "output_type": "stream",
     "text": [
      "Unknown sizes unified.\n",
      "No unknown colors to unify.\n"
     ]
    }
   ],
   "source": [
    "# Unknown Data set\n",
    "\n",
    "difference_unknown = data_u[\"item_size\"].cat.categories.sort_values().difference(union_size)\n",
    "\n",
    "if len(difference_unknown) > 0:\n",
    "    data_u[\"item_size\"] = np.where(data_u['item_size'].isin(difference_unknown), 'Difference', data_u['item_size'])\n",
    "    data_u[\"item_size\"] = data_u[\"item_size\"].astype(\"category\")\n",
    "    print(\"Unknown sizes unified.\")\n",
    "else:\n",
    "    data_u[\"item_size\"].cat.add_categories(\"Difference\", inplace = True)\n",
    "    print(\"No unknown sizes to unify.\")\n",
    "\n",
    "difference_unknown = data_u[\"item_color\"].cat.categories.sort_values().difference(union_col)\n",
    "\n",
    "if len(difference_unknown) > 0:\n",
    "    data_u[\"item_color\"] = np.where(data_u['item_color'].isin(difference_unknown), 'Difference', data_u['item_color'])\n",
    "    data_u[\"item_color\"] = data_u[\"item_color\"].astype(\"category\")\n",
    "    print(\"Unknown color unified.\")\n",
    "else:\n",
    "    data_u[\"item_color\"].cat.add_categories(\"Difference\", inplace = True)\n",
    "    print(\"No unknown colors to unify.\")"
   ]
  },
  {
   "cell_type": "markdown",
   "metadata": {},
   "source": [
    "### Feature selection for the variables item_size and item_color"
   ]
  },
  {
   "cell_type": "markdown",
   "metadata": {},
   "source": [
    "First we coerse all categories of item_size together where the return ratio is either $\\mathbb{P}$-a.s. False or True. "
   ]
  },
  {
   "cell_type": "code",
   "execution_count": 84,
   "metadata": {},
   "outputs": [
    {
     "name": "stdout",
     "output_type": "stream",
     "text": [
      "Categories merged.\n"
     ]
    }
   ],
   "source": [
    "help1 = pd.crosstab(data.item_size, data[\"return\"]).apply(lambda r: r/r.sum(), axis=1)\n",
    "size_f, size_t = help1[help1[0] == 1], help1[help1[1] == 1] # Item sizes where return is either 0 or 1\n",
    "\n",
    "if len(size_f.index) > 0 or len(size_t.index) > 0:\n",
    "    data[\"item_size\"] = np.where(data['item_size'].isin(size_t.index), 'Other_true', data['item_size']) # Coerce to new category\n",
    "    data[\"item_size\"] = np.where(data['item_size'].isin(size_f.index), 'Other_false', data['item_size'])\n",
    "\n",
    "    # Repeat for unknown data set but only use categories identified in the known data set\n",
    "    data_u[\"item_size\"] = np.where(data_u['item_size'].isin(size_t.index), 'Other_true', data_u['item_size']) # Coerce to new category\n",
    "    data_u[\"item_size\"] = np.where(data_u['item_size'].isin(size_f.index), 'Other_false', data_u['item_size'])\n",
    "    print(\"Categories merged.\")\n",
    "else:\n",
    "    print(\"No uninformative categories.\")"
   ]
  },
  {
   "cell_type": "markdown",
   "metadata": {},
   "source": [
    "We do the same for the variable item_color"
   ]
  },
  {
   "cell_type": "code",
   "execution_count": 85,
   "metadata": {},
   "outputs": [
    {
     "name": "stdout",
     "output_type": "stream",
     "text": [
      "No uninformative categories.\n"
     ]
    }
   ],
   "source": [
    "help1 = pd.crosstab(data.item_color, data[\"return\"]).apply(lambda r: r/r.sum(), axis=1)\n",
    "color_f, color_t = help1[help1[0] == 1], help1[help1[1] == 1] # Item sizes where return is either 0 or 1\n",
    "\n",
    "if len(color_f.index) > 0 or len(color_t.index) > 0:\n",
    "    data[\"item_color\"] = np.where(data['item_color'].isin(color_t.index), 'Other_true', data['item_color']) # Coerce to new category\n",
    "    data[\"item_color\"] = np.where(data['item_color'].isin(color_f.index), 'Other_false', data['item_color'])\n",
    "    \n",
    "    # Repeat for unknown data set but only use categories identified in the known data set\n",
    "    data_u[\"item_color\"] = np.where(data_u['item_color'].isin(color_t.index), 'Other_true', data_u['item_color']) # Coerce to new category\n",
    "    data_u[\"item_color\"] = np.where(data_u['item_color'].isin(color_f.index), 'Other_false', data_u['item_color'])\n",
    "    print(\"Categories merged.\")\n",
    "else:\n",
    "    print(\"No uninformative categories.\")\n",
    "\n",
    "data[filter_cat] = data[filter_cat].astype(\"category\")\n",
    "data_u[filter_cat] = data_u[filter_cat].astype(\"category\")"
   ]
  },
  {
   "cell_type": "markdown",
   "metadata": {},
   "source": [
    "Next we coerce categories by their difference in true to false ratio w.r.t. to the boolean return. Our initial threshold is 0.01 so 1%"
   ]
  },
  {
   "cell_type": "code",
   "execution_count": 86,
   "metadata": {},
   "outputs": [],
   "source": [
    "help2 = pd.crosstab(data.item_size, data[\"return\"]).apply(lambda r: r/r.sum(), axis=1)\n",
    "\n",
    "threshold_percent = 0.05\n",
    "series = pd.value_counts(data['item_size'])\n",
    "mask = (help2[0]-help2[1]).abs().lt(threshold_percent)\n",
    "data[\"item_size\"] = np.where(data['item_size'].isin(series[mask].index), 'Other', data['item_size'])\n",
    "data_u[\"item_size\"] = np.where(data_u['item_size'].isin(series[mask].index), 'Other', data_u['item_size'])\n",
    "\n",
    "data[filter_cat] = data[filter_cat].astype(\"category\")\n",
    "data_u[filter_cat] = data_u[filter_cat].astype(\"category\")"
   ]
  },
  {
   "cell_type": "markdown",
   "metadata": {},
   "source": [
    "Same for item_color"
   ]
  },
  {
   "cell_type": "code",
   "execution_count": 87,
   "metadata": {},
   "outputs": [],
   "source": [
    "help2 = pd.crosstab(data.item_color, data[\"return\"]).apply(lambda r: r/r.sum(), axis=1)\n",
    "\n",
    "threshold_percent = 0.05\n",
    "series = pd.value_counts(data['item_color'])\n",
    "mask = (help2[0]-help2[1]).abs().lt(threshold_percent)\n",
    "data[\"item_color\"] = np.where(data['item_color'].isin(series[mask].index), 'Other', data['item_color'])\n",
    "data_u[\"item_color\"] = np.where(data_u['item_color'].isin(series[mask].index), 'Other', data_u['item_color'])\n",
    "\n",
    "data[filter_cat] = data[filter_cat].astype(\"category\")\n",
    "data_u[filter_cat] = data_u[filter_cat].astype(\"category\")"
   ]
  },
  {
   "cell_type": "markdown",
   "metadata": {},
   "source": [
    "Compare new category levels with old category levels"
   ]
  },
  {
   "cell_type": "code",
   "execution_count": 88,
   "metadata": {},
   "outputs": [
    {
     "data": {
      "text/plain": [
       "(item_size     31\n",
       " item_color    10\n",
       " dtype: int64,\n",
       " item_size     30\n",
       " item_color    19\n",
       " dtype: int64)"
      ]
     },
     "execution_count": 88,
     "metadata": {},
     "output_type": "execute_result"
    }
   ],
   "source": [
    "og_data[filter_cat] = og_data[filter_cat].astype(\"category\")\n",
    "og_data_u[filter_cat] = og_data_u[filter_cat].astype(\"category\")\n",
    "\n",
    "# First unknown, then known, difference of categories\n",
    "og_data_u.loc[:, [\"item_size\", \"item_color\"]].nunique()-data_u.loc[:, [\"item_size\", \"item_color\"]].nunique(), og_data.loc[:, [\"item_size\", \"item_color\"]].nunique()-data.loc[:, [\"item_size\", \"item_color\"]].nunique()"
   ]
  },
  {
   "cell_type": "code",
   "execution_count": 89,
   "metadata": {},
   "outputs": [
    {
     "data": {
      "text/plain": [
       "(item_size     72\n",
       " item_color    58\n",
       " dtype: int64,\n",
       " item_size     72\n",
       " item_color    57\n",
       " dtype: int64)"
      ]
     },
     "execution_count": 89,
     "metadata": {},
     "output_type": "execute_result"
    }
   ],
   "source": [
    "# Remaining number of categories\n",
    "data.loc[:, [\"item_size\", \"item_color\"]].nunique(), data_u.loc[:, [\"item_size\", \"item_color\"]].nunique()"
   ]
  },
  {
   "cell_type": "markdown",
   "metadata": {},
   "source": [
    "### Create Time_to_delivery"
   ]
  },
  {
   "cell_type": "markdown",
   "metadata": {},
   "source": [
    "After some exploration we identified an irregular entry of delivery dates. The date \"1994-12-31\" showed up in 983 rows but the earliest order date is not befor 2007. Hence, some data must have been corrupted so that this date was hard coded into the data set instead of a missing value. We cannot determine the concrete reason for this (e.g. item wasn't delivered, delivery date could not be tracked) and for this reason we dropped the 983 observations from our dataset. For the protocol the return ration for those entries was 1/3 for 0."
   ]
  },
  {
   "cell_type": "code",
   "execution_count": 90,
   "metadata": {},
   "outputs": [],
   "source": [
    "data = data[data[\"delivery_date\"] != \"1994-12-31\"]"
   ]
  },
  {
   "cell_type": "code",
   "execution_count": 91,
   "metadata": {},
   "outputs": [],
   "source": [
    "from datetime import datetime\n",
    "data[\"time_to_delivery\"] = (data[\"delivery_date\"]-data[\"order_date\"]).dt.days"
   ]
  },
  {
   "cell_type": "markdown",
   "metadata": {},
   "source": [
    "### Convert birth date to age in days"
   ]
  },
  {
   "cell_type": "code",
   "execution_count": 92,
   "metadata": {},
   "outputs": [],
   "source": [
    "t1 = data[\"user_dob\"]\n",
    "t2 = datetime.now()\n",
    "\n",
    "data[\"user_age\"] = (t2-t1).dt.days"
   ]
  },
  {
   "cell_type": "markdown",
   "metadata": {},
   "source": [
    "### Convert date of register to customer age in days"
   ]
  },
  {
   "cell_type": "code",
   "execution_count": 93,
   "metadata": {},
   "outputs": [],
   "source": [
    "t1 = data[\"user_reg_date\"]\n",
    "t2 = datetime.now()\n",
    "\n",
    "data[\"customer_age\"] = (t2-t1).dt.days"
   ]
  },
  {
   "cell_type": "code",
   "execution_count": 94,
   "metadata": {},
   "outputs": [],
   "source": [
    "# Repeat for unknown data\n",
    "data_u[\"time_to_delivery\"] = (data_u[\"delivery_date\"]-data_u[\"order_date\"]).dt.days\n",
    "\n",
    "t1 = data_u[\"user_dob\"]\n",
    "t2 = datetime.now()\n",
    "\n",
    "data_u[\"user_age\"] = (t2-t1).dt.days\n",
    "\n",
    "t1 = data_u[\"user_reg_date\"]\n",
    "t2 = datetime.now()\n",
    "\n",
    "data_u[\"customer_age\"] = (t2-t1).dt.days\n",
    "\n",
    "data_u = data_u.drop(labels = [\"order_date\", \"delivery_date\", \"user_dob\", \"user_reg_date\"], axis = 1)"
   ]
  },
  {
   "cell_type": "markdown",
   "metadata": {},
   "source": [
    "### Delete old date variables"
   ]
  },
  {
   "cell_type": "code",
   "execution_count": 95,
   "metadata": {},
   "outputs": [],
   "source": [
    "backup = data.copy()\n",
    "data = data.drop(labels = [\"order_date\", \"delivery_date\", \"user_dob\", \"user_reg_date\"], axis = 1)"
   ]
  },
  {
   "cell_type": "markdown",
   "metadata": {},
   "source": [
    "Since there are still many categories left, we employ a different feature selection method, namely tree-based feature selection based on feature importance. Since feature importance is in line with our model (boosted trees) we think this method is well suited to provide a meaningful feature selection.\n",
    "However, in order to select features at all we need to dummy encode the variables. Since we're mainly interested in feature selection for categories of the variables item_size and item_color, we drop all other variables, except the target variable return."
   ]
  },
  {
   "cell_type": "code",
   "execution_count": 96,
   "metadata": {},
   "outputs": [
    {
     "name": "stdout",
     "output_type": "stream",
     "text": [
      "Couldn't find program: 'false'\n"
     ]
    }
   ],
   "source": [
    "%%script false --no-raise-error\n",
    "backup = data.copy()\n",
    "backup_u = data_u.copy()\n",
    "\n",
    "dummies = pd.get_dummies(data.loc[:, [\"item_size\", \"item_color\"]])\n",
    "dummies_u = pd.get_dummies(data_u.loc[:, [\"item_size\", \"item_color\"]])\n",
    "backup = backup.drop(labels = data.columns[:-1], axis = 1)\n",
    "backup_u = backup_u.drop(labels = data_u.columns[:-1], axis = 1)\n",
    "backup = pd.concat([backup, dummies], axis = 1)\n",
    "backup_u = pd.concat([backup_u, dummies_u], axis = 1)\n",
    "\n",
    "data_fs = backup\n",
    "data_u_fs = backup_u"
   ]
  },
  {
   "cell_type": "code",
   "execution_count": 97,
   "metadata": {},
   "outputs": [],
   "source": [
    "backup = data.copy()\n",
    "backup_u = data_u.copy()\n",
    "\n",
    "dummies = pd.get_dummies(data.select_dtypes(\"category\"))\n",
    "dummies_u = pd.get_dummies(data_u.select_dtypes(\"category\"))\n",
    "backup = backup.drop(labels = data.select_dtypes(\"category\").columns, axis = 1)\n",
    "backup_u = backup_u.drop(labels = data_u.select_dtypes(\"category\").columns, axis = 1)\n",
    "backup = pd.concat([backup, dummies], axis = 1)\n",
    "backup_u = pd.concat([backup_u, dummies_u], axis = 1)\n",
    "\n",
    "data_fs = backup\n",
    "data_u_fs = backup_u"
   ]
  },
  {
   "cell_type": "markdown",
   "metadata": {},
   "source": [
    "Now we fit the tree classifier and select the feature by variable importance. Since we don't know the response for the unknown data set, we just select the same features."
   ]
  },
  {
   "cell_type": "code",
   "execution_count": 98,
   "metadata": {},
   "outputs": [
    {
     "data": {
      "text/html": [
       "<div>\n",
       "<style scoped>\n",
       "    .dataframe tbody tr th:only-of-type {\n",
       "        vertical-align: middle;\n",
       "    }\n",
       "\n",
       "    .dataframe tbody tr th {\n",
       "        vertical-align: top;\n",
       "    }\n",
       "\n",
       "    .dataframe thead th {\n",
       "        text-align: right;\n",
       "    }\n",
       "</style>\n",
       "<table border=\"1\" class=\"dataframe\">\n",
       "  <thead>\n",
       "    <tr style=\"text-align: right;\">\n",
       "      <th></th>\n",
       "      <th>Importance</th>\n",
       "      <th>Feature</th>\n",
       "    </tr>\n",
       "  </thead>\n",
       "  <tbody>\n",
       "    <tr>\n",
       "      <th>3</th>\n",
       "      <td>0.192759</td>\n",
       "      <td>user_id</td>\n",
       "    </tr>\n",
       "    <tr>\n",
       "      <th>0</th>\n",
       "      <td>0.13511</td>\n",
       "      <td>item_id</td>\n",
       "    </tr>\n",
       "    <tr>\n",
       "      <th>4</th>\n",
       "      <td>0.13411</td>\n",
       "      <td>customer_age</td>\n",
       "    </tr>\n",
       "    <tr>\n",
       "      <th>2</th>\n",
       "      <td>0.126966</td>\n",
       "      <td>item_price</td>\n",
       "    </tr>\n",
       "    <tr>\n",
       "      <th>1</th>\n",
       "      <td>0.093037</td>\n",
       "      <td>brand_id</td>\n",
       "    </tr>\n",
       "    <tr>\n",
       "      <th>...</th>\n",
       "      <td>...</td>\n",
       "      <td>...</td>\n",
       "    </tr>\n",
       "    <tr>\n",
       "      <th>48</th>\n",
       "      <td>0.000051</td>\n",
       "      <td>item_size_45+</td>\n",
       "    </tr>\n",
       "    <tr>\n",
       "      <th>80</th>\n",
       "      <td>0.000048</td>\n",
       "      <td>item_color_almond</td>\n",
       "    </tr>\n",
       "    <tr>\n",
       "      <th>106</th>\n",
       "      <td>0.000045</td>\n",
       "      <td>item_color_ebony</td>\n",
       "    </tr>\n",
       "    <tr>\n",
       "      <th>16</th>\n",
       "      <td>0.000039</td>\n",
       "      <td>item_size_176</td>\n",
       "    </tr>\n",
       "    <tr>\n",
       "      <th>68</th>\n",
       "      <td>0.000005</td>\n",
       "      <td>item_size_Other_true</td>\n",
       "    </tr>\n",
       "  </tbody>\n",
       "</table>\n",
       "<p>156 rows × 2 columns</p>\n",
       "</div>"
      ],
      "text/plain": [
       "    Importance               Feature\n",
       "3     0.192759               user_id\n",
       "0      0.13511               item_id\n",
       "4      0.13411          customer_age\n",
       "2     0.126966            item_price\n",
       "1     0.093037              brand_id\n",
       "..         ...                   ...\n",
       "48    0.000051         item_size_45+\n",
       "80    0.000048     item_color_almond\n",
       "106   0.000045      item_color_ebony\n",
       "16    0.000039         item_size_176\n",
       "68    0.000005  item_size_Other_true\n",
       "\n",
       "[156 rows x 2 columns]"
      ]
     },
     "execution_count": 98,
     "metadata": {},
     "output_type": "execute_result"
    }
   ],
   "source": [
    "from sklearn.ensemble import ExtraTreesClassifier\n",
    "from sklearn.feature_selection import SelectFromModel\n",
    "\n",
    "X, y = data_fs.drop(labels = [\"return\", \"time_to_delivery\", \"user_age\"], axis = 1), data_fs.loc[:, \"return\"]\n",
    "clf = ExtraTreesClassifier(n_estimators=100)\n",
    "clf = clf.fit(X, y)\n",
    "feat_selec = pd.DataFrame(data = np.array([clf.feature_importances_, X.columns]).transpose(), columns = [\"Importance\", \"Feature\"])\n",
    "feat_selec.sort_values(by = \"Importance\", ascending = 0) # Sorted by importance"
   ]
  },
  {
   "cell_type": "markdown",
   "metadata": {},
   "source": [
    "Now we select the best features based on quantiles of their feature importance, i.e. we select only the best 50%."
   ]
  },
  {
   "cell_type": "code",
   "execution_count": 99,
   "metadata": {},
   "outputs": [
    {
     "data": {
      "text/plain": [
       "5                  item_size_1\n",
       "7                item_size_100\n",
       "8                item_size_104\n",
       "9                item_size_116\n",
       "10               item_size_128\n",
       "                ...           \n",
       "119           item_color_mango\n",
       "129          item_color_silver\n",
       "131         item_color_striped\n",
       "135         user_title_Company\n",
       "139    user_title_not reported\n",
       "Name: Feature, Length: 78, dtype: object"
      ]
     },
     "execution_count": 99,
     "metadata": {},
     "output_type": "execute_result"
    }
   ],
   "source": [
    "drop_vars = feat_selec[feat_selec[\"Importance\"]<=feat_selec[\"Importance\"].quantile(q = 0.5)].Feature\n",
    "drop_vars"
   ]
  },
  {
   "cell_type": "markdown",
   "metadata": {},
   "source": [
    "This will be used later, when we finished the data transformation process, since it is easier to drop the dummies when we converted the data to only contain dummies for categorical data. "
   ]
  },
  {
   "cell_type": "markdown",
   "metadata": {},
   "source": [
    "Since there are still many categories we coerce all categories with less than 100 observations in it ($\\approx 1\\,603$ observations) to one category, namely \"other\". "
   ]
  },
  {
   "cell_type": "code",
   "execution_count": 100,
   "metadata": {},
   "outputs": [
    {
     "name": "stdout",
     "output_type": "stream",
     "text": [
      "Couldn't find program: 'false'\n"
     ]
    }
   ],
   "source": [
    "%%script false --no-raise-error\n",
    "threshold = 100\n",
    "series = pd.value_counts(data['item_size'])\n",
    "mask = series < threshold\n",
    "data[\"item_size\"] = np.where(data['item_size'].isin(series[mask].index), 'Other', data['item_size'])"
   ]
  },
  {
   "cell_type": "markdown",
   "metadata": {},
   "source": [
    "The following number of unique categories remain:"
   ]
  },
  {
   "cell_type": "code",
   "execution_count": 101,
   "metadata": {},
   "outputs": [
    {
     "data": {
      "text/html": [
       "<div>\n",
       "<style scoped>\n",
       "    .dataframe tbody tr th:only-of-type {\n",
       "        vertical-align: middle;\n",
       "    }\n",
       "\n",
       "    .dataframe tbody tr th {\n",
       "        vertical-align: top;\n",
       "    }\n",
       "\n",
       "    .dataframe thead th {\n",
       "        text-align: right;\n",
       "    }\n",
       "</style>\n",
       "<table border=\"1\" class=\"dataframe\">\n",
       "  <thead>\n",
       "    <tr style=\"text-align: right;\">\n",
       "      <th></th>\n",
       "      <th>count</th>\n",
       "      <th>unique</th>\n",
       "      <th>top</th>\n",
       "      <th>freq</th>\n",
       "    </tr>\n",
       "    <tr>\n",
       "      <th>return</th>\n",
       "      <th></th>\n",
       "      <th></th>\n",
       "      <th></th>\n",
       "      <th></th>\n",
       "    </tr>\n",
       "  </thead>\n",
       "  <tbody>\n",
       "    <tr>\n",
       "      <th>False</th>\n",
       "      <td>53513</td>\n",
       "      <td>58</td>\n",
       "      <td>Other</td>\n",
       "      <td>13285</td>\n",
       "    </tr>\n",
       "    <tr>\n",
       "      <th>True</th>\n",
       "      <td>45415</td>\n",
       "      <td>58</td>\n",
       "      <td>Other</td>\n",
       "      <td>12628</td>\n",
       "    </tr>\n",
       "  </tbody>\n",
       "</table>\n",
       "</div>"
      ],
      "text/plain": [
       "        count unique    top   freq\n",
       "return                            \n",
       "False   53513     58  Other  13285\n",
       "True    45415     58  Other  12628"
      ]
     },
     "execution_count": 101,
     "metadata": {},
     "output_type": "execute_result"
    }
   ],
   "source": [
    "data.groupby(\"return\")[\"item_color\"].describe()"
   ]
  },
  {
   "cell_type": "markdown",
   "metadata": {},
   "source": [
    "The exact same steps are repeated again for the variable \"item_color\"."
   ]
  },
  {
   "cell_type": "code",
   "execution_count": 102,
   "metadata": {},
   "outputs": [
    {
     "name": "stdout",
     "output_type": "stream",
     "text": [
      "Couldn't find program: 'false'\n"
     ]
    }
   ],
   "source": [
    "%%script false --no-raise-error\n",
    "\n",
    "help1 = pd.crosstab(data.item_color, data[\"return\"]).apply(lambda r: r/r.sum(), axis=1)\n",
    "color_f, color_t = help1[help1[0] == 1], help1[help1[1] == 1]\n",
    "\n",
    "data[\"item_color\"] = np.where(data['item_color'].isin(color_t.index), 'Other_true', data['item_color'])\n",
    "data[\"item_color\"] = np.where(data['item_color'].isin(color_f.index), 'Other_false', data['item_color'])"
   ]
  },
  {
   "cell_type": "code",
   "execution_count": 103,
   "metadata": {},
   "outputs": [
    {
     "name": "stdout",
     "output_type": "stream",
     "text": [
      "Couldn't find program: 'false'\n"
     ]
    }
   ],
   "source": [
    "%%script false --no-raise-error\n",
    "\n",
    "help2 = pd.crosstab(data.item_color, data[\"return\"]).apply(lambda r: r/r.sum(), axis=1)\n",
    "threshold_percent = 0.01\n",
    "series = pd.value_counts(data['item_color'])\n",
    "mask = (help2[0]-help2[1]).abs().lt(threshold_percent)\n",
    "data[\"item_color\"] = np.where(data['item_color'].isin(series[mask].index), 'Other', data['item_color'])"
   ]
  },
  {
   "cell_type": "code",
   "execution_count": 104,
   "metadata": {},
   "outputs": [
    {
     "name": "stdout",
     "output_type": "stream",
     "text": [
      "Couldn't find program: 'false'\n"
     ]
    }
   ],
   "source": [
    "%%script false --no-raise-error\n",
    "\n",
    "threshold = 100\n",
    "series = pd.value_counts(data['item_color'])\n",
    "mask = series < threshold\n",
    "data[\"item_color\"] = np.where(data['item_color'].isin(series[mask].index), 'Other', data['item_color'])"
   ]
  },
  {
   "cell_type": "code",
   "execution_count": 105,
   "metadata": {},
   "outputs": [
    {
     "data": {
      "text/html": [
       "<div>\n",
       "<style scoped>\n",
       "    .dataframe tbody tr th:only-of-type {\n",
       "        vertical-align: middle;\n",
       "    }\n",
       "\n",
       "    .dataframe tbody tr th {\n",
       "        vertical-align: top;\n",
       "    }\n",
       "\n",
       "    .dataframe thead th {\n",
       "        text-align: right;\n",
       "    }\n",
       "</style>\n",
       "<table border=\"1\" class=\"dataframe\">\n",
       "  <thead>\n",
       "    <tr style=\"text-align: right;\">\n",
       "      <th></th>\n",
       "      <th>count</th>\n",
       "      <th>unique</th>\n",
       "      <th>top</th>\n",
       "      <th>freq</th>\n",
       "    </tr>\n",
       "    <tr>\n",
       "      <th>return</th>\n",
       "      <th></th>\n",
       "      <th></th>\n",
       "      <th></th>\n",
       "      <th></th>\n",
       "    </tr>\n",
       "  </thead>\n",
       "  <tbody>\n",
       "    <tr>\n",
       "      <th>False</th>\n",
       "      <td>53513</td>\n",
       "      <td>71</td>\n",
       "      <td>Other</td>\n",
       "      <td>12563</td>\n",
       "    </tr>\n",
       "    <tr>\n",
       "      <th>True</th>\n",
       "      <td>45415</td>\n",
       "      <td>71</td>\n",
       "      <td>Other</td>\n",
       "      <td>12486</td>\n",
       "    </tr>\n",
       "  </tbody>\n",
       "</table>\n",
       "</div>"
      ],
      "text/plain": [
       "        count unique    top   freq\n",
       "return                            \n",
       "False   53513     71  Other  12563\n",
       "True    45415     71  Other  12486"
      ]
     },
     "execution_count": 105,
     "metadata": {},
     "output_type": "execute_result"
    }
   ],
   "source": [
    "data.groupby(\"return\")[\"item_size\"].describe()"
   ]
  },
  {
   "cell_type": "markdown",
   "metadata": {},
   "source": [
    "For some reason all converted object variables (i.e. the category variable) have been reconverted. But I can't be bothered, so:"
   ]
  },
  {
   "cell_type": "code",
   "execution_count": 106,
   "metadata": {},
   "outputs": [],
   "source": [
    "data[filter_cat] = data[filter_cat].astype(\"category\")"
   ]
  },
  {
   "cell_type": "markdown",
   "metadata": {},
   "source": [
    "Next we do three things:\n",
    "* Calculate difference between order and delivery date and replace both variables with this difference\n",
    "* Convert Date of Birth to current age in years\n",
    "* Convert date of register to 'customer age'\n",
    "\n",
    "With this we significantly reduce the complexity of the data set for further analysis"
   ]
  },
  {
   "cell_type": "code",
   "execution_count": 107,
   "metadata": {},
   "outputs": [],
   "source": [
    "data.to_pickle('./data/known_cleaned_wo_dummies')"
   ]
  },
  {
   "cell_type": "markdown",
   "metadata": {},
   "source": [
    "## Save Data with dummy encoding"
   ]
  },
  {
   "cell_type": "code",
   "execution_count": 108,
   "metadata": {},
   "outputs": [],
   "source": [
    "backup = data.copy()\n",
    "dummies = pd.get_dummies(data.select_dtypes(\"category\"))\n",
    "backup = backup.drop(labels = [\"item_size\", \"item_color\", \"user_title\", \"user_state\"], axis = 1)\n",
    "backup = pd.concat([backup, dummies], axis = 1)\n",
    "\n",
    "# Unknown Data\n",
    "backup_u = data_u.copy()\n",
    "dummies_u = pd.get_dummies(data_u.select_dtypes(\"category\"))\n",
    "backup_u = backup_u.drop(labels = [\"item_size\", \"item_color\", \"user_title\", \"user_state\"], axis = 1)\n",
    "backup_u = pd.concat([backup_u, dummies_u], axis = 1)\n",
    "#locomotive = backup.columns.get_loc(\"item_color_Other\")"
   ]
  },
  {
   "cell_type": "markdown",
   "metadata": {},
   "source": [
    "Now discard the features that were deemed unimportant by the variable importance."
   ]
  },
  {
   "cell_type": "code",
   "execution_count": 115,
   "metadata": {},
   "outputs": [],
   "source": [
    "backup = backup.drop(labels = drop_vars, axis = 1)\n",
    "backup_u = backup_u.drop(labels = drop_vars[drop_vars != \"item_color_Difference\"], axis = 1)"
   ]
  },
  {
   "cell_type": "markdown",
   "metadata": {},
   "source": [
    "We have to make sure that the ordering of the variables for the known data set matches the ordering of the unknown data set. But let us first check whether the variables are identical (except the target of course)."
   ]
  },
  {
   "cell_type": "code",
   "execution_count": 116,
   "metadata": {},
   "outputs": [
    {
     "data": {
      "text/plain": [
       "(Index(['return'], dtype='object'), Index([], dtype='object'))"
      ]
     },
     "execution_count": 116,
     "metadata": {},
     "output_type": "execute_result"
    }
   ],
   "source": [
    "backup.columns.difference(backup_u.columns), backup_u.columns.difference(backup.columns)"
   ]
  },
  {
   "cell_type": "markdown",
   "metadata": {},
   "source": [
    "As we can see item_color_Difference, i.e. item colors that appear in the known data set but not in the unknown data set is the only variable which is in the known data set but not in the unknown data set. This however, implies that any information we have on those colors regarding the prediction of the target is useless since none of the observations in the unknown data set has a dummy value of 1 regarding this variable. We therefore proceed to drop this variable from the known data set. TO DO: Write more robust code such that this exceptional case does not happen again."
   ]
  },
  {
   "cell_type": "code",
   "execution_count": null,
   "metadata": {},
   "outputs": [],
   "source": [
    "%%script false --no-raise-error\n",
    "backup = backup.drop(labels = \"item_color_Difference\", axis = 1)\n"
   ]
  },
  {
   "cell_type": "markdown",
   "metadata": {},
   "source": [
    "Finally, rearrange the variables so that the order of the unknown data set matches the order of the known data set"
   ]
  },
  {
   "cell_type": "code",
   "execution_count": 117,
   "metadata": {},
   "outputs": [],
   "source": [
    "help2 = backup.columns[backup.columns != \"return\"]\n",
    "backup_u = backup_u[help2]"
   ]
  },
  {
   "cell_type": "code",
   "execution_count": 118,
   "metadata": {},
   "outputs": [],
   "source": [
    "backup.to_pickle('./data/known_cleaned_w_dummies')\n",
    "backup_u.to_pickle('./data/unknown_cleaned_w_dummies')"
   ]
  },
  {
   "cell_type": "markdown",
   "metadata": {},
   "source": [
    "# 3. Feature Engineering"
   ]
  },
  {
   "cell_type": "code",
   "execution_count": 45,
   "metadata": {},
   "outputs": [
    {
     "data": {
      "text/plain": [
       "(1939, 135)"
      ]
     },
     "execution_count": 45,
     "metadata": {},
     "output_type": "execute_result"
    }
   ],
   "source": [
    "data[\"item_id\"].nunique(), data[\"brand_id\"].nunique()"
   ]
  },
  {
   "cell_type": "code",
   "execution_count": 43,
   "metadata": {},
   "outputs": [
    {
     "data": {
      "text/html": [
       "<div>\n",
       "<style scoped>\n",
       "    .dataframe tbody tr th:only-of-type {\n",
       "        vertical-align: middle;\n",
       "    }\n",
       "\n",
       "    .dataframe tbody tr th {\n",
       "        vertical-align: top;\n",
       "    }\n",
       "\n",
       "    .dataframe thead th {\n",
       "        text-align: right;\n",
       "    }\n",
       "</style>\n",
       "<table border=\"1\" class=\"dataframe\">\n",
       "  <thead>\n",
       "    <tr style=\"text-align: right;\">\n",
       "      <th></th>\n",
       "      <th>item_size</th>\n",
       "      <th>item_color</th>\n",
       "    </tr>\n",
       "  </thead>\n",
       "  <tbody>\n",
       "    <tr>\n",
       "      <th>count</th>\n",
       "      <td>98928</td>\n",
       "      <td>98928</td>\n",
       "    </tr>\n",
       "    <tr>\n",
       "      <th>unique</th>\n",
       "      <td>93</td>\n",
       "      <td>68</td>\n",
       "    </tr>\n",
       "    <tr>\n",
       "      <th>top</th>\n",
       "      <td>l</td>\n",
       "      <td>black</td>\n",
       "    </tr>\n",
       "    <tr>\n",
       "      <th>freq</th>\n",
       "      <td>12232</td>\n",
       "      <td>18450</td>\n",
       "    </tr>\n",
       "  </tbody>\n",
       "</table>\n",
       "</div>"
      ],
      "text/plain": [
       "       item_size item_color\n",
       "count      98928      98928\n",
       "unique        93         68\n",
       "top            l      black\n",
       "freq       12232      18450"
      ]
     },
     "execution_count": 43,
     "metadata": {},
     "output_type": "execute_result"
    }
   ],
   "source": [
    "data.loc[:, [\"item_size\", \"item_color\"]].describe()"
   ]
  },
  {
   "cell_type": "code",
   "execution_count": 44,
   "metadata": {},
   "outputs": [
    {
     "name": "stdout",
     "output_type": "stream",
     "text": [
      "<class 'pandas.core.frame.DataFrame'>\n",
      "Int64Index: 98928 entries, 1 to 100000\n",
      "Data columns (total 12 columns):\n",
      " #   Column            Non-Null Count  Dtype   \n",
      "---  ------            --------------  -----   \n",
      " 0   item_id           98928 non-null  int64   \n",
      " 1   item_size         98928 non-null  category\n",
      " 2   item_color        98928 non-null  category\n",
      " 3   brand_id          98928 non-null  int64   \n",
      " 4   item_price        98928 non-null  float64 \n",
      " 5   user_id           98928 non-null  int64   \n",
      " 6   user_title        98928 non-null  category\n",
      " 7   user_state        98928 non-null  category\n",
      " 8   return            98928 non-null  bool    \n",
      " 9   time_to_delivery  89610 non-null  float64 \n",
      " 10  user_age          90292 non-null  float64 \n",
      " 11  customer_age      98928 non-null  int64   \n",
      "dtypes: bool(1), category(4), float64(3), int64(4)\n",
      "memory usage: 6.5 MB\n"
     ]
    }
   ],
   "source": [
    "data.info()"
   ]
  },
  {
   "cell_type": "markdown",
   "metadata": {},
   "source": [
    "## MCA "
   ]
  },
  {
   "cell_type": "code",
   "execution_count": 2,
   "metadata": {},
   "outputs": [],
   "source": [
    "import matplotlib.pyplot as plt\n",
    "import seaborn as sns\n",
    "import prince # for multiple correspondence analysis"
   ]
  },
  {
   "cell_type": "code",
   "execution_count": 46,
   "metadata": {},
   "outputs": [
    {
     "data": {
      "text/html": [
       "<div>\n",
       "<style scoped>\n",
       "    .dataframe tbody tr th:only-of-type {\n",
       "        vertical-align: middle;\n",
       "    }\n",
       "\n",
       "    .dataframe tbody tr th {\n",
       "        vertical-align: top;\n",
       "    }\n",
       "\n",
       "    .dataframe thead th {\n",
       "        text-align: right;\n",
       "    }\n",
       "</style>\n",
       "<table border=\"1\" class=\"dataframe\">\n",
       "  <thead>\n",
       "    <tr style=\"text-align: right;\">\n",
       "      <th>return</th>\n",
       "      <th>False</th>\n",
       "      <th>True</th>\n",
       "    </tr>\n",
       "    <tr>\n",
       "      <th>item_size</th>\n",
       "      <th></th>\n",
       "      <th></th>\n",
       "    </tr>\n",
       "  </thead>\n",
       "  <tbody>\n",
       "    <tr>\n",
       "      <th>1</th>\n",
       "      <td>0.552632</td>\n",
       "      <td>0.447368</td>\n",
       "    </tr>\n",
       "    <tr>\n",
       "      <th>10</th>\n",
       "      <td>0.461818</td>\n",
       "      <td>0.538182</td>\n",
       "    </tr>\n",
       "    <tr>\n",
       "      <th>10+</th>\n",
       "      <td>0.505747</td>\n",
       "      <td>0.494253</td>\n",
       "    </tr>\n",
       "    <tr>\n",
       "      <th>100</th>\n",
       "      <td>0.466667</td>\n",
       "      <td>0.533333</td>\n",
       "    </tr>\n",
       "    <tr>\n",
       "      <th>104</th>\n",
       "      <td>0.824561</td>\n",
       "      <td>0.175439</td>\n",
       "    </tr>\n",
       "    <tr>\n",
       "      <th>...</th>\n",
       "      <td>...</td>\n",
       "      <td>...</td>\n",
       "    </tr>\n",
       "    <tr>\n",
       "      <th>unsized</th>\n",
       "      <td>0.726847</td>\n",
       "      <td>0.273153</td>\n",
       "    </tr>\n",
       "    <tr>\n",
       "      <th>xl</th>\n",
       "      <td>0.544578</td>\n",
       "      <td>0.455422</td>\n",
       "    </tr>\n",
       "    <tr>\n",
       "      <th>xs</th>\n",
       "      <td>0.600000</td>\n",
       "      <td>0.400000</td>\n",
       "    </tr>\n",
       "    <tr>\n",
       "      <th>xxl</th>\n",
       "      <td>0.568148</td>\n",
       "      <td>0.431852</td>\n",
       "    </tr>\n",
       "    <tr>\n",
       "      <th>xxxl</th>\n",
       "      <td>0.690476</td>\n",
       "      <td>0.309524</td>\n",
       "    </tr>\n",
       "  </tbody>\n",
       "</table>\n",
       "<p>93 rows × 2 columns</p>\n",
       "</div>"
      ],
      "text/plain": [
       "return        False     True \n",
       "item_size                    \n",
       "1          0.552632  0.447368\n",
       "10         0.461818  0.538182\n",
       "10+        0.505747  0.494253\n",
       "100        0.466667  0.533333\n",
       "104        0.824561  0.175439\n",
       "...             ...       ...\n",
       "unsized    0.726847  0.273153\n",
       "xl         0.544578  0.455422\n",
       "xs         0.600000  0.400000\n",
       "xxl        0.568148  0.431852\n",
       "xxxl       0.690476  0.309524\n",
       "\n",
       "[93 rows x 2 columns]"
      ]
     },
     "execution_count": 46,
     "metadata": {},
     "output_type": "execute_result"
    }
   ],
   "source": [
    "pd.crosstab(data_cat.item_size, data[\"return\"]).apply(lambda r: r/r.sum(), axis=1)"
   ]
  },
  {
   "cell_type": "code",
   "execution_count": 32,
   "metadata": {},
   "outputs": [
    {
     "name": "stdout",
     "output_type": "stream",
     "text": [
      "<class 'pandas.core.frame.DataFrame'>\n",
      "Int64Index: 98928 entries, 1 to 100000\n",
      "Data columns (total 5 columns):\n",
      " #   Column      Non-Null Count  Dtype   \n",
      "---  ------      --------------  -----   \n",
      " 0   item_size   98928 non-null  category\n",
      " 1   item_color  98928 non-null  category\n",
      " 2   user_title  98928 non-null  category\n",
      " 3   user_state  98928 non-null  category\n",
      " 4   return      98928 non-null  category\n",
      "dtypes: category(5)\n",
      "memory usage: 1.2 MB\n"
     ]
    },
    {
     "name": "stderr",
     "output_type": "stream",
     "text": [
      "D:\\Program Files\\Anaconda\\lib\\site-packages\\ipykernel_launcher.py:2: SettingWithCopyWarning: \n",
      "A value is trying to be set on a copy of a slice from a DataFrame.\n",
      "Try using .loc[row_indexer,col_indexer] = value instead\n",
      "\n",
      "See the caveats in the documentation: https://pandas.pydata.org/pandas-docs/stable/user_guide/indexing.html#returning-a-view-versus-a-copy\n",
      "  \n"
     ]
    }
   ],
   "source": [
    "data_cat = data.select_dtypes([\"category\", \"bool\"])\n",
    "data_cat[\"return\"] = data[\"return\"].astype(\"category\")\n",
    "data_cat.info()"
   ]
  },
  {
   "cell_type": "code",
   "execution_count": 30,
   "metadata": {},
   "outputs": [],
   "source": [
    "mca = prince.MCA(\n",
    "        n_components=2,\n",
    "        n_iter=3,\n",
    "        copy=True,\n",
    "        check_input=True,\n",
    "        engine='auto',\n",
    "        random_state=123\n",
    "        )\n"
   ]
  },
  {
   "cell_type": "code",
   "execution_count": 34,
   "metadata": {},
   "outputs": [
    {
     "data": {
      "image/png": "[encoded data removed]",
      "text/plain": [
       "<Figure size 576x720 with 1 Axes>"
      ]
     },
     "metadata": {
      "needs_background": "light"
     },
     "output_type": "display_data"
    }
   ],
   "source": [
    "churn_mca = mca.fit(data_cat)\n",
    "\n",
    "ax = churn_mca.plot_coordinates(\n",
    "        X=data_cat,\n",
    "        ax=None,\n",
    "        figsize=(8, 10),\n",
    "        show_row_points=False,\n",
    "        row_points_size=0,\n",
    "        show_row_labels=False,\n",
    "        show_column_points=True,\n",
    "        column_points_size=30,\n",
    "        show_column_labels=False,\n",
    "        legend_n_cols=1\n",
    "               ).legend(loc='center left', bbox_to_anchor=(1, 0.5))"
   ]
  },
  {
   "cell_type": "code",
   "execution_count": null,
   "metadata": {},
   "outputs": [],
   "source": []
  }
 ],
 "metadata": {
  "kernelspec": {
   "display_name": "Python 3",
   "language": "python",
   "name": "python3"
  },
  "language_info": {
   "codemirror_mode": {
    "name": "ipython",
    "version": 3
   },
   "file_extension": ".py",
   "mimetype": "text/x-python",
   "name": "python",
   "nbconvert_exporter": "python",
   "pygments_lexer": "ipython3",
   "version": "3.7.9"
  }
 },
 "nbformat": 4,
 "nbformat_minor": 4
}
