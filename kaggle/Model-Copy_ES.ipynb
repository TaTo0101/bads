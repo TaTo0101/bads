{
 "cells": [
  {
   "cell_type": "markdown",
   "metadata": {},
   "source": [
    "# Model construction"
   ]
  },
  {
   "cell_type": "markdown",
   "metadata": {},
   "source": [
    "# 0. Import Data and Modules"
   ]
  },
  {
   "cell_type": "code",
   "execution_count": 22,
   "metadata": {},
   "outputs": [],
   "source": [
    "import pandas as pd\n",
    "import numpy as np\n",
    "import statsmodels.api as sm\n",
    "import os\n",
    "from sklearn.model_selection import train_test_split\n",
    "from sklearn.model_selection import RandomizedSearchCV\n",
    "from scipy import stats\n",
    "import xgboost as xgb\n",
    "from sklearn import metrics\n",
    "from datetime import datetime\n",
    "import random\n",
    "import seaborn as sns\n",
    "import matplotlib.pyplot as plt\n",
    "from sklearn.utils import shuffle"
   ]
  },
  {
   "cell_type": "code",
   "execution_count": 3,
   "metadata": {},
   "outputs": [
    {
     "name": "stdout",
     "output_type": "stream",
     "text": [
      "<class 'pandas.core.frame.DataFrame'>\n",
      "Int64Index: 98928 entries, 1 to 100000\n",
      "Columns: 132 entries, item_id to user_state_Thuringia\n",
      "dtypes: float64(3), int64(4), uint8(125)\n",
      "memory usage: 17.8 MB\n"
     ]
    }
   ],
   "source": [
    "os.chdir(\"C:/Users/TonyG/Documents/GitHub/bads/kaggle\") # Tony\n",
    "#os.chdir(\"C:/Users/erin-/Documents/bads/kaggle\") # Erin\n",
    "#os.chdir(\"C:/Users/gotschat/Documents\") # Server\n",
    "data = pd.read_pickle('./data/known_cleaned_w_dummies')\n",
    "X = data.drop(\"return\", axis = 1)\n",
    "y = data[\"return\"]\n",
    "X.info()"
   ]
  },
  {
   "cell_type": "markdown",
   "metadata": {},
   "source": [
    "### For Preliminary version only: Create test and train sets based on the known dataset via random splitting"
   ]
  },
  {
   "cell_type": "code",
   "execution_count": 4,
   "metadata": {},
   "outputs": [],
   "source": [
    "X_train, X_test, y_train, y_test = train_test_split(X, y, test_size = 0.3, random_state = 314)"
   ]
  },
  {
   "cell_type": "markdown",
   "metadata": {},
   "source": [
    "## 1. Boosted Trees "
   ]
  },
  {
   "cell_type": "markdown",
   "metadata": {},
   "source": [
    "### 1.1 with Random Search CV and custom score function"
   ]
  },
  {
   "cell_type": "code",
   "execution_count": 5,
   "metadata": {},
   "outputs": [],
   "source": [
    "def cost_custom_score(estimator, X, y):\n",
    "    zeros = np.zeros(y.shape[0])\n",
    "    hat = 1 * estimator.predict(X)\n",
    "    val = X.loc[:, \"item_price\"]\n",
    "    score = -1 * (np.fmax(np.array(y - hat), zeros) * (0.5 + 0.1 * val) +\n",
    "                 np.fmax(np.array(hat - y), zeros) * (0.5 * val))\n",
    "    return score.sum()"
   ]
  },
  {
   "cell_type": "code",
   "execution_count": 6,
   "metadata": {},
   "outputs": [],
   "source": [
    "def cost_custom_eval(y_true, y_test, X, relative = False):\n",
    "    '''Custom Evaluation based on cost matrix\n",
    "    relative: True: return TP, FP, FN, TN, False: return the aggregated score, i.e. TP + TN + FP + FN\n",
    "    '''\n",
    "    y_true = 1 * y_true # Convert to integer\n",
    "    y_test = 1 * y_test\n",
    "    \n",
    "    zeros = np.zeros(y_true.shape[0]) # zeros for calculation\n",
    "    val = X.loc[:, \"item_price\"] # item_price of item \n",
    "    \n",
    "    TP, TN = np.array([0, 0]) # TP and TN are always 0\n",
    "    \n",
    "    # Calculate FP\n",
    "    FP = np.fmax(np.array(y_test - y_true), zeros) * (0.5 * val)\n",
    "    \n",
    "    # Calculate FN\n",
    "    FN = np.fmax(np.array(y_true - y_test), zeros) * (0.5 + 0.1 * val)\n",
    "    \n",
    "    # If clause for relative parameter\n",
    "    if(relative == True):\n",
    "        return(np.array([TP, FP.sum(), FN.sum(), TN]))\n",
    "    else:\n",
    "        return(np.sum([FP, FN]))\n",
    "    \n",
    "    #score = 1 * (np.fmax(np.array(y_true - y_test), zeros) * (0.5 + 0.1 * val) +\n",
    "    #             np.fmax(np.array(y_test - y_true), zeros) * (0.5 * val))\n",
    "    #return score.sum()"
   ]
  },
  {
   "cell_type": "markdown",
   "metadata": {},
   "source": [
    "### Reference Model Performance"
   ]
  },
  {
   "cell_type": "code",
   "execution_count": 14,
   "metadata": {},
   "outputs": [
    {
     "name": "stderr",
     "output_type": "stream",
     "text": [
      "D:\\Program Files\\Anaconda\\lib\\site-packages\\xgboost\\sklearn.py:888: UserWarning: The use of label encoder in XGBClassifier is deprecated and will be removed in a future release. To remove this warning, do the following: 1) Pass option use_label_encoder=False when constructing XGBClassifier object; and 2) Encode your labels (y) as integers starting with 0, i.e. 0, 1, 2, ..., [num_class - 1].\n",
      "  warnings.warn(label_encoder_deprecation_msg, UserWarning)\n"
     ]
    },
    {
     "name": "stdout",
     "output_type": "stream",
     "text": [
      "[13:23:11] WARNING: C:/Users/Administrator/workspace/xgboost-win64_release_1.3.0/src/learner.cc:1061: Starting in XGBoost 1.3.0, the default evaluation metric used with the objective 'binary:logistic' was changed from 'error' to 'logloss'. Explicitly set eval_metric if you'd like to restore the old behavior.\n"
     ]
    },
    {
     "data": {
      "text/plain": [
       "XGBClassifier(base_score=0.5, booster='gbtree', colsample_bylevel=1,\n",
       "              colsample_bynode=1, colsample_bytree=1, gamma=0, gpu_id=-1,\n",
       "              importance_type='gain', interaction_constraints='',\n",
       "              learning_rate=0.300000012, max_delta_step=0, max_depth=6,\n",
       "              min_child_weight=1, missing=nan, monotone_constraints='()',\n",
       "              n_estimators=100, n_jobs=8, num_parallel_tree=1, random_state=0,\n",
       "              reg_alpha=0, reg_lambda=1, scale_pos_weight=1, subsample=1,\n",
       "              tree_method='exact', validate_parameters=1, verbosity=None)"
      ]
     },
     "execution_count": 14,
     "metadata": {},
     "output_type": "execute_result"
    }
   ],
   "source": [
    "# Train a simple boosted tree classifier and calculate the custom score for this model using the X_test and y_test hold out\n",
    "ref_mod = xgb.XGBClassifier(objective = \"binary:logistic\")\n",
    "ref_mod.fit(X_train, y_train)"
   ]
  },
  {
   "cell_type": "code",
   "execution_count": 15,
   "metadata": {},
   "outputs": [
    {
     "data": {
      "text/plain": [
       "253842.318"
      ]
     },
     "execution_count": 15,
     "metadata": {},
     "output_type": "execute_result"
    }
   ],
   "source": [
    "base_perf = cost_custom_eval(y_test, 1 * ref_mod.predict(X_test), X_test)\n",
    "base_perf"
   ]
  },
  {
   "cell_type": "markdown",
   "metadata": {},
   "source": [
    "### Cross-Validation"
   ]
  },
  {
   "cell_type": "code",
   "execution_count": 29,
   "metadata": {},
   "outputs": [
    {
     "data": {
      "text/plain": [
       "3000"
      ]
     },
     "execution_count": 29,
     "metadata": {},
     "output_type": "execute_result"
    }
   ],
   "source": [
    "fixed_boosting_rnds = True # Implemented a switch whether number of boosting rounds shoul be tuned as well\n",
    "param_grid = {\"max_depth\" : np.arange(5,80, step = 5), # maximum number of nodes for each base learner\n",
    "             \"eta\" : stats.uniform(0.05, 0.70), # Learning rate\n",
    "             \"gamma\" : stats.uniform(0.05, 3), # Minimum node impurity gain required to attempt a split\n",
    "             \"lambda\" : stats.uniform(0, 8), # L2 regularization coefficent\n",
    "             \"colsample_bytree\" : np.arange(0.2, 1, step = 0.1), # proportion of features considered for each base learner\n",
    "             \"subsample\" : np.arange(0.5, 1, step = 0.1), # proportion of training data subsampled for each base learner\n",
    "             \"n_estimators\" : np.where(fixed_boosting_rnds, 15, np.arange(10, 40, step = 5))} # Number of boosting rounds; will be inreased for the winner\n",
    "    \n",
    "gbm = xgb.XGBClassifier(objective = \"binary:logistic\") # initiate estimator\n",
    "metric = \"recall\" # Scoring metric used during training\n",
    "n = 600 # number of candidates to consider\n",
    "fold = 5 # number of folds for cv\n",
    "n * fold # number of fits"
   ]
  },
  {
   "cell_type": "code",
   "execution_count": 30,
   "metadata": {},
   "outputs": [
    {
     "name": "stdout",
     "output_type": "stream",
     "text": [
      "Fitting 5 folds for each of 600 candidates, totalling 3000 fits\n"
     ]
    },
    {
     "name": "stderr",
     "output_type": "stream",
     "text": [
      "[Parallel(n_jobs=-1)]: Using backend LokyBackend with 40 concurrent workers.\n",
      "[Parallel(n_jobs=-1)]: Done 120 tasks      | elapsed: 39.4min\n",
      "[Parallel(n_jobs=-1)]: Done 370 tasks      | elapsed: 105.5min\n",
      "[Parallel(n_jobs=-1)]: Done 720 tasks      | elapsed: 201.6min\n",
      "[Parallel(n_jobs=-1)]: Done 1170 tasks      | elapsed: 333.8min\n",
      "[Parallel(n_jobs=-1)]: Done 1720 tasks      | elapsed: 487.7min\n",
      "[Parallel(n_jobs=-1)]: Done 2370 tasks      | elapsed: 696.9min\n",
      "[Parallel(n_jobs=-1)]: Done 3000 out of 3000 | elapsed: 888.2min finished\n",
      "C:\\ProgramData\\Anaconda3\\lib\\site-packages\\xgboost\\sklearn.py:888: UserWarning: The use of label encoder in XGBClassifier is deprecated and will be removed in a future release. To remove this warning, do the following: 1) Pass option use_label_encoder=False when constructing XGBClassifier object; and 2) Encode your labels (y) as integers starting with 0, i.e. 0, 1, 2, ..., [num_class - 1].\n",
      "  warnings.warn(label_encoder_deprecation_msg, UserWarning)\n"
     ]
    },
    {
     "name": "stdout",
     "output_type": "stream",
     "text": [
      "[07:23:05] WARNING: C:/Users/Administrator/workspace/xgboost-win64_release_1.3.0/src/learner.cc:1061: Starting in XGBoost 1.3.0, the default evaluation metric used with the objective 'binary:logistic' was changed from 'error' to 'logloss'. Explicitly set eval_metric if you'd like to restore the old behavior.\n"
     ]
    },
    {
     "data": {
      "text/plain": [
       "RandomizedSearchCV(cv=5,\n",
       "                   estimator=XGBClassifier(base_score=None, booster=None,\n",
       "                                           colsample_bylevel=None,\n",
       "                                           colsample_bynode=None,\n",
       "                                           colsample_bytree=None, gamma=None,\n",
       "                                           gpu_id=None, importance_type='gain',\n",
       "                                           interaction_constraints=None,\n",
       "                                           learning_rate=None,\n",
       "                                           max_delta_step=None, max_depth=None,\n",
       "                                           min_child_weight=None, missing=nan,\n",
       "                                           monotone_constraints=None,\n",
       "                                           n_estimators=100,...\n",
       "                                        'gamma': <scipy.stats._distn_infrastructure.rv_frozen object at 0x000000FBC807A430>,\n",
       "                                        'lambda': <scipy.stats._distn_infrastructure.rv_frozen object at 0x000000FBC178B760>,\n",
       "                                        'max_depth': array([ 5, 10, 15, 20, 25, 30, 35, 40, 45, 50, 55, 60, 65, 70, 75]),\n",
       "                                        'n_estimators': array([15, 15, 15, 15, 15, 15]),\n",
       "                                        'subsample': array([0.5, 0.6, 0.7, 0.8, 0.9])},\n",
       "                   random_state=321, scoring='recall', verbose=1)"
      ]
     },
     "execution_count": 30,
     "metadata": {},
     "output_type": "execute_result"
    }
   ],
   "source": [
    "randomized_auc = RandomizedSearchCV(estimator = gbm, n_iter = n, cv = fold, scoring = metric,\n",
    "                                    param_distributions = param_grid, verbose = 1, random_state = 321,\n",
    "                                   n_jobs = -1, refit = True)\n",
    "randomized_auc.fit(X_train,y_train)"
   ]
  },
  {
   "cell_type": "code",
   "execution_count": 31,
   "metadata": {},
   "outputs": [
    {
     "name": "stdout",
     "output_type": "stream",
     "text": [
      "Best Parameters: {'colsample_bytree': 0.9000000000000001, 'eta': 0.12902867757724626, 'gamma': 1.9479508080081354, 'lambda': 2.7667137866636837, 'max_depth': 5, 'n_estimators': 15, 'subsample': 0.7999999999999999}\n",
      "Best Score: -0.7402062318066368\n"
     ]
    }
   ],
   "source": [
    "print(\"Best Parameters:\", randomized_auc.best_params_)\n",
    "print(\"Best Score:\", randomized_auc.best_score_ * (-1))"
   ]
  },
  {
   "cell_type": "markdown",
   "metadata": {},
   "source": [
    "If trained on server:"
   ]
  },
  {
   "cell_type": "code",
   "execution_count": 7,
   "metadata": {},
   "outputs": [
    {
     "name": "stderr",
     "output_type": "stream",
     "text": [
      "D:\\Program Files\\Anaconda\\lib\\site-packages\\xgboost\\sklearn.py:888: UserWarning: The use of label encoder in XGBClassifier is deprecated and will be removed in a future release. To remove this warning, do the following: 1) Pass option use_label_encoder=False when constructing XGBClassifier object; and 2) Encode your labels (y) as integers starting with 0, i.e. 0, 1, 2, ..., [num_class - 1].\n",
      "  warnings.warn(label_encoder_deprecation_msg, UserWarning)\n"
     ]
    },
    {
     "name": "stdout",
     "output_type": "stream",
     "text": [
      "[0]\tvalidation_0-aucpr:0.71809\tvalidation_1-aucpr:0.55034\n",
      "[1]\tvalidation_0-aucpr:0.71667\tvalidation_1-aucpr:0.55156\n",
      "[2]\tvalidation_0-aucpr:0.73338\tvalidation_1-aucpr:0.58318\n",
      "[3]\tvalidation_0-aucpr:0.76848\tvalidation_1-aucpr:0.60412\n",
      "[4]\tvalidation_0-aucpr:0.82498\tvalidation_1-aucpr:0.63401\n",
      "[5]\tvalidation_0-aucpr:0.82491\tvalidation_1-aucpr:0.63423\n",
      "[6]\tvalidation_0-aucpr:0.82886\tvalidation_1-aucpr:0.63574\n",
      "[7]\tvalidation_0-aucpr:0.84593\tvalidation_1-aucpr:0.63410\n",
      "[8]\tvalidation_0-aucpr:0.84904\tvalidation_1-aucpr:0.63758\n",
      "[9]\tvalidation_0-aucpr:0.87032\tvalidation_1-aucpr:0.65476\n",
      "[10]\tvalidation_0-aucpr:0.87225\tvalidation_1-aucpr:0.65208\n",
      "[11]\tvalidation_0-aucpr:0.87950\tvalidation_1-aucpr:0.65324\n",
      "[12]\tvalidation_0-aucpr:0.87913\tvalidation_1-aucpr:0.65332\n",
      "[13]\tvalidation_0-aucpr:0.88268\tvalidation_1-aucpr:0.65885\n",
      "[14]\tvalidation_0-aucpr:0.87585\tvalidation_1-aucpr:0.66022\n",
      "[15]\tvalidation_0-aucpr:0.88143\tvalidation_1-aucpr:0.66440\n",
      "[16]\tvalidation_0-aucpr:0.88637\tvalidation_1-aucpr:0.66718\n",
      "[17]\tvalidation_0-aucpr:0.88619\tvalidation_1-aucpr:0.66723\n",
      "[18]\tvalidation_0-aucpr:0.88014\tvalidation_1-aucpr:0.66674\n",
      "[19]\tvalidation_0-aucpr:0.87440\tvalidation_1-aucpr:0.66556\n",
      "[20]\tvalidation_0-aucpr:0.87430\tvalidation_1-aucpr:0.66553\n",
      "[21]\tvalidation_0-aucpr:0.87425\tvalidation_1-aucpr:0.66564\n",
      "[22]\tvalidation_0-aucpr:0.87362\tvalidation_1-aucpr:0.66552\n",
      "[23]\tvalidation_0-aucpr:0.88531\tvalidation_1-aucpr:0.66729\n",
      "[24]\tvalidation_0-aucpr:0.89051\tvalidation_1-aucpr:0.67034\n",
      "[25]\tvalidation_0-aucpr:0.89225\tvalidation_1-aucpr:0.66957\n",
      "[26]\tvalidation_0-aucpr:0.89192\tvalidation_1-aucpr:0.66932\n",
      "[27]\tvalidation_0-aucpr:0.88882\tvalidation_1-aucpr:0.66858\n",
      "[28]\tvalidation_0-aucpr:0.89037\tvalidation_1-aucpr:0.67068\n",
      "[29]\tvalidation_0-aucpr:0.88740\tvalidation_1-aucpr:0.66960\n",
      "[30]\tvalidation_0-aucpr:0.88726\tvalidation_1-aucpr:0.66960\n",
      "[31]\tvalidation_0-aucpr:0.88691\tvalidation_1-aucpr:0.66944\n",
      "[32]\tvalidation_0-aucpr:0.88660\tvalidation_1-aucpr:0.66923\n",
      "[33]\tvalidation_0-aucpr:0.88253\tvalidation_1-aucpr:0.66852\n",
      "[34]\tvalidation_0-aucpr:0.88208\tvalidation_1-aucpr:0.66827\n",
      "[35]\tvalidation_0-aucpr:0.88683\tvalidation_1-aucpr:0.66817\n",
      "[36]\tvalidation_0-aucpr:0.88680\tvalidation_1-aucpr:0.66819\n",
      "[37]\tvalidation_0-aucpr:0.88723\tvalidation_1-aucpr:0.66948\n",
      "[38]\tvalidation_0-aucpr:0.89303\tvalidation_1-aucpr:0.67294\n",
      "[39]\tvalidation_0-aucpr:0.89320\tvalidation_1-aucpr:0.67346\n",
      "[40]\tvalidation_0-aucpr:0.89384\tvalidation_1-aucpr:0.67433\n",
      "[41]\tvalidation_0-aucpr:0.89225\tvalidation_1-aucpr:0.67417\n",
      "[42]\tvalidation_0-aucpr:0.89031\tvalidation_1-aucpr:0.67356\n",
      "[43]\tvalidation_0-aucpr:0.88730\tvalidation_1-aucpr:0.67310\n",
      "[44]\tvalidation_0-aucpr:0.88725\tvalidation_1-aucpr:0.67301\n",
      "[45]\tvalidation_0-aucpr:0.89004\tvalidation_1-aucpr:0.67218\n",
      "[46]\tvalidation_0-aucpr:0.88824\tvalidation_1-aucpr:0.67180\n",
      "[47]\tvalidation_0-aucpr:0.88667\tvalidation_1-aucpr:0.67119\n",
      "[48]\tvalidation_0-aucpr:0.88411\tvalidation_1-aucpr:0.67112\n",
      "[49]\tvalidation_0-aucpr:0.88260\tvalidation_1-aucpr:0.67055\n",
      "[50]\tvalidation_0-aucpr:0.88259\tvalidation_1-aucpr:0.67057\n"
     ]
    },
    {
     "data": {
      "text/plain": [
       "XGBClassifier(base_score=0.5, booster='gbtree', colsample_bylevel=1,\n",
       "              colsample_bynode=1, colsample_bytree=0.2,\n",
       "              gamma=1.1325372296171017, gpu_id=-1, importance_type='gain',\n",
       "              interaction_constraints='', learning_rate=0.054581921092903024,\n",
       "              max_delta_step=0, max_depth=25, min_child_weight=1, missing=nan,\n",
       "              monotone_constraints='()', n_estimators=300, n_jobs=8,\n",
       "              num_parallel_tree=1, random_state=321, reg_alpha=0,\n",
       "              reg_lambda=2.480681687701786, scale_pos_weight=1,\n",
       "              subsample=0.8999999999999999, tree_method='exact',\n",
       "              validate_parameters=1, verbosity=None)"
      ]
     },
     "execution_count": 7,
     "metadata": {},
     "output_type": "execute_result"
    }
   ],
   "source": [
    "#Server = 1\n",
    "switch = 0\n",
    "param_server = np.where(switch == 1, [\"eta\", \"lambda\"], [\"learning_rate\", \"reg_lambda\"])\n",
    "\n",
    "if(switch == 1):\n",
    "    params = randomized_auc.best_params_\n",
    "else:\n",
    "    # copy paste saved dictionary if not on server\n",
    "    params = {'objective': 'binary:logistic', 'use_label_encoder': True, 'base_score': 0.5, 'booster': 'gbtree', 'colsample_bylevel': 1, 'colsample_bynode': 1, 'colsample_bytree': 0.2, 'gamma': 1.1325372296171017, 'gpu_id': -1, 'importance_type': 'gain', 'interaction_constraints': '', 'learning_rate': 0.054581921092903024, 'max_delta_step': 0, 'max_depth': 25, 'min_child_weight': 1, 'monotone_constraints': '()', 'n_estimators': 200, 'n_jobs': 40, 'num_parallel_tree': 1, 'random_state': 321, 'reg_alpha': 0, 'reg_lambda': 2.480681687701786, 'scale_pos_weight': 1, 'subsample': 0.8999999999999999, 'tree_method': 'exact', 'validate_parameters': 1, 'verbosity': None}\t\n",
    "\n",
    "eval_set = [(X_train, y_train), (X_test, y_test)] # Evaluation set for early stopping\n",
    "\n",
    "randomized_auc = xgb.XGBClassifier(objective = \"binary:logistic\",\n",
    "                                   max_depth = params[\"max_depth\"],\n",
    "                                   learning_rate =  params[param_server[0]],\n",
    "                                   gamma = params[\"gamma\"],\n",
    "                                   reg_lambda = params[param_server[1]],\n",
    "                                   colsample_bytree = params[\"colsample_bytree\"],\n",
    "                                   subsample = params[\"subsample\"],\n",
    "                                   n_estimators = 300, # Train with higher number of boosting rounds as in the cv part\n",
    "                                   random_state = 321)\n",
    "randomized_auc.fit(X_train, y_train, early_stopping_rounds = 10, eval_metric = \"aucpr\", eval_set = eval_set,\n",
    "                  verbose = True) # Enable earlier stopping when within 10 rounds no improvement is observed using auc as evaluation metric"
   ]
  },
  {
   "cell_type": "code",
   "execution_count": 9,
   "metadata": {},
   "outputs": [
    {
     "data": {
      "text/plain": [
       "(40, 0.674334)"
      ]
     },
     "execution_count": 9,
     "metadata": {},
     "output_type": "execute_result"
    }
   ],
   "source": [
    "randomized_auc.best_iteration, randomized_auc.best_score"
   ]
  },
  {
   "cell_type": "markdown",
   "metadata": {},
   "source": [
    "Display evaluation performance during training"
   ]
  },
  {
   "cell_type": "code",
   "execution_count": 8,
   "metadata": {},
   "outputs": [
    {
     "data": {
      "image/png": "[encoded data removed]",
      "text/plain": [
       "<Figure size 432x288 with 1 Axes>"
      ]
     },
     "metadata": {
      "needs_background": "light"
     },
     "output_type": "display_data"
    }
   ],
   "source": [
    "from matplotlib import pyplot\n",
    "results = randomized_auc.evals_result()\n",
    "epochs = len(results['validation_0']['aucpr'])\n",
    "x_axis = range(0, epochs)\n",
    "# plot roc\n",
    "fig, ax = pyplot.subplots()\n",
    "ax.plot(x_axis, results['validation_0']['aucpr'], label='Train')\n",
    "ax.plot(x_axis, results['validation_1']['aucpr'], label='Test')\n",
    "ax.legend()\n",
    "pyplot.ylabel('ROC')\n",
    "pyplot.title('XGBoost Classification Error')\n",
    "pyplot.show()"
   ]
  },
  {
   "cell_type": "markdown",
   "metadata": {},
   "source": [
    "### Find optimal cost-cutoff"
   ]
  },
  {
   "cell_type": "markdown",
   "metadata": {},
   "source": [
    "First let us inspect, whether our model is well calibrated."
   ]
  },
  {
   "cell_type": "code",
   "execution_count": 9,
   "metadata": {},
   "outputs": [
    {
     "data": {
      "image/png": "[encoded data removed]",
      "text/plain": [
       "<Figure size 432x288 with 1 Axes>"
      ]
     },
     "metadata": {
      "needs_background": "light"
     },
     "output_type": "display_data"
    }
   ],
   "source": [
    "# Calibration curve for LogitCV\n",
    "from sklearn.calibration import calibration_curve\n",
    "\n",
    "# Get prediction probabilities\n",
    "pred_proba = randomized_auc.predict_proba(X_test)[:,1]\n",
    "\n",
    "# Calculate calibration using calibration_curve function\n",
    "prob_true, prob_pred = calibration_curve(y_test, pred_proba, n_bins = 20)\n",
    "\n",
    "# Plot results\n",
    "plt.plot(prob_pred, prob_true, marker = '.', label = 'Boosted Tree CV')  \n",
    "plt.title(\"Calibration Plot for Boosted Tree CV model\")\n",
    "plt.ylabel(\"True Probability per Bin\")\n",
    "plt.xlabel(\"Predicted Probability\") \n",
    "plt.plot([0, 1], [0, 1], linestyle = '--', label = 'Ideally Calibrated'); \n",
    "plt.legend();"
   ]
  },
  {
   "cell_type": "markdown",
   "metadata": {},
   "source": [
    "Next we do the following: Using cross-validation we employ a greedy algorithm to find optimal cost_cutoff for our model. As discussed early, the costs for FP are generally higher than the costs for FN therefore we will only display and return the cost-optimal cutoffs and not calculate a mean of those."
   ]
  },
  {
   "cell_type": "code",
   "execution_count": 10,
   "metadata": {},
   "outputs": [],
   "source": [
    "# Save function to calculate error-cost including option to adjust cutoff\n",
    "def calc_error_cost(y_probabilities, y_test, cutoff, X):\n",
    "    pred = np.where(y_probabilities >= cutoff, 1, 0)                    # convert class probabilities into class predictions\n",
    "    cost = cost_custom_eval(y_test, pred, X)  # calculate the corresponding cost\n",
    "    return [cutoff, cost]"
   ]
  },
  {
   "cell_type": "code",
   "execution_count": 11,
   "metadata": {},
   "outputs": [],
   "source": [
    "def cv_split(seq, splits):\n",
    "      return (seq[i::splits] for i in range(splits))\n",
    "\n",
    "# Define function for threshold tuning\n",
    "def lowest_error_cutoff(k, X_train_df, y_train_true, estimator):\n",
    "    cutoffs_total = [] # save best cutoff from each split here, so we can average this cutoff later\n",
    "\n",
    "    # Create a list of the index of our full data set as input, and k for the amount of splits\n",
    "    cv_split_list = list(cv_split(shuffle(X_train_df.index.values.tolist(), random_state=888), k)) \n",
    "\n",
    "    for fold, i in enumerate(cv_split_list): # for each split \n",
    "\n",
    "        temp = X_train_df.index.isin(i) # Create temp variable for data to exclude            \n",
    "        X_train_cv, y_train_cv = X_train_df.iloc[~temp], y_train_true[~temp] # Build model on all but hold out data\n",
    "        X_test_cv, y_test_cv =  X_train_df.iloc[temp], y_train_true[temp] # Test on hold out data later\n",
    "        estimator.fit(X_train_cv, y_train_cv.ravel()) # Train model\n",
    "        pred_temp_prob = estimator.predict_proba(X_test_cv)[:, 1] # Calculate class probabilities for current split\n",
    "\n",
    "        # Define empty variable to save all cutoffs and corresponding errors. This way we can extract the lowest one for this split later\n",
    "        cutoffs_cv = []\n",
    "        error_cost_cv = []\n",
    "\n",
    "        for j in  np.arange(0, 1, 0.001): # np.arrange(from, to, step-size)\n",
    "            #pred_temp = (pred_temp_prob >= j).astype(bool) # convert probabilities to class predictions\n",
    "            cutoffs_cv.append(j) # save corresponding cutoff\n",
    "            temp_cutoff_cost = calc_error_cost(pred_temp_prob, y_test_cv, j, X_test_cv) # calculate cost and cutoff using our previously function\n",
    "            error_cost_cv.append(temp_cutoff_cost[1]) # save error for the given cutoff\n",
    "\n",
    "        temp_df = pd.DataFrame({\"cutoffs\":cutoffs_cv, \"error_cost\": error_cost_cv}).sort_values(\"error_cost\")  # merge cutoffs and error cost, sort from lowest to highest by error_cost\n",
    "        print(\"This is the fold number {}\".format(fold+1),\" of the cross-validation\")\n",
    "        print(\"The lowest error on the holdout data was achieved with the following cut-off: {}\".format(temp_df.iloc[0].values[0]))\n",
    "        print(\"The corresponding error cost is: {}\".format(temp_df.iloc[0].values[1]))\n",
    "        print(\"\")\n",
    "        cutoffs_total.append(temp_df.iloc[0, 0]) # save the lowest cutoff of this split to the list so we can average it at the end\n",
    "        plt.plot(temp_df.cutoffs, temp_df.error_cost) # plot cutoffs and corresponding errors\n",
    "    return(cutoffs_total)\n"
   ]
  },
  {
   "cell_type": "code",
   "execution_count": 12,
   "metadata": {},
   "outputs": [
    {
     "name": "stderr",
     "output_type": "stream",
     "text": [
      "D:\\Program Files\\Anaconda\\lib\\site-packages\\xgboost\\sklearn.py:888: UserWarning: The use of label encoder in XGBClassifier is deprecated and will be removed in a future release. To remove this warning, do the following: 1) Pass option use_label_encoder=False when constructing XGBClassifier object; and 2) Encode your labels (y) as integers starting with 0, i.e. 0, 1, 2, ..., [num_class - 1].\n",
      "  warnings.warn(label_encoder_deprecation_msg, UserWarning)\n"
     ]
    },
    {
     "name": "stdout",
     "output_type": "stream",
     "text": [
      "[13:08:41] WARNING: C:/Users/Administrator/workspace/xgboost-win64_release_1.3.0/src/learner.cc:1061: Starting in XGBoost 1.3.0, the default evaluation metric used with the objective 'binary:logistic' was changed from 'error' to 'logloss'. Explicitly set eval_metric if you'd like to restore the old behavior.\n",
      "This is the fold number 1  of the cross-validation\n",
      "The lowest error on the holdout data was achieved with the following cut-off: 0.62\n",
      "The corresponding error cost is: 23894.736000000004\n",
      "\n"
     ]
    },
    {
     "name": "stderr",
     "output_type": "stream",
     "text": [
      "D:\\Program Files\\Anaconda\\lib\\site-packages\\xgboost\\sklearn.py:888: UserWarning: The use of label encoder in XGBClassifier is deprecated and will be removed in a future release. To remove this warning, do the following: 1) Pass option use_label_encoder=False when constructing XGBClassifier object; and 2) Encode your labels (y) as integers starting with 0, i.e. 0, 1, 2, ..., [num_class - 1].\n",
      "  warnings.warn(label_encoder_deprecation_msg, UserWarning)\n"
     ]
    },
    {
     "name": "stdout",
     "output_type": "stream",
     "text": [
      "[13:09:42] WARNING: C:/Users/Administrator/workspace/xgboost-win64_release_1.3.0/src/learner.cc:1061: Starting in XGBoost 1.3.0, the default evaluation metric used with the objective 'binary:logistic' was changed from 'error' to 'logloss'. Explicitly set eval_metric if you'd like to restore the old behavior.\n",
      "This is the fold number 2  of the cross-validation\n",
      "The lowest error on the holdout data was achieved with the following cut-off: 0.66\n",
      "The corresponding error cost is: 24688.546000000002\n",
      "\n"
     ]
    },
    {
     "name": "stderr",
     "output_type": "stream",
     "text": [
      "D:\\Program Files\\Anaconda\\lib\\site-packages\\xgboost\\sklearn.py:888: UserWarning: The use of label encoder in XGBClassifier is deprecated and will be removed in a future release. To remove this warning, do the following: 1) Pass option use_label_encoder=False when constructing XGBClassifier object; and 2) Encode your labels (y) as integers starting with 0, i.e. 0, 1, 2, ..., [num_class - 1].\n",
      "  warnings.warn(label_encoder_deprecation_msg, UserWarning)\n"
     ]
    },
    {
     "name": "stdout",
     "output_type": "stream",
     "text": [
      "[13:10:41] WARNING: C:/Users/Administrator/workspace/xgboost-win64_release_1.3.0/src/learner.cc:1061: Starting in XGBoost 1.3.0, the default evaluation metric used with the objective 'binary:logistic' was changed from 'error' to 'logloss'. Explicitly set eval_metric if you'd like to restore the old behavior.\n",
      "This is the fold number 3  of the cross-validation\n",
      "The lowest error on the holdout data was achieved with the following cut-off: 0.638\n",
      "The corresponding error cost is: 24124.308\n",
      "\n"
     ]
    },
    {
     "name": "stderr",
     "output_type": "stream",
     "text": [
      "D:\\Program Files\\Anaconda\\lib\\site-packages\\xgboost\\sklearn.py:888: UserWarning: The use of label encoder in XGBClassifier is deprecated and will be removed in a future release. To remove this warning, do the following: 1) Pass option use_label_encoder=False when constructing XGBClassifier object; and 2) Encode your labels (y) as integers starting with 0, i.e. 0, 1, 2, ..., [num_class - 1].\n",
      "  warnings.warn(label_encoder_deprecation_msg, UserWarning)\n"
     ]
    },
    {
     "name": "stdout",
     "output_type": "stream",
     "text": [
      "[13:11:37] WARNING: C:/Users/Administrator/workspace/xgboost-win64_release_1.3.0/src/learner.cc:1061: Starting in XGBoost 1.3.0, the default evaluation metric used with the objective 'binary:logistic' was changed from 'error' to 'logloss'. Explicitly set eval_metric if you'd like to restore the old behavior.\n",
      "This is the fold number 4  of the cross-validation\n",
      "The lowest error on the holdout data was achieved with the following cut-off: 0.661\n",
      "The corresponding error cost is: 24035.092\n",
      "\n"
     ]
    },
    {
     "name": "stderr",
     "output_type": "stream",
     "text": [
      "D:\\Program Files\\Anaconda\\lib\\site-packages\\xgboost\\sklearn.py:888: UserWarning: The use of label encoder in XGBClassifier is deprecated and will be removed in a future release. To remove this warning, do the following: 1) Pass option use_label_encoder=False when constructing XGBClassifier object; and 2) Encode your labels (y) as integers starting with 0, i.e. 0, 1, 2, ..., [num_class - 1].\n",
      "  warnings.warn(label_encoder_deprecation_msg, UserWarning)\n"
     ]
    },
    {
     "name": "stdout",
     "output_type": "stream",
     "text": [
      "[13:12:37] WARNING: C:/Users/Administrator/workspace/xgboost-win64_release_1.3.0/src/learner.cc:1061: Starting in XGBoost 1.3.0, the default evaluation metric used with the objective 'binary:logistic' was changed from 'error' to 'logloss'. Explicitly set eval_metric if you'd like to restore the old behavior.\n",
      "This is the fold number 5  of the cross-validation\n",
      "The lowest error on the holdout data was achieved with the following cut-off: 0.604\n",
      "The corresponding error cost is: 24444.017\n",
      "\n"
     ]
    },
    {
     "name": "stderr",
     "output_type": "stream",
     "text": [
      "D:\\Program Files\\Anaconda\\lib\\site-packages\\xgboost\\sklearn.py:888: UserWarning: The use of label encoder in XGBClassifier is deprecated and will be removed in a future release. To remove this warning, do the following: 1) Pass option use_label_encoder=False when constructing XGBClassifier object; and 2) Encode your labels (y) as integers starting with 0, i.e. 0, 1, 2, ..., [num_class - 1].\n",
      "  warnings.warn(label_encoder_deprecation_msg, UserWarning)\n"
     ]
    },
    {
     "name": "stdout",
     "output_type": "stream",
     "text": [
      "[13:13:36] WARNING: C:/Users/Administrator/workspace/xgboost-win64_release_1.3.0/src/learner.cc:1061: Starting in XGBoost 1.3.0, the default evaluation metric used with the objective 'binary:logistic' was changed from 'error' to 'logloss'. Explicitly set eval_metric if you'd like to restore the old behavior.\n",
      "This is the fold number 6  of the cross-validation\n",
      "The lowest error on the holdout data was achieved with the following cut-off: 0.625\n",
      "The corresponding error cost is: 24203.368000000002\n",
      "\n"
     ]
    },
    {
     "name": "stderr",
     "output_type": "stream",
     "text": [
      "D:\\Program Files\\Anaconda\\lib\\site-packages\\xgboost\\sklearn.py:888: UserWarning: The use of label encoder in XGBClassifier is deprecated and will be removed in a future release. To remove this warning, do the following: 1) Pass option use_label_encoder=False when constructing XGBClassifier object; and 2) Encode your labels (y) as integers starting with 0, i.e. 0, 1, 2, ..., [num_class - 1].\n",
      "  warnings.warn(label_encoder_deprecation_msg, UserWarning)\n"
     ]
    },
    {
     "name": "stdout",
     "output_type": "stream",
     "text": [
      "[13:14:37] WARNING: C:/Users/Administrator/workspace/xgboost-win64_release_1.3.0/src/learner.cc:1061: Starting in XGBoost 1.3.0, the default evaluation metric used with the objective 'binary:logistic' was changed from 'error' to 'logloss'. Explicitly set eval_metric if you'd like to restore the old behavior.\n",
      "This is the fold number 7  of the cross-validation\n",
      "The lowest error on the holdout data was achieved with the following cut-off: 0.646\n",
      "The corresponding error cost is: 24509.850000000002\n",
      "\n"
     ]
    },
    {
     "name": "stderr",
     "output_type": "stream",
     "text": [
      "D:\\Program Files\\Anaconda\\lib\\site-packages\\xgboost\\sklearn.py:888: UserWarning: The use of label encoder in XGBClassifier is deprecated and will be removed in a future release. To remove this warning, do the following: 1) Pass option use_label_encoder=False when constructing XGBClassifier object; and 2) Encode your labels (y) as integers starting with 0, i.e. 0, 1, 2, ..., [num_class - 1].\n",
      "  warnings.warn(label_encoder_deprecation_msg, UserWarning)\n"
     ]
    },
    {
     "name": "stdout",
     "output_type": "stream",
     "text": [
      "[13:15:29] WARNING: C:/Users/Administrator/workspace/xgboost-win64_release_1.3.0/src/learner.cc:1061: Starting in XGBoost 1.3.0, the default evaluation metric used with the objective 'binary:logistic' was changed from 'error' to 'logloss'. Explicitly set eval_metric if you'd like to restore the old behavior.\n",
      "This is the fold number 8  of the cross-validation\n",
      "The lowest error on the holdout data was achieved with the following cut-off: 0.655\n",
      "The corresponding error cost is: 23812.718000000004\n",
      "\n"
     ]
    },
    {
     "name": "stderr",
     "output_type": "stream",
     "text": [
      "D:\\Program Files\\Anaconda\\lib\\site-packages\\xgboost\\sklearn.py:888: UserWarning: The use of label encoder in XGBClassifier is deprecated and will be removed in a future release. To remove this warning, do the following: 1) Pass option use_label_encoder=False when constructing XGBClassifier object; and 2) Encode your labels (y) as integers starting with 0, i.e. 0, 1, 2, ..., [num_class - 1].\n",
      "  warnings.warn(label_encoder_deprecation_msg, UserWarning)\n"
     ]
    },
    {
     "name": "stdout",
     "output_type": "stream",
     "text": [
      "[13:16:19] WARNING: C:/Users/Administrator/workspace/xgboost-win64_release_1.3.0/src/learner.cc:1061: Starting in XGBoost 1.3.0, the default evaluation metric used with the objective 'binary:logistic' was changed from 'error' to 'logloss'. Explicitly set eval_metric if you'd like to restore the old behavior.\n",
      "This is the fold number 9  of the cross-validation\n",
      "The lowest error on the holdout data was achieved with the following cut-off: 0.625\n",
      "The corresponding error cost is: 24370.177000000003\n",
      "\n"
     ]
    },
    {
     "name": "stderr",
     "output_type": "stream",
     "text": [
      "D:\\Program Files\\Anaconda\\lib\\site-packages\\xgboost\\sklearn.py:888: UserWarning: The use of label encoder in XGBClassifier is deprecated and will be removed in a future release. To remove this warning, do the following: 1) Pass option use_label_encoder=False when constructing XGBClassifier object; and 2) Encode your labels (y) as integers starting with 0, i.e. 0, 1, 2, ..., [num_class - 1].\n",
      "  warnings.warn(label_encoder_deprecation_msg, UserWarning)\n"
     ]
    },
    {
     "name": "stdout",
     "output_type": "stream",
     "text": [
      "[13:17:11] WARNING: C:/Users/Administrator/workspace/xgboost-win64_release_1.3.0/src/learner.cc:1061: Starting in XGBoost 1.3.0, the default evaluation metric used with the objective 'binary:logistic' was changed from 'error' to 'logloss'. Explicitly set eval_metric if you'd like to restore the old behavior.\n",
      "This is the fold number 10  of the cross-validation\n",
      "The lowest error on the holdout data was achieved with the following cut-off: 0.641\n",
      "The corresponding error cost is: 24302.549000000003\n",
      "\n"
     ]
    },
    {
     "data": {
      "image/png": "[encoded data removed]",
      "text/plain": [
       "<Figure size 432x288 with 1 Axes>"
      ]
     },
     "metadata": {
      "needs_background": "light"
     },
     "output_type": "display_data"
    }
   ],
   "source": [
    "cutoff_candidates = lowest_error_cutoff(10, X_train, y_train, randomized_auc) # Calculate optimal cutoff candidates via 5-fold CV\n",
    "\n",
    "# Since FP < FN for almost all items (except the ones with item_price = 0) select the 0.75 quantile of the cutoffs \n",
    "cutoff_opt = np.quantile(cutoff_candidates, 0.75)\n",
    "#cutoff_opt = np.mean(cutoff_candidates)\n",
    "\n",
    "# Calculate predictions on test set\n",
    "preds = np.where(randomized_auc.predict_proba(X_test)[:, 1] >= cutoff_opt, 1, 0)"
   ]
  },
  {
   "cell_type": "markdown",
   "metadata": {},
   "source": [
    "Display custom score using the tuned model and the hold out test set and compare with base performance using the found cutoff"
   ]
  },
  {
   "cell_type": "code",
   "execution_count": 16,
   "metadata": {},
   "outputs": [
    {
     "name": "stdout",
     "output_type": "stream",
     "text": [
      "Tuned Custom Evaluation Score: 106677.881\n",
      "Base Custom Evaluation Score: 253842.318\n",
      "Tuned AUC score: 0.50931\n",
      "Base AUC Score: 0.6545\n",
      "Monkey Custom Evaluation Score: 289923.263\n",
      "Monkey AUC Score: 0.49762\n",
      "All negative Custom Evaluation Score: 106846.542\n",
      "All negative AUC Score: 0.5\n"
     ]
    }
   ],
   "source": [
    "print(\"Tuned Custom Evaluation Score:\", cost_custom_eval(y_test, 1 * preds, X_test).round(5))\n",
    "print(\"Base Custom Evaluation Score:\", base_perf.round(5))\n",
    "print(\"Tuned AUC score:\", metrics.roc_auc_score(y_test, preds).round(5))\n",
    "print(\"Base AUC Score:\", metrics.roc_auc_score(y_test, ref_mod.predict(X_test)).round(5))\n",
    "print(\"Monkey Custom Evaluation Score:\", cost_custom_eval(y_test, 1* random.choices(np.array([True, False]), k = y_test.shape[0]), X_test).round(5))\n",
    "print(\"Monkey AUC Score:\", metrics.roc_auc_score(y_test, random.choices(np.array([True, False]), k = y_test.shape[0])).round(5))\n",
    "print(\"All negative Custom Evaluation Score:\", cost_custom_eval(y_test, np.zeros(len(y_test)), X_test).round(5))\n",
    "print(\"All negative AUC Score:\", metrics.roc_auc_score(y_test, np.zeros(len(y_test))).round(5))"
   ]
  },
  {
   "cell_type": "markdown",
   "metadata": {},
   "source": [
    "Return feature importance"
   ]
  },
  {
   "cell_type": "code",
   "execution_count": null,
   "metadata": {},
   "outputs": [],
   "source": [
    "quant = pd.Series(randomized_auc.feature_importances_,\n",
    "                  index = X_train.columns).sort_values(ascending = False).quantile(q = 0.7) # get 70% quantile\n",
    "importance_trained = pd.Series(randomized_auc.feature_importances_, index = X_train.columns).sort_values(ascending = False)\n",
    "importance_trained[importance_trained >= quant] # Display only the 30% highest importance values"
   ]
  },
  {
   "cell_type": "code",
   "execution_count": null,
   "metadata": {},
   "outputs": [],
   "source": [
    "quant = pd.Series(randomized_auc.feature_importances_,\n",
    "                  index = X_train.columns).sort_values(ascending = False).quantile(q = 0.3) # get 70% quantile\n",
    "importance_trained = pd.Series(randomized_auc.feature_importances_, index = X_train.columns).sort_values(ascending = False)\n",
    "importance_trained[importance_trained < quant] # Display only the 30% lowest importance values"
   ]
  },
  {
   "cell_type": "markdown",
   "metadata": {},
   "source": [
    "Save AUC score and custom score into .txt file"
   ]
  },
  {
   "cell_type": "code",
   "execution_count": 43,
   "metadata": {},
   "outputs": [],
   "source": [
    "perf_auc = metrics.roc_auc_score(y_test, preds)\n",
    "perf_cust = cost_custom_eval(y_test, 1 * preds, X_test)\n",
    "sys_time = datetime.now().strftime(\"%d-%b-%Y (%H:%M)\")"
   ]
  },
  {
   "cell_type": "code",
   "execution_count": null,
   "metadata": {},
   "outputs": [],
   "source": [
    "%%script false --no-raise-error\n",
    "# Initiate .txt and column header, is run once\n",
    "f = open(\"results_RS.txt\", \"w+\")\n",
    "file = open(\"results_RS.txt\", \"a\")\n",
    "file.write(\"\\t\".join([\"Time\", \"\\t\\t AUC\", \"\\t Custom Score\", \"\\t Cutoff\", \"\\n\"]))\n",
    "file.close()"
   ]
  },
  {
   "cell_type": "code",
   "execution_count": 44,
   "metadata": {},
   "outputs": [],
   "source": [
    "file = open(\"results_RS.txt\", \"a\")\n",
    "file.write(\" \".join([sys_time,\"\\t\", str(perf_auc.round(5)),\"\\t\", str(perf_cust.round(5)), \"\\t\\t\", str(cutoff_opt.round(5)), \"\\n\"]))\n",
    "file.close()"
   ]
  },
  {
   "cell_type": "markdown",
   "metadata": {},
   "source": [
    "Display best parameters and best score during training"
   ]
  },
  {
   "cell_type": "code",
   "execution_count": 45,
   "metadata": {},
   "outputs": [
    {
     "name": "stdout",
     "output_type": "stream",
     "text": [
      "Best Parameters: {'objective': 'binary:logistic', 'use_label_encoder': True, 'base_score': 0.5, 'booster': 'gbtree', 'colsample_bylevel': 1, 'colsample_bynode': 1, 'colsample_bytree': 0.9000000000000001, 'gamma': 1.9479508080081354, 'gpu_id': -1, 'importance_type': 'gain', 'interaction_constraints': '', 'learning_rate': 0.12902867757724626, 'max_delta_step': 0, 'max_depth': 5, 'min_child_weight': 1, 'missing': nan, 'monotone_constraints': '()', 'n_estimators': 200, 'n_jobs': 40, 'num_parallel_tree': 1, 'random_state': 321, 'reg_alpha': 0, 'reg_lambda': 2.7667137866636837, 'scale_pos_weight': 1, 'subsample': 0.7999999999999999, 'tree_method': 'exact', 'validate_parameters': 1, 'verbosity': None}\n"
     ]
    }
   ],
   "source": [
    "print(\"Best Parameters:\", randomized_auc.get_params())"
   ]
  },
  {
   "cell_type": "markdown",
   "metadata": {},
   "source": [
    "Save hyperparameters inside a .txt file"
   ]
  },
  {
   "cell_type": "code",
   "execution_count": null,
   "metadata": {},
   "outputs": [],
   "source": [
    "%%script false --no-raise-error\n",
    "# Initiate .txt and column header, is run once\n",
    "f = open(\"hyperparams.txt\", \"w+\")\n",
    "file = open(\"hyperparams.txt\", \"a\")\n",
    "file.write(\"Hyperparameters in Dictionary format \\n\")\n",
    "file.close()"
   ]
  },
  {
   "cell_type": "code",
   "execution_count": 46,
   "metadata": {},
   "outputs": [],
   "source": [
    "file = open(\"hyperparams.txt\", \"a\")\n",
    "file.write(\"\\t\".join([sys_time, str(randomized_auc.get_params()), \"\\n\"]))\n",
    "file.close()"
   ]
  },
  {
   "cell_type": "markdown",
   "metadata": {},
   "source": [
    "Create Confusion matrix with probabilites and a custom confusion matrix based on the cost matrix"
   ]
  },
  {
   "cell_type": "code",
   "execution_count": 47,
   "metadata": {},
   "outputs": [
    {
     "data": {
      "text/plain": [
       "<sklearn.metrics._plot.confusion_matrix.ConfusionMatrixDisplay at 0xfbc6f2bee0>"
      ]
     },
     "execution_count": 47,
     "metadata": {},
     "output_type": "execute_result"
    },
    {
     "data": {
      "image/png": "[encoded data removed]",
      "text/plain": [
       "<Figure size 432x288 with 2 Axes>"
      ]
     },
     "metadata": {
      "needs_background": "light"
     },
     "output_type": "display_data"
    }
   ],
   "source": [
    "conf_matrix_preds = metrics.confusion_matrix(y_test, preds, normalize = \"all\")\n",
    "metrics.ConfusionMatrixDisplay(conf_matrix_preds).plot(cmap = plt.cm.BuGn, values_format = \".2f\")"
   ]
  },
  {
   "cell_type": "code",
   "execution_count": 48,
   "metadata": {},
   "outputs": [],
   "source": [
    "def cust_confusion_matrix(y_true, y_pred, X, normalize = True, rnd = False):\n",
    "    '''Custom Confusion Matrix with cost matrix\n",
    "    y_true: 1-d array bool\n",
    "    y_pred: 1-d array bool\n",
    "    X: n-d array of data which includes the item price for the respective observations (float)\n",
    "    normalize: True: Should the custom score be divided by the possible maximum costs?\n",
    "    rnd: True: Should the normalizing value be calculated using a monkey guessing at random which item will be returned?\n",
    "    '''\n",
    "    y_true = 1 * y_true # convert to integer\n",
    "    y_pred = 1 * y_pred # convert to integer\n",
    "    \n",
    "    # Calculate TP, FP, FN and TN\n",
    "    TP, FP, FN, TN = cost_custom_eval(y_true, y_pred, X, True)\n",
    "    \n",
    "    # If clause for random normalization\n",
    "    if(normalize == True and rnd == True):\n",
    "        # custom prediction \n",
    "        y_random_pred = random.choices(np.array([False, True]), k = y_true.shape[0])\n",
    "        FP_rel, FN_rel = cost_custom_eval(y_true, y_random_pred, X, True)[1:3] # retrieve FP rate for this case\n",
    "        results = np.array([[TP, FP/FP_rel],\n",
    "                            [FN/FN_rel, TN]])\n",
    "        return(results)\n",
    "    elif(rnd == False):\n",
    "        # If clause for normalize\n",
    "        if(normalize == True):\n",
    "            y_pred_rel_fp = np.ones(y_true.shape[0]) # Every observation is classified as one\n",
    "            FP_rel = cost_custom_eval(y_true, y_pred_rel_fp, X) # retrieve FP rate for this case\n",
    "\n",
    "            y_pred_rel_fn = np.zeros(y_true.shape[0]) # Every observation is classified as zero\n",
    "            FN_rel = cost_custom_eval(y_true, y_pred_rel_fn, X) # retrieve FN rate for this case\n",
    "            results = np.array([[TP, FP/FP_rel],\n",
    "                                [FN/FN_rel, TN]])\n",
    "            return(results)\n",
    "        else:\n",
    "            results = np.array([[TP, FP],\n",
    "                                [FN, TN]])\n",
    "            return(results)"
   ]
  },
  {
   "cell_type": "markdown",
   "metadata": {},
   "source": [
    "Intepretation of a cost matrix based confusion matrix"
   ]
  },
  {
   "cell_type": "code",
   "execution_count": 49,
   "metadata": {},
   "outputs": [
    {
     "data": {
      "text/plain": [
       "<sklearn.metrics._plot.confusion_matrix.ConfusionMatrixDisplay at 0xfbc6f20f10>"
      ]
     },
     "execution_count": 49,
     "metadata": {},
     "output_type": "execute_result"
    },
    {
     "data": {
      "image/png": "[encoded data removed]",
      "text/plain": [
       "<Figure size 432x288 with 2 Axes>"
      ]
     },
     "metadata": {
      "needs_background": "light"
     },
     "output_type": "display_data"
    }
   ],
   "source": [
    "metrics.ConfusionMatrixDisplay(cust_confusion_matrix(y_test, preds, X_test, False)).plot(cmap = plt.cm.BuGn, values_format = \".2f\")"
   ]
  },
  {
   "cell_type": "code",
   "execution_count": 50,
   "metadata": {},
   "outputs": [
    {
     "data": {
      "text/plain": [
       "<sklearn.metrics._plot.confusion_matrix.ConfusionMatrixDisplay at 0xfbbf58b430>"
      ]
     },
     "execution_count": 50,
     "metadata": {},
     "output_type": "execute_result"
    },
    {
     "data": {
      "image/png": "[encoded data removed]",
      "text/plain": [
       "<Figure size 432x288 with 2 Axes>"
      ]
     },
     "metadata": {
      "needs_background": "light"
     },
     "output_type": "display_data"
    }
   ],
   "source": [
    "metrics.ConfusionMatrixDisplay(cust_confusion_matrix(y_test, preds, X_test, True)).plot(cmap = plt.cm.BuGn,\n",
    "                                                                                        values_format = \".4f\")"
   ]
  },
  {
   "cell_type": "markdown",
   "metadata": {},
   "source": [
    "The entry [1,2] describes how our model performs compared to a model which classifies all purchases as returns. The lower this value the lower are the missed profits from not discouraging the customer to place their order. Conversely, the entry [2,1] describes how our model performed compared to a model which flags every purchase as an item which will not be returned. The lower this values the less costs occur from handling the return. "
   ]
  },
  {
   "cell_type": "markdown",
   "metadata": {},
   "source": [
    "Finally, we can compare our model in this manner with a model that randomly flags whether an item is returned using the parameter *rnd*."
   ]
  },
  {
   "cell_type": "code",
   "execution_count": 51,
   "metadata": {},
   "outputs": [
    {
     "data": {
      "text/plain": [
       "<sklearn.metrics._plot.confusion_matrix.ConfusionMatrixDisplay at 0xfbc16ba760>"
      ]
     },
     "execution_count": 51,
     "metadata": {},
     "output_type": "execute_result"
    },
    {
     "data": {
      "image/png": "[encoded data removed]",
      "text/plain": [
       "<Figure size 432x288 with 2 Axes>"
      ]
     },
     "metadata": {
      "needs_background": "light"
     },
     "output_type": "display_data"
    }
   ],
   "source": [
    "metrics.ConfusionMatrixDisplay(cust_confusion_matrix(y_test, preds, X_test, True, True)).plot(cmap = plt.cm.BuGn,\n",
    "                                                                                        values_format = \".4f\")"
   ]
  },
  {
   "cell_type": "markdown",
   "metadata": {},
   "source": [
    "Compare with an algorithm that just inteprets the target variable as Bernoulli distributed random variable, i.e. $y_i \\thicksim \\text{Bern}($p$)$. Our estimator is thus given by $\\mathbb{P}(y_i = 1 | X_i) = p$. We display $p \\in \\{0.25, 0.01\\}$ for comparison."
   ]
  },
  {
   "cell_type": "code",
   "execution_count": 52,
   "metadata": {},
   "outputs": [
    {
     "data": {
      "text/plain": [
       "<sklearn.metrics._plot.confusion_matrix.ConfusionMatrixDisplay at 0xfbb81e7c10>"
      ]
     },
     "execution_count": 52,
     "metadata": {},
     "output_type": "execute_result"
    },
    {
     "data": {
      "image/png": "[encoded data removed]",
      "text/plain": [
       "<Figure size 432x288 with 2 Axes>"
      ]
     },
     "metadata": {
      "needs_background": "light"
     },
     "output_type": "display_data"
    }
   ],
   "source": [
    "preds_bernoulli = stats.bernoulli.rvs(0.25, loc = 0, size = len(y_test))\n",
    "metrics.ConfusionMatrixDisplay(cust_confusion_matrix(y_test, preds_bernoulli, X_test, False)).plot(cmap = plt.cm.BuGn, values_format = \".2f\")"
   ]
  },
  {
   "cell_type": "code",
   "execution_count": 53,
   "metadata": {},
   "outputs": [
    {
     "data": {
      "text/plain": [
       "<sklearn.metrics._plot.confusion_matrix.ConfusionMatrixDisplay at 0xfbb8177550>"
      ]
     },
     "execution_count": 53,
     "metadata": {},
     "output_type": "execute_result"
    },
    {
     "data": {
      "image/png": "[encoded data removed]",
      "text/plain": [
       "<Figure size 432x288 with 2 Axes>"
      ]
     },
     "metadata": {
      "needs_background": "light"
     },
     "output_type": "display_data"
    }
   ],
   "source": [
    "preds_bernoulli = stats.bernoulli.rvs(0.01, loc = 0, size = len(y_test))\n",
    "metrics.ConfusionMatrixDisplay(cust_confusion_matrix(y_test, preds_bernoulli, X_test, False)).plot(cmap = plt.cm.BuGn, values_format = \".2f\")"
   ]
  },
  {
   "cell_type": "markdown",
   "metadata": {},
   "source": [
    "### Further analytics of predictions."
   ]
  },
  {
   "cell_type": "markdown",
   "metadata": {},
   "source": [
    "Create a new data frame with *item_price*, *pred_type* (TP, FN, ...), *y_true*, *y_pred* and the prediction probabilities *pred_proba*."
   ]
  },
  {
   "cell_type": "code",
   "execution_count": 63,
   "metadata": {},
   "outputs": [
    {
     "name": "stdout",
     "output_type": "stream",
     "text": [
      "<class 'pandas.core.frame.DataFrame'>\n",
      "Int64Index: 29679 entries, 3548 to 70119\n",
      "Data columns (total 5 columns):\n",
      " #   Column      Non-Null Count  Dtype   \n",
      "---  ------      --------------  -----   \n",
      " 0   item_price  29679 non-null  float64 \n",
      " 1   pred_type   29679 non-null  category\n",
      " 2   y_true      29679 non-null  bool    \n",
      " 3   y_pred      29679 non-null  bool    \n",
      " 4   pred_proba  29679 non-null  float64 \n",
      "dtypes: bool(2), category(1), float64(2)\n",
      "memory usage: 1.8 MB\n"
     ]
    }
   ],
   "source": [
    "# Create variable pred_type\n",
    "def predict_type(x, y):\n",
    "    if((x == 1) and (y == 1)):\n",
    "        return(\"TP\")\n",
    "    elif((x == 0) and (y == 1)):\n",
    "        return(\"FP\")\n",
    "    elif((x == 0) and (y == 0)):\n",
    "        return(\"TN\")\n",
    "    else:\n",
    "        return(\"FN\")\n",
    "\n",
    "pred_type = []\n",
    "\n",
    "for i in range(y_test.shape[0]):\n",
    "    pred_type.append(predict_type(1 * y_test[y_test.index[i]], preds[i]))\n",
    "    #print(y_test[i])\n",
    "#pred_type = pd.Series(pred_type, index = y_test.index).astype(\"category\")\n",
    "test = {\"item_price\" : X_test.item_price.tolist(),\n",
    "       \"pred_type\" : pred_type,\n",
    "       \"y_true\" : y_test.tolist(),\n",
    "       \"y_pred\" : list(preds.astype(bool)),\n",
    "       \"pred_proba\" : list(randomized_auc.predict_proba(X_test)[:,1])}\n",
    "data_post_proc = pd.DataFrame(test,\n",
    "             index = y_test.index,\n",
    "             columns = [\"item_price\", \"pred_type\", \"y_true\", \"y_pred\", \"pred_proba\"])\n",
    "data_post_proc.pred_type = data_post_proc.pred_type.astype(\"category\")\n",
    "data_post_proc.info()"
   ]
  },
  {
   "cell_type": "markdown",
   "metadata": {},
   "source": [
    "Display a violinplot for each prediction type with item price as the independent variable."
   ]
  },
  {
   "cell_type": "code",
   "execution_count": 101,
   "metadata": {},
   "outputs": [
    {
     "data": {
      "image/png": "[encoded data removed]",
      "text/plain": [
       "<Figure size 1008x432 with 1 Axes>"
      ]
     },
     "metadata": {},
     "output_type": "display_data"
    }
   ],
   "source": [
    "plt.figure(figsize= (14,6))\n",
    "sns.set_style(\"darkgrid\")\n",
    "sns.violinplot(y = \"pred_type\", x = \"item_price\",\n",
    "                           split=True, inner=\"quart\",\n",
    "                           data= data_post_proc, scale = \"width\", palette = \"Dark2\")\n",
    "plt.title(\"Distribution of item price for Prediction Type\")\n",
    "plt.xlabel(\"Item Price\")\n",
    "plt.ylabel(\"Prediction Type\")\n",
    "plt.xticks(np.arange(min(data_post_proc.item_price), max(data_post_proc.item_price), 100))\n",
    "plt.show()"
   ]
  },
  {
   "cell_type": "code",
   "execution_count": 104,
   "metadata": {},
   "outputs": [
    {
     "data": {
      "image/png": "[encoded data removed]",
      "text/plain": [
       "<Figure size 1008x432 with 1 Axes>"
      ]
     },
     "metadata": {},
     "output_type": "display_data"
    }
   ],
   "source": [
    "# Without outliers\n",
    "plt.figure(figsize= (14,6))\n",
    "sns.set_style(\"darkgrid\")\n",
    "sns.violinplot(y = \"pred_type\", x = \"item_price\",\n",
    "                           split=True, inner=\"quart\",\n",
    "                           data= data_post_proc[data_post_proc.item_price <= 500], scale = \"width\", palette = \"Dark2\")\n",
    "plt.title(\"Distribution of item price for Prediction Type\")\n",
    "plt.xlabel(\"Item Price\")\n",
    "plt.ylabel(\"Prediction Type\")\n",
    "plt.xticks(np.arange(min(data_post_proc.item_price), 500, 50))\n",
    "plt.show()"
   ]
  },
  {
   "cell_type": "markdown",
   "metadata": {},
   "source": [
    "Heatmap of correlation of prediction probability and item_price"
   ]
  },
  {
   "cell_type": "code",
   "execution_count": 113,
   "metadata": {},
   "outputs": [
    {
     "data": {
      "text/plain": [
       "<AxesSubplot:>"
      ]
     },
     "execution_count": 113,
     "metadata": {},
     "output_type": "execute_result"
    },
    {
     "data": {
      "image/png": "[encoded data removed]",
      "text/plain": [
       "<Figure size 432x288 with 2 Axes>"
      ]
     },
     "metadata": {},
     "output_type": "display_data"
    }
   ],
   "source": [
    "corr =  data_post_proc.loc[:, [\"item_price\", \"pred_proba\"]].corr()\n",
    "#plt.figure(figsize= (8,6))\n",
    "sns.heatmap(corr, annot = True, cmap=\"BuGn\")"
   ]
  },
  {
   "cell_type": "markdown",
   "metadata": {},
   "source": [
    "Create .csv of predictions for unknown data set"
   ]
  },
  {
   "cell_type": "code",
   "execution_count": null,
   "metadata": {},
   "outputs": [],
   "source": [
    "data_u = pd.read_pickle('./data/unknown_cleaned_w_dummies')"
   ]
  },
  {
   "cell_type": "code",
   "execution_count": null,
   "metadata": {
    "scrolled": true
   },
   "outputs": [],
   "source": [
    "preds = randomized_auc.predict_proba(data_u)[:, 1]\n",
    "predict_unknown = pd.Series(preds, index=data_u[\"item_id\"].index, name='return')\n",
    "predict_unknown.to_csv(\"first_pred.csv\")"
   ]
  }
 ],
 "metadata": {
  "kernelspec": {
   "display_name": "Python 3",
   "language": "python",
   "name": "python3"
  },
  "language_info": {
   "codemirror_mode": {
    "name": "ipython",
    "version": 3
   },
   "file_extension": ".py",
   "mimetype": "text/x-python",
   "name": "python",
   "nbconvert_exporter": "python",
   "pygments_lexer": "ipython3",
   "version": "3.7.9"
  }
 },
 "nbformat": 4,
 "nbformat_minor": 4
}
